{
 "cells": [
  {
   "cell_type": "code",
   "execution_count": 1,
   "metadata": {},
   "outputs": [],
   "source": [
    "%matplotlib inline\n",
    "\n",
    "import numpy as np\n",
    "import pandas as pd\n",
    "import matplotlib.pyplot as plt\n",
    "import seaborn as sns"
   ]
  },
  {
   "cell_type": "code",
   "execution_count": 78,
   "metadata": {},
   "outputs": [],
   "source": [
    "from sklearn.model_selection import train_test_split\n",
    "from sklearn.decomposition import PCA\n",
    "from subprocess import call\n",
    "from IPython.display import Image\n",
    "from sklearn import metrics\n",
    "from sklearn.metrics import classification_report\n",
    "from sklearn.metrics import roc_auc_score\n",
    "from imblearn.ensemble import BalanceCascade\n",
    "from sklearn.metrics import precision_recall_curve\n",
    "from imblearn.over_sampling import SMOTE\n",
    "from imblearn.under_sampling import TomekLinks\n",
    "from imblearn.under_sampling import NearMiss\n",
    "from sklearn.model_selection import GridSearchCV"
   ]
  },
  {
   "cell_type": "code",
   "execution_count": 3,
   "metadata": {},
   "outputs": [],
   "source": [
    "def dtype_compressor(df):\n",
    "  #object \n",
    "  # when unique ratio > 0.5, catogory stands less memory than object\n",
    "  converted_obj = pd.DataFrame()\n",
    "  df_obj = df.select_dtypes(include=['object'])\n",
    "  for col in df_obj.columns:\n",
    "    converted_obj.loc[:,col] = df_obj.loc[:,col].astype('category')\n",
    "\n",
    "  # numbers\n",
    "  df_down_num = pd.DataFrame()\n",
    "  df_num = df.select_dtypes(include=['number'])\n",
    "  for col in df_num.columns:\n",
    "    df_down_num.loc[:,col] = pd.to_numeric(df_num.loc[:,col],downcast='signed')\n",
    "\n",
    "  # merge\n",
    "  df = pd.concat([converted_obj,df_down_num],axis=1)\n",
    "  \n",
    "  del converted_obj, df_obj, df_down_num, df_num  \n",
    "  \n",
    "  return df"
   ]
  },
  {
   "cell_type": "code",
   "execution_count": 4,
   "metadata": {},
   "outputs": [],
   "source": [
    "def fast_datetime(s):\n",
    "    dates = {date:pd.to_datetime(date,format='%Y-%m-%d') for date in s.unique()}\n",
    "    return s.map(dates)"
   ]
  },
  {
   "cell_type": "code",
   "execution_count": 5,
   "metadata": {},
   "outputs": [],
   "source": [
    "pd.set_option('display.float_format', lambda x: '%.2f' % x)"
   ]
  },
  {
   "cell_type": "markdown",
   "metadata": {},
   "source": [
    "---"
   ]
  },
  {
   "cell_type": "markdown",
   "metadata": {},
   "source": [
    "### 讀取並觀察資料"
   ]
  },
  {
   "cell_type": "code",
   "execution_count": 6,
   "metadata": {},
   "outputs": [],
   "source": [
    "KKboxTrainMembersTransac = pd.read_csv('KKboxTrainMembersTransac.csv')"
   ]
  },
  {
   "cell_type": "code",
   "execution_count": 93,
   "metadata": {
    "scrolled": true
   },
   "outputs": [
    {
     "data": {
      "text/html": [
       "<div>\n",
       "<style scoped>\n",
       "    .dataframe tbody tr th:only-of-type {\n",
       "        vertical-align: middle;\n",
       "    }\n",
       "\n",
       "    .dataframe tbody tr th {\n",
       "        vertical-align: top;\n",
       "    }\n",
       "\n",
       "    .dataframe thead th {\n",
       "        text-align: right;\n",
       "    }\n",
       "</style>\n",
       "<table border=\"1\" class=\"dataframe\">\n",
       "  <thead>\n",
       "    <tr style=\"text-align: right;\">\n",
       "      <th></th>\n",
       "      <th>msno</th>\n",
       "      <th>registration_init_time</th>\n",
       "      <th>is_churn</th>\n",
       "      <th>bd</th>\n",
       "      <th>is_discount</th>\n",
       "      <th>amount_per_day</th>\n",
       "      <th>city__3</th>\n",
       "      <th>city__4</th>\n",
       "      <th>city__5</th>\n",
       "      <th>city__6</th>\n",
       "      <th>...</th>\n",
       "      <th>city__22</th>\n",
       "      <th>gender__0</th>\n",
       "      <th>gender__1</th>\n",
       "      <th>registered_via__4</th>\n",
       "      <th>registered_via__7</th>\n",
       "      <th>registered_via__9</th>\n",
       "      <th>registered_via__13</th>\n",
       "      <th>last_last_churn__1</th>\n",
       "      <th>last_auto_renew__1</th>\n",
       "      <th>longtime_user__1</th>\n",
       "    </tr>\n",
       "  </thead>\n",
       "  <tbody>\n",
       "    <tr>\n",
       "      <th>0</th>\n",
       "      <td>waLDQMmcOu2jLDaV1ddDkgCrB/jl6sD66Xzs0Vqax1Y=</td>\n",
       "      <td>2005-04-06</td>\n",
       "      <td>1</td>\n",
       "      <td>36</td>\n",
       "      <td>2</td>\n",
       "      <td>2.48</td>\n",
       "      <td>0</td>\n",
       "      <td>0</td>\n",
       "      <td>0</td>\n",
       "      <td>0</td>\n",
       "      <td>...</td>\n",
       "      <td>0</td>\n",
       "      <td>1</td>\n",
       "      <td>0</td>\n",
       "      <td>0</td>\n",
       "      <td>0</td>\n",
       "      <td>1</td>\n",
       "      <td>0</td>\n",
       "      <td>1</td>\n",
       "      <td>0</td>\n",
       "      <td>0</td>\n",
       "    </tr>\n",
       "    <tr>\n",
       "      <th>1</th>\n",
       "      <td>QA7uiXy8vIbUSPOkCf9RwQ3FsT8jVq2OxDr8zqa7bRQ=</td>\n",
       "      <td>2005-04-07</td>\n",
       "      <td>1</td>\n",
       "      <td>38</td>\n",
       "      <td>23</td>\n",
       "      <td>4.99</td>\n",
       "      <td>0</td>\n",
       "      <td>0</td>\n",
       "      <td>0</td>\n",
       "      <td>0</td>\n",
       "      <td>...</td>\n",
       "      <td>0</td>\n",
       "      <td>0</td>\n",
       "      <td>1</td>\n",
       "      <td>0</td>\n",
       "      <td>0</td>\n",
       "      <td>1</td>\n",
       "      <td>0</td>\n",
       "      <td>0</td>\n",
       "      <td>1</td>\n",
       "      <td>1</td>\n",
       "    </tr>\n",
       "    <tr>\n",
       "      <th>2</th>\n",
       "      <td>QA7uiXy8vIbUSPOkCf9RwQ3FsT8jVq2OxDr8zqa7bRQ=</td>\n",
       "      <td>2005-04-07</td>\n",
       "      <td>1</td>\n",
       "      <td>38</td>\n",
       "      <td>23</td>\n",
       "      <td>4.99</td>\n",
       "      <td>0</td>\n",
       "      <td>0</td>\n",
       "      <td>0</td>\n",
       "      <td>0</td>\n",
       "      <td>...</td>\n",
       "      <td>0</td>\n",
       "      <td>0</td>\n",
       "      <td>1</td>\n",
       "      <td>0</td>\n",
       "      <td>0</td>\n",
       "      <td>1</td>\n",
       "      <td>0</td>\n",
       "      <td>0</td>\n",
       "      <td>1</td>\n",
       "      <td>1</td>\n",
       "    </tr>\n",
       "    <tr>\n",
       "      <th>3</th>\n",
       "      <td>fGwBva6hikQmTJzrbz/2Ezjm5Cth5jZUNvXigKK2AFA=</td>\n",
       "      <td>2005-10-16</td>\n",
       "      <td>1</td>\n",
       "      <td>27</td>\n",
       "      <td>10</td>\n",
       "      <td>4.97</td>\n",
       "      <td>0</td>\n",
       "      <td>0</td>\n",
       "      <td>0</td>\n",
       "      <td>0</td>\n",
       "      <td>...</td>\n",
       "      <td>0</td>\n",
       "      <td>1</td>\n",
       "      <td>0</td>\n",
       "      <td>0</td>\n",
       "      <td>0</td>\n",
       "      <td>1</td>\n",
       "      <td>0</td>\n",
       "      <td>0</td>\n",
       "      <td>1</td>\n",
       "      <td>0</td>\n",
       "    </tr>\n",
       "    <tr>\n",
       "      <th>4</th>\n",
       "      <td>mT5V8rEpa+8wuqi6x0DoVd3H5icMKkE9Prt49UlmK+4=</td>\n",
       "      <td>2005-11-02</td>\n",
       "      <td>1</td>\n",
       "      <td>23</td>\n",
       "      <td>3</td>\n",
       "      <td>3.11</td>\n",
       "      <td>0</td>\n",
       "      <td>0</td>\n",
       "      <td>0</td>\n",
       "      <td>0</td>\n",
       "      <td>...</td>\n",
       "      <td>0</td>\n",
       "      <td>1</td>\n",
       "      <td>0</td>\n",
       "      <td>0</td>\n",
       "      <td>0</td>\n",
       "      <td>1</td>\n",
       "      <td>0</td>\n",
       "      <td>1</td>\n",
       "      <td>0</td>\n",
       "      <td>0</td>\n",
       "    </tr>\n",
       "  </tbody>\n",
       "</table>\n",
       "<p>5 rows × 35 columns</p>\n",
       "</div>"
      ],
      "text/plain": [
       "                                           msno registration_init_time  \\\n",
       "0  waLDQMmcOu2jLDaV1ddDkgCrB/jl6sD66Xzs0Vqax1Y=             2005-04-06   \n",
       "1  QA7uiXy8vIbUSPOkCf9RwQ3FsT8jVq2OxDr8zqa7bRQ=             2005-04-07   \n",
       "2  QA7uiXy8vIbUSPOkCf9RwQ3FsT8jVq2OxDr8zqa7bRQ=             2005-04-07   \n",
       "3  fGwBva6hikQmTJzrbz/2Ezjm5Cth5jZUNvXigKK2AFA=             2005-10-16   \n",
       "4  mT5V8rEpa+8wuqi6x0DoVd3H5icMKkE9Prt49UlmK+4=             2005-11-02   \n",
       "\n",
       "   is_churn  bd  is_discount  amount_per_day  city__3  city__4  city__5  \\\n",
       "0         1  36            2            2.48        0        0        0   \n",
       "1         1  38           23            4.99        0        0        0   \n",
       "2         1  38           23            4.99        0        0        0   \n",
       "3         1  27           10            4.97        0        0        0   \n",
       "4         1  23            3            3.11        0        0        0   \n",
       "\n",
       "   city__6  ...  city__22  gender__0  gender__1  registered_via__4  \\\n",
       "0        0  ...         0          1          0                  0   \n",
       "1        0  ...         0          0          1                  0   \n",
       "2        0  ...         0          0          1                  0   \n",
       "3        0  ...         0          1          0                  0   \n",
       "4        0  ...         0          1          0                  0   \n",
       "\n",
       "   registered_via__7  registered_via__9  registered_via__13  \\\n",
       "0                  0                  1                   0   \n",
       "1                  0                  1                   0   \n",
       "2                  0                  1                   0   \n",
       "3                  0                  1                   0   \n",
       "4                  0                  1                   0   \n",
       "\n",
       "   last_last_churn__1  last_auto_renew__1  longtime_user__1  \n",
       "0                   1                   0                 0  \n",
       "1                   0                   1                 1  \n",
       "2                   0                   1                 1  \n",
       "3                   0                   1                 0  \n",
       "4                   1                   0                 0  \n",
       "\n",
       "[5 rows x 35 columns]"
      ]
     },
     "execution_count": 93,
     "metadata": {},
     "output_type": "execute_result"
    }
   ],
   "source": [
    "KKboxTrainMembersTransac.head()"
   ]
  },
  {
   "cell_type": "code",
   "execution_count": 8,
   "metadata": {},
   "outputs": [],
   "source": [
    "KKboxTrainMembersTransac = dtype_compressor(KKboxTrainMembersTransac)"
   ]
  },
  {
   "cell_type": "code",
   "execution_count": 9,
   "metadata": {},
   "outputs": [],
   "source": [
    "d = ['registration_init_time']\n",
    "for col in d:\n",
    "  KKboxTrainMembersTransac[col] = fast_datetime(KKboxTrainMembersTransac[col])"
   ]
  },
  {
   "cell_type": "code",
   "execution_count": 10,
   "metadata": {},
   "outputs": [],
   "source": [
    "# 針對名目特徵(無序類別)做one-hot encoding，並減少一維度作為減少特徵間高相關性處理\n",
    "ToDummiesCol = ['city', 'gender', 'registered_via', 'last_last_churn',\\\n",
    "                 'last_auto_renew', 'longtime_user']\n",
    "KKboxTrainMembersTransac = pd.get_dummies(KKboxTrainMembersTransac, prefix_sep=\"__\", columns=ToDummiesCol, drop_first=True)"
   ]
  },
  {
   "cell_type": "code",
   "execution_count": 12,
   "metadata": {},
   "outputs": [
    {
     "name": "stdout",
     "output_type": "stream",
     "text": [
      "<class 'pandas.core.frame.DataFrame'>\n",
      "RangeIndex: 767924 entries, 0 to 767923\n",
      "Data columns (total 35 columns):\n",
      "msno                      767924 non-null category\n",
      "registration_init_time    767924 non-null datetime64[ns]\n",
      "is_churn                  767924 non-null int8\n",
      "bd                        767924 non-null int8\n",
      "is_discount               767924 non-null int16\n",
      "amount_per_day            767924 non-null float64\n",
      "city__3                   767924 non-null uint8\n",
      "city__4                   767924 non-null uint8\n",
      "city__5                   767924 non-null uint8\n",
      "city__6                   767924 non-null uint8\n",
      "city__7                   767924 non-null uint8\n",
      "city__8                   767924 non-null uint8\n",
      "city__9                   767924 non-null uint8\n",
      "city__10                  767924 non-null uint8\n",
      "city__11                  767924 non-null uint8\n",
      "city__12                  767924 non-null uint8\n",
      "city__13                  767924 non-null uint8\n",
      "city__14                  767924 non-null uint8\n",
      "city__15                  767924 non-null uint8\n",
      "city__16                  767924 non-null uint8\n",
      "city__17                  767924 non-null uint8\n",
      "city__18                  767924 non-null uint8\n",
      "city__19                  767924 non-null uint8\n",
      "city__20                  767924 non-null uint8\n",
      "city__21                  767924 non-null uint8\n",
      "city__22                  767924 non-null uint8\n",
      "gender__0                 767924 non-null uint8\n",
      "gender__1                 767924 non-null uint8\n",
      "registered_via__4         767924 non-null uint8\n",
      "registered_via__7         767924 non-null uint8\n",
      "registered_via__9         767924 non-null uint8\n",
      "registered_via__13        767924 non-null uint8\n",
      "last_last_churn__1        767924 non-null uint8\n",
      "last_auto_renew__1        767924 non-null uint8\n",
      "longtime_user__1          767924 non-null uint8\n",
      "dtypes: category(1), datetime64[ns](1), float64(1), int16(1), int8(2), uint8(29)\n",
      "memory usage: 100.5 MB\n"
     ]
    }
   ],
   "source": [
    "KKboxTrainMembersTransac.info(memory_usage='deep')"
   ]
  },
  {
   "cell_type": "code",
   "execution_count": 13,
   "metadata": {
    "scrolled": false
   },
   "outputs": [
    {
     "data": {
      "text/html": [
       "<div>\n",
       "<style scoped>\n",
       "    .dataframe tbody tr th:only-of-type {\n",
       "        vertical-align: middle;\n",
       "    }\n",
       "\n",
       "    .dataframe tbody tr th {\n",
       "        vertical-align: top;\n",
       "    }\n",
       "\n",
       "    .dataframe thead th {\n",
       "        text-align: right;\n",
       "    }\n",
       "</style>\n",
       "<table border=\"1\" class=\"dataframe\">\n",
       "  <thead>\n",
       "    <tr style=\"text-align: right;\">\n",
       "      <th></th>\n",
       "      <th>is_churn</th>\n",
       "      <th>bd</th>\n",
       "      <th>is_discount</th>\n",
       "      <th>amount_per_day</th>\n",
       "      <th>city__3</th>\n",
       "      <th>city__4</th>\n",
       "      <th>city__5</th>\n",
       "      <th>city__6</th>\n",
       "      <th>city__7</th>\n",
       "      <th>city__8</th>\n",
       "      <th>...</th>\n",
       "      <th>city__22</th>\n",
       "      <th>gender__0</th>\n",
       "      <th>gender__1</th>\n",
       "      <th>registered_via__4</th>\n",
       "      <th>registered_via__7</th>\n",
       "      <th>registered_via__9</th>\n",
       "      <th>registered_via__13</th>\n",
       "      <th>last_last_churn__1</th>\n",
       "      <th>last_auto_renew__1</th>\n",
       "      <th>longtime_user__1</th>\n",
       "    </tr>\n",
       "  </thead>\n",
       "  <tbody>\n",
       "    <tr>\n",
       "      <th>count</th>\n",
       "      <td>767924.00</td>\n",
       "      <td>767924.00</td>\n",
       "      <td>767924.00</td>\n",
       "      <td>767924.00</td>\n",
       "      <td>767924.00</td>\n",
       "      <td>767924.00</td>\n",
       "      <td>767924.00</td>\n",
       "      <td>767924.00</td>\n",
       "      <td>767924.00</td>\n",
       "      <td>767924.00</td>\n",
       "      <td>...</td>\n",
       "      <td>767924.00</td>\n",
       "      <td>767924.00</td>\n",
       "      <td>767924.00</td>\n",
       "      <td>767924.00</td>\n",
       "      <td>767924.00</td>\n",
       "      <td>767924.00</td>\n",
       "      <td>767924.00</td>\n",
       "      <td>767924.00</td>\n",
       "      <td>767924.00</td>\n",
       "      <td>767924.00</td>\n",
       "    </tr>\n",
       "    <tr>\n",
       "      <th>mean</th>\n",
       "      <td>0.10</td>\n",
       "      <td>29.96</td>\n",
       "      <td>18.68</td>\n",
       "      <td>4.81</td>\n",
       "      <td>0.01</td>\n",
       "      <td>0.11</td>\n",
       "      <td>0.16</td>\n",
       "      <td>0.06</td>\n",
       "      <td>0.01</td>\n",
       "      <td>0.02</td>\n",
       "      <td>...</td>\n",
       "      <td>0.10</td>\n",
       "      <td>0.46</td>\n",
       "      <td>0.52</td>\n",
       "      <td>0.07</td>\n",
       "      <td>0.19</td>\n",
       "      <td>0.52</td>\n",
       "      <td>0.00</td>\n",
       "      <td>0.01</td>\n",
       "      <td>0.78</td>\n",
       "      <td>0.44</td>\n",
       "    </tr>\n",
       "    <tr>\n",
       "      <th>std</th>\n",
       "      <td>0.30</td>\n",
       "      <td>8.89</td>\n",
       "      <td>8.38</td>\n",
       "      <td>0.59</td>\n",
       "      <td>0.11</td>\n",
       "      <td>0.31</td>\n",
       "      <td>0.37</td>\n",
       "      <td>0.24</td>\n",
       "      <td>0.08</td>\n",
       "      <td>0.13</td>\n",
       "      <td>...</td>\n",
       "      <td>0.30</td>\n",
       "      <td>0.50</td>\n",
       "      <td>0.50</td>\n",
       "      <td>0.25</td>\n",
       "      <td>0.39</td>\n",
       "      <td>0.50</td>\n",
       "      <td>0.03</td>\n",
       "      <td>0.10</td>\n",
       "      <td>0.41</td>\n",
       "      <td>0.50</td>\n",
       "    </tr>\n",
       "    <tr>\n",
       "      <th>min</th>\n",
       "      <td>0.00</td>\n",
       "      <td>13.00</td>\n",
       "      <td>2.00</td>\n",
       "      <td>0.00</td>\n",
       "      <td>0.00</td>\n",
       "      <td>0.00</td>\n",
       "      <td>0.00</td>\n",
       "      <td>0.00</td>\n",
       "      <td>0.00</td>\n",
       "      <td>0.00</td>\n",
       "      <td>...</td>\n",
       "      <td>0.00</td>\n",
       "      <td>0.00</td>\n",
       "      <td>0.00</td>\n",
       "      <td>0.00</td>\n",
       "      <td>0.00</td>\n",
       "      <td>0.00</td>\n",
       "      <td>0.00</td>\n",
       "      <td>0.00</td>\n",
       "      <td>0.00</td>\n",
       "      <td>0.00</td>\n",
       "    </tr>\n",
       "    <tr>\n",
       "      <th>25%</th>\n",
       "      <td>0.00</td>\n",
       "      <td>24.00</td>\n",
       "      <td>12.00</td>\n",
       "      <td>4.77</td>\n",
       "      <td>0.00</td>\n",
       "      <td>0.00</td>\n",
       "      <td>0.00</td>\n",
       "      <td>0.00</td>\n",
       "      <td>0.00</td>\n",
       "      <td>0.00</td>\n",
       "      <td>...</td>\n",
       "      <td>0.00</td>\n",
       "      <td>0.00</td>\n",
       "      <td>0.00</td>\n",
       "      <td>0.00</td>\n",
       "      <td>0.00</td>\n",
       "      <td>0.00</td>\n",
       "      <td>0.00</td>\n",
       "      <td>0.00</td>\n",
       "      <td>1.00</td>\n",
       "      <td>0.00</td>\n",
       "    </tr>\n",
       "    <tr>\n",
       "      <th>50%</th>\n",
       "      <td>0.00</td>\n",
       "      <td>28.00</td>\n",
       "      <td>21.00</td>\n",
       "      <td>4.94</td>\n",
       "      <td>0.00</td>\n",
       "      <td>0.00</td>\n",
       "      <td>0.00</td>\n",
       "      <td>0.00</td>\n",
       "      <td>0.00</td>\n",
       "      <td>0.00</td>\n",
       "      <td>...</td>\n",
       "      <td>0.00</td>\n",
       "      <td>0.00</td>\n",
       "      <td>1.00</td>\n",
       "      <td>0.00</td>\n",
       "      <td>0.00</td>\n",
       "      <td>1.00</td>\n",
       "      <td>0.00</td>\n",
       "      <td>0.00</td>\n",
       "      <td>1.00</td>\n",
       "      <td>0.00</td>\n",
       "    </tr>\n",
       "    <tr>\n",
       "      <th>75%</th>\n",
       "      <td>0.00</td>\n",
       "      <td>34.00</td>\n",
       "      <td>26.00</td>\n",
       "      <td>4.97</td>\n",
       "      <td>0.00</td>\n",
       "      <td>0.00</td>\n",
       "      <td>0.00</td>\n",
       "      <td>0.00</td>\n",
       "      <td>0.00</td>\n",
       "      <td>0.00</td>\n",
       "      <td>...</td>\n",
       "      <td>0.00</td>\n",
       "      <td>1.00</td>\n",
       "      <td>1.00</td>\n",
       "      <td>0.00</td>\n",
       "      <td>0.00</td>\n",
       "      <td>1.00</td>\n",
       "      <td>0.00</td>\n",
       "      <td>0.00</td>\n",
       "      <td>1.00</td>\n",
       "      <td>1.00</td>\n",
       "    </tr>\n",
       "    <tr>\n",
       "      <th>max</th>\n",
       "      <td>1.00</td>\n",
       "      <td>99.00</td>\n",
       "      <td>244.00</td>\n",
       "      <td>7.00</td>\n",
       "      <td>1.00</td>\n",
       "      <td>1.00</td>\n",
       "      <td>1.00</td>\n",
       "      <td>1.00</td>\n",
       "      <td>1.00</td>\n",
       "      <td>1.00</td>\n",
       "      <td>...</td>\n",
       "      <td>1.00</td>\n",
       "      <td>1.00</td>\n",
       "      <td>1.00</td>\n",
       "      <td>1.00</td>\n",
       "      <td>1.00</td>\n",
       "      <td>1.00</td>\n",
       "      <td>1.00</td>\n",
       "      <td>1.00</td>\n",
       "      <td>1.00</td>\n",
       "      <td>1.00</td>\n",
       "    </tr>\n",
       "  </tbody>\n",
       "</table>\n",
       "<p>8 rows × 33 columns</p>\n",
       "</div>"
      ],
      "text/plain": [
       "       is_churn        bd  is_discount  amount_per_day   city__3   city__4  \\\n",
       "count 767924.00 767924.00    767924.00       767924.00 767924.00 767924.00   \n",
       "mean       0.10     29.96        18.68            4.81      0.01      0.11   \n",
       "std        0.30      8.89         8.38            0.59      0.11      0.31   \n",
       "min        0.00     13.00         2.00            0.00      0.00      0.00   \n",
       "25%        0.00     24.00        12.00            4.77      0.00      0.00   \n",
       "50%        0.00     28.00        21.00            4.94      0.00      0.00   \n",
       "75%        0.00     34.00        26.00            4.97      0.00      0.00   \n",
       "max        1.00     99.00       244.00            7.00      1.00      1.00   \n",
       "\n",
       "        city__5   city__6   city__7   city__8  ...  city__22  gender__0  \\\n",
       "count 767924.00 767924.00 767924.00 767924.00  ... 767924.00  767924.00   \n",
       "mean       0.16      0.06      0.01      0.02  ...      0.10       0.46   \n",
       "std        0.37      0.24      0.08      0.13  ...      0.30       0.50   \n",
       "min        0.00      0.00      0.00      0.00  ...      0.00       0.00   \n",
       "25%        0.00      0.00      0.00      0.00  ...      0.00       0.00   \n",
       "50%        0.00      0.00      0.00      0.00  ...      0.00       0.00   \n",
       "75%        0.00      0.00      0.00      0.00  ...      0.00       1.00   \n",
       "max        1.00      1.00      1.00      1.00  ...      1.00       1.00   \n",
       "\n",
       "       gender__1  registered_via__4  registered_via__7  registered_via__9  \\\n",
       "count  767924.00          767924.00          767924.00          767924.00   \n",
       "mean        0.52               0.07               0.19               0.52   \n",
       "std         0.50               0.25               0.39               0.50   \n",
       "min         0.00               0.00               0.00               0.00   \n",
       "25%         0.00               0.00               0.00               0.00   \n",
       "50%         1.00               0.00               0.00               1.00   \n",
       "75%         1.00               0.00               0.00               1.00   \n",
       "max         1.00               1.00               1.00               1.00   \n",
       "\n",
       "       registered_via__13  last_last_churn__1  last_auto_renew__1  \\\n",
       "count           767924.00           767924.00           767924.00   \n",
       "mean                 0.00                0.01                0.78   \n",
       "std                  0.03                0.10                0.41   \n",
       "min                  0.00                0.00                0.00   \n",
       "25%                  0.00                0.00                1.00   \n",
       "50%                  0.00                0.00                1.00   \n",
       "75%                  0.00                0.00                1.00   \n",
       "max                  1.00                1.00                1.00   \n",
       "\n",
       "       longtime_user__1  \n",
       "count         767924.00  \n",
       "mean               0.44  \n",
       "std                0.50  \n",
       "min                0.00  \n",
       "25%                0.00  \n",
       "50%                0.00  \n",
       "75%                1.00  \n",
       "max                1.00  \n",
       "\n",
       "[8 rows x 33 columns]"
      ]
     },
     "execution_count": 13,
     "metadata": {},
     "output_type": "execute_result"
    }
   ],
   "source": [
    "KKboxTrainMembersTransac.describe()"
   ]
  },
  {
   "cell_type": "markdown",
   "metadata": {},
   "source": [
    "---"
   ]
  },
  {
   "cell_type": "markdown",
   "metadata": {},
   "source": [
    "##### 拆分訓練集與測試集"
   ]
  },
  {
   "cell_type": "code",
   "execution_count": 14,
   "metadata": {},
   "outputs": [],
   "source": [
    "X = KKboxTrainMembersTransac.iloc[:,3:]\n",
    "y = KKboxTrainMembersTransac.iloc[:,2]"
   ]
  },
  {
   "cell_type": "code",
   "execution_count": 15,
   "metadata": {},
   "outputs": [],
   "source": [
    "# from sklearn.model_selection import train_test_split\n",
    "X_train,X_test,y_train,y_test = train_test_split(X, y, test_size=0.3, random_state=87)"
   ]
  },
  {
   "cell_type": "markdown",
   "metadata": {},
   "source": [
    "##### 訓練模型"
   ]
  },
  {
   "cell_type": "code",
   "execution_count": 16,
   "metadata": {},
   "outputs": [],
   "source": [
    "from sklearn.ensemble import RandomForestClassifier"
   ]
  },
  {
   "cell_type": "code",
   "execution_count": 96,
   "metadata": {},
   "outputs": [],
   "source": [
    "RandomForestClf = RandomForestClassifier(random_state=87, n_estimators=100, criterion='gini', max_depth=30, min_samples_split=8, max_features='sqrt')"
   ]
  },
  {
   "cell_type": "code",
   "execution_count": 97,
   "metadata": {},
   "outputs": [
    {
     "data": {
      "text/plain": [
       "RandomForestClassifier(bootstrap=True, class_weight=None, criterion='gini',\n",
       "            max_depth=30, max_features='sqrt', max_leaf_nodes=None,\n",
       "            min_impurity_decrease=0.0, min_impurity_split=None,\n",
       "            min_samples_leaf=1, min_samples_split=8,\n",
       "            min_weight_fraction_leaf=0.0, n_estimators=100, n_jobs=None,\n",
       "            oob_score=False, random_state=87, verbose=0, warm_start=False)"
      ]
     },
     "execution_count": 97,
     "metadata": {},
     "output_type": "execute_result"
    }
   ],
   "source": [
    "RandomForestClf.fit(X_train, y_train)"
   ]
  },
  {
   "cell_type": "code",
   "execution_count": 98,
   "metadata": {},
   "outputs": [
    {
     "data": {
      "text/plain": [
       "0.9357747988079159"
      ]
     },
     "execution_count": 98,
     "metadata": {},
     "output_type": "execute_result"
    }
   ],
   "source": [
    "# 驗證模型準確度\n",
    "RandomForestClf.score(X=X_train, y=y_train)"
   ]
  },
  {
   "cell_type": "markdown",
   "metadata": {},
   "source": [
    "##### 預測"
   ]
  },
  {
   "cell_type": "code",
   "execution_count": 99,
   "metadata": {},
   "outputs": [],
   "source": [
    "y_pred_RandomForestClf = RandomForestClf.predict(X_test)"
   ]
  },
  {
   "cell_type": "markdown",
   "metadata": {},
   "source": [
    "##### AUC"
   ]
  },
  {
   "cell_type": "code",
   "execution_count": 100,
   "metadata": {},
   "outputs": [
    {
     "name": "stdout",
     "output_type": "stream",
     "text": [
      "AUC: 0.659\n"
     ]
    }
   ],
   "source": [
    "auc_RandomForestClf = roc_auc_score(y_test, y_pred_RandomForestClf)\n",
    "print('AUC: %.3f' % auc_RandomForestClf)"
   ]
  },
  {
   "cell_type": "markdown",
   "metadata": {},
   "source": [
    "##### 驗證"
   ]
  },
  {
   "cell_type": "code",
   "execution_count": 101,
   "metadata": {},
   "outputs": [
    {
     "name": "stdout",
     "output_type": "stream",
     "text": [
      "              precision    recall  f1-score   support\n",
      "\n",
      "           0       0.93      0.98      0.96    206774\n",
      "           1       0.71      0.33      0.45     23604\n",
      "\n",
      "   micro avg       0.92      0.92      0.92    230378\n",
      "   macro avg       0.82      0.66      0.70    230378\n",
      "weighted avg       0.91      0.92      0.90    230378\n",
      "\n"
     ]
    },
    {
     "data": {
      "image/png": "[encoded data removed]",
      "text/plain": [
       "<Figure size 432x288 with 2 Axes>"
      ]
     },
     "metadata": {
      "needs_background": "light"
     },
     "output_type": "display_data"
    }
   ],
   "source": [
    "print(metrics.classification_report(y_test, y_pred_RandomForestClf))\n",
    "cm = metrics.confusion_matrix(y_test, y_pred_RandomForestClf)\n",
    "sns.heatmap(cm, cmap=\"YlGnBu_r\", annot=True, fmt=\"d\")\n",
    "plt.show()"
   ]
  },
  {
   "cell_type": "markdown",
   "metadata": {},
   "source": [
    "##### 小結：\n",
    "* 數據不平衡造成模型對於流失(is_churn=1)容易有偏誤(視為噪音等)，故還是需要數據平衡化的資料集進行跑模型"
   ]
  },
  {
   "cell_type": "markdown",
   "metadata": {},
   "source": [
    "---"
   ]
  },
  {
   "cell_type": "markdown",
   "metadata": {},
   "source": [
    "### 使用模型class_weight參數調整類別懲罰比例—balanced"
   ]
  },
  {
   "cell_type": "code",
   "execution_count": 102,
   "metadata": {},
   "outputs": [],
   "source": [
    "RandomForestClfClassWeightBalanced = RandomForestClassifier(random_state=87, n_estimators=100, criterion='gini', max_depth=30, min_samples_split=8, max_features='sqrt', class_weight='balanced')"
   ]
  },
  {
   "cell_type": "code",
   "execution_count": 103,
   "metadata": {},
   "outputs": [
    {
     "data": {
      "text/plain": [
       "RandomForestClassifier(bootstrap=True, class_weight='balanced',\n",
       "            criterion='gini', max_depth=30, max_features='sqrt',\n",
       "            max_leaf_nodes=None, min_impurity_decrease=0.0,\n",
       "            min_impurity_split=None, min_samples_leaf=1,\n",
       "            min_samples_split=8, min_weight_fraction_leaf=0.0,\n",
       "            n_estimators=100, n_jobs=None, oob_score=False,\n",
       "            random_state=87, verbose=0, warm_start=False)"
      ]
     },
     "execution_count": 103,
     "metadata": {},
     "output_type": "execute_result"
    }
   ],
   "source": [
    "RandomForestClfClassWeightBalanced.fit(X_train, y_train)"
   ]
  },
  {
   "cell_type": "code",
   "execution_count": 104,
   "metadata": {},
   "outputs": [
    {
     "data": {
      "text/plain": [
       "0.9292823311865404"
      ]
     },
     "execution_count": 104,
     "metadata": {},
     "output_type": "execute_result"
    }
   ],
   "source": [
    "# Accuracy準確度\n",
    "RandomForestClfClassWeightBalanced.score(X=X_train, y=y_train)"
   ]
  },
  {
   "cell_type": "code",
   "execution_count": 105,
   "metadata": {},
   "outputs": [],
   "source": [
    "# 預測\n",
    "y_pred_RandomForestClfClassWeightBalanced = RandomForestClfClassWeightBalanced.predict(X_test)"
   ]
  },
  {
   "cell_type": "code",
   "execution_count": 130,
   "metadata": {},
   "outputs": [
    {
     "name": "stdout",
     "output_type": "stream",
     "text": [
      "AUC: 0.730\n"
     ]
    }
   ],
   "source": [
    "# AUC\n",
    "auc_RandomForestClfClassWeightBalanced = roc_auc_score(y_test, y_pred_RandomForestClfClassWeightBalanced)\n",
    "print('AUC: %.3f' % auc_RandomForestClfClassWeightBalanced)"
   ]
  },
  {
   "cell_type": "code",
   "execution_count": 106,
   "metadata": {
    "scrolled": false
   },
   "outputs": [
    {
     "name": "stdout",
     "output_type": "stream",
     "text": [
      "              precision    recall  f1-score   support\n",
      "\n",
      "           0       0.95      0.92      0.93    206774\n",
      "           1       0.44      0.54      0.48     23604\n",
      "\n",
      "   micro avg       0.88      0.88      0.88    230378\n",
      "   macro avg       0.69      0.73      0.71    230378\n",
      "weighted avg       0.89      0.88      0.89    230378\n",
      "\n"
     ]
    },
    {
     "data": {
      "image/png": "[encoded data removed]",
      "text/plain": [
       "<Figure size 432x288 with 2 Axes>"
      ]
     },
     "metadata": {
      "needs_background": "light"
     },
     "output_type": "display_data"
    }
   ],
   "source": [
    "# 驗證\n",
    "print(metrics.classification_report(y_test, y_pred_RandomForestClfClassWeightBalanced))\n",
    "cm = metrics.confusion_matrix(y_test, y_pred_RandomForestClfClassWeightBalanced)\n",
    "sns.heatmap(cm, cmap=\"YlGnBu_r\", annot=True, fmt=\"d\")\n",
    "plt.show()"
   ]
  },
  {
   "cell_type": "markdown",
   "metadata": {},
   "source": [
    "---"
   ]
  },
  {
   "cell_type": "markdown",
   "metadata": {},
   "source": [
    "### 使用模型class_weight參數調整類別懲罰比例"
   ]
  },
  {
   "cell_type": "code",
   "execution_count": 28,
   "metadata": {},
   "outputs": [],
   "source": [
    "class_weight_threshold = [{0:0.5, 1:0.5}, {0:0.4, 1:0.6}, {0:0.3, 1:0.7}, \\\n",
    "                          {0:0.2, 1:0.8}, {0:0.15, 1:0.85}, {0:0.1, 1:0.9}]"
   ]
  },
  {
   "cell_type": "code",
   "execution_count": 107,
   "metadata": {
    "scrolled": false
   },
   "outputs": [
    {
     "name": "stdout",
     "output_type": "stream",
     "text": [
      "--------------------------------------------------\n",
      "class_weight比例:{0: 0.5, 1: 0.5}\n",
      "Accuracy=0.94\n",
      "              precision    recall  f1-score   support\n",
      "\n",
      "           0       0.93      0.98      0.96    206774\n",
      "           1       0.71      0.33      0.45     23604\n",
      "\n",
      "   micro avg       0.92      0.92      0.92    230378\n",
      "   macro avg       0.82      0.66      0.70    230378\n",
      "weighted avg       0.91      0.92      0.90    230378\n",
      "\n"
     ]
    },
    {
     "data": {
      "image/png": "[encoded data removed]",
      "text/plain": [
       "<Figure size 432x288 with 2 Axes>"
      ]
     },
     "metadata": {
      "needs_background": "light"
     },
     "output_type": "display_data"
    },
    {
     "name": "stdout",
     "output_type": "stream",
     "text": [
      "--------------------------------------------------\n",
      "class_weight比例:{0: 0.4, 1: 0.6}\n",
      "Accuracy=0.94\n",
      "              precision    recall  f1-score   support\n",
      "\n",
      "           0       0.93      0.98      0.95    206774\n",
      "           1       0.66      0.37      0.47     23604\n",
      "\n",
      "   micro avg       0.92      0.92      0.92    230378\n",
      "   macro avg       0.80      0.67      0.71    230378\n",
      "weighted avg       0.90      0.92      0.90    230378\n",
      "\n"
     ]
    },
    {
     "data": {
      "image/png": "[encoded data removed]",
      "text/plain": [
       "<Figure size 432x288 with 2 Axes>"
      ]
     },
     "metadata": {
      "needs_background": "light"
     },
     "output_type": "display_data"
    },
    {
     "name": "stdout",
     "output_type": "stream",
     "text": [
      "--------------------------------------------------\n",
      "class_weight比例:{0: 0.3, 1: 0.7}\n",
      "Accuracy=0.94\n",
      "              precision    recall  f1-score   support\n",
      "\n",
      "           0       0.93      0.97      0.95    206774\n",
      "           1       0.61      0.41      0.49     23604\n",
      "\n",
      "   micro avg       0.91      0.91      0.91    230378\n",
      "   macro avg       0.77      0.69      0.72    230378\n",
      "weighted avg       0.90      0.91      0.90    230378\n",
      "\n"
     ]
    },
    {
     "data": {
      "image/png": "[encoded data removed]",
      "text/plain": [
       "<Figure size 432x288 with 2 Axes>"
      ]
     },
     "metadata": {
      "needs_background": "light"
     },
     "output_type": "display_data"
    },
    {
     "name": "stdout",
     "output_type": "stream",
     "text": [
      "--------------------------------------------------\n",
      "class_weight比例:{0: 0.2, 1: 0.8}\n",
      "Accuracy=0.94\n",
      "              precision    recall  f1-score   support\n",
      "\n",
      "           0       0.94      0.95      0.95    206774\n",
      "           1       0.53      0.46      0.49     23604\n",
      "\n",
      "   micro avg       0.90      0.90      0.90    230378\n",
      "   macro avg       0.73      0.71      0.72    230378\n",
      "weighted avg       0.90      0.90      0.90    230378\n",
      "\n"
     ]
    },
    {
     "data": {
      "image/png": "[encoded data removed]",
      "text/plain": [
       "<Figure size 432x288 with 2 Axes>"
      ]
     },
     "metadata": {
      "needs_background": "light"
     },
     "output_type": "display_data"
    },
    {
     "name": "stdout",
     "output_type": "stream",
     "text": [
      "--------------------------------------------------\n",
      "class_weight比例:{0: 0.1, 1: 0.9}\n",
      "Accuracy=0.93\n",
      "              precision    recall  f1-score   support\n",
      "\n",
      "           0       0.95      0.92      0.93    206774\n",
      "           1       0.44      0.54      0.48     23604\n",
      "\n",
      "   micro avg       0.88      0.88      0.88    230378\n",
      "   macro avg       0.69      0.73      0.71    230378\n",
      "weighted avg       0.89      0.88      0.89    230378\n",
      "\n"
     ]
    },
    {
     "data": {
      "image/png": "[encoded data removed]",
      "text/plain": [
       "<Figure size 432x288 with 2 Axes>"
      ]
     },
     "metadata": {
      "needs_background": "light"
     },
     "output_type": "display_data"
    }
   ],
   "source": [
    "for i in class_weight_threshold:\n",
    "    RandomForestClfClassWeight = RandomForestClassifier(random_state=87, n_estimators=100, criterion='gini', max_depth=30, min_samples_split=8, max_features='sqrt', class_weight=i)\n",
    "    RandomForestClfClassWeight.fit(X_train, y_train)\n",
    "    AccuracyOfRandomForestClfClassWeight = RandomForestClfClassWeight.score(X=X_train, y=y_train)\n",
    "    print('-'*50)\n",
    "    print('class_weight比例:{}'.format(i))\n",
    "    print('Accuracy: {:.2f}'.format(AccuracyOfRandomForestClfClassWeight))\n",
    "    y_pred_RandomForestClfClassWeight = RandomForestClfClassWeight.predict(X_test)\n",
    "    # AUC\n",
    "    auc_RandomForestClfClassWeight = roc_auc_score(y_test, y_pred_RandomForestClfClassWeight)\n",
    "    print('AUC: %.3f' % auc_RandomForestClfClassWeight)\n",
    "    # Report\n",
    "    print(metrics.classification_report(y_test, y_pred_RandomForestClfClassWeight))\n",
    "    cm = metrics.confusion_matrix(y_test, y_pred_RandomForestClfClassWeight)\n",
    "    sns.heatmap(cm, cmap=\"YlGnBu_r\", annot=True, fmt=\"d\")\n",
    "    plt.show()"
   ]
  },
  {
   "cell_type": "markdown",
   "metadata": {},
   "source": [
    "##### 小結：\n",
    "* 調整class_weight主要是針對給予少量樣本(is_churn=1)更多的懲罰(penalty)，此為解決數據不平衡問題的標準方法之一。\n",
    "* 根據使用不同懲罰比例，流失(is_churn=1)懲罰越高，Recall(召回率)越好，但即使懲罰比例達到了9成，整體模型仍呈現不是很好的結果。\n",
    "* 依照不同class_weight參數調整，'balanced'與懲罰比例90%:10%結果最相近，可視為'balanced'已為我們找到最佳的懲罰比例。"
   ]
  },
  {
   "cell_type": "markdown",
   "metadata": {},
   "source": [
    "---"
   ]
  },
  {
   "cell_type": "markdown",
   "metadata": {},
   "source": [
    "### 解決數據不平衡問題(使用Oversampling -> Smote)"
   ]
  },
  {
   "cell_type": "code",
   "execution_count": 30,
   "metadata": {},
   "outputs": [],
   "source": [
    "over_samples = SMOTE(random_state=1234)"
   ]
  },
  {
   "cell_type": "code",
   "execution_count": 31,
   "metadata": {},
   "outputs": [],
   "source": [
    "over_samples_X,over_samples_y = over_samples.fit_sample(X_train, y_train)"
   ]
  },
  {
   "cell_type": "code",
   "execution_count": 32,
   "metadata": {},
   "outputs": [
    {
     "name": "stdout",
     "output_type": "stream",
     "text": [
      "0   0.90\n",
      "1   0.10\n",
      "Name: is_churn, dtype: float64\n",
      "1   0.50\n",
      "0   0.50\n",
      "dtype: float64\n"
     ]
    }
   ],
   "source": [
    "# 重抽樣前的類別比例\n",
    "print(y_train.value_counts()/len(y_train))\n",
    "# 重抽樣後的類別比例\n",
    "print(pd.Series(over_samples_y).value_counts()/len(over_samples_y))"
   ]
  },
  {
   "cell_type": "code",
   "execution_count": 79,
   "metadata": {},
   "outputs": [],
   "source": [
    "# 使用PCA降特徵維度\n",
    "# pca = PCA(n_components=2)"
   ]
  },
  {
   "cell_type": "code",
   "execution_count": 80,
   "metadata": {},
   "outputs": [],
   "source": [
    "# over_samples_X_pca = pca.fit_transform(over_samples_X)\n",
    "# X_test_pca = pca.fit_transform(X_test)"
   ]
  },
  {
   "cell_type": "code",
   "execution_count": 86,
   "metadata": {},
   "outputs": [
    {
     "data": {
      "text/plain": [
       "RandomForestClassifier(bootstrap=True, class_weight=None, criterion='gini',\n",
       "            max_depth=30, max_features='sqrt', max_leaf_nodes=None,\n",
       "            min_impurity_decrease=0.0, min_impurity_split=None,\n",
       "            min_samples_leaf=1, min_samples_split=8,\n",
       "            min_weight_fraction_leaf=0.0, n_estimators=100, n_jobs=None,\n",
       "            oob_score=False, random_state=87, verbose=0, warm_start=False)"
      ]
     },
     "execution_count": 86,
     "metadata": {},
     "output_type": "execute_result"
    }
   ],
   "source": [
    "# 訓練模型\n",
    "RandomForestClfSmote = RandomForestClassifier(random_state=87, n_estimators=100, criterion='gini', max_depth=30, min_samples_split=8, max_features='sqrt')\n",
    "RandomForestClfSmote.fit(over_samples_X, over_samples_y)"
   ]
  },
  {
   "cell_type": "code",
   "execution_count": 87,
   "metadata": {},
   "outputs": [
    {
     "data": {
      "text/plain": [
       "0.9411881130663837"
      ]
     },
     "execution_count": 87,
     "metadata": {},
     "output_type": "execute_result"
    }
   ],
   "source": [
    "# Accuracy準確度\n",
    "RandomForestClfSmote.score(X=over_samples_X, y=over_samples_y)"
   ]
  },
  {
   "cell_type": "code",
   "execution_count": 88,
   "metadata": {},
   "outputs": [],
   "source": [
    "# 預測\n",
    "y_pred_RandomForestClfSmote = RandomForestClfSmote.predict(X_test)"
   ]
  },
  {
   "cell_type": "code",
   "execution_count": 89,
   "metadata": {},
   "outputs": [
    {
     "name": "stdout",
     "output_type": "stream",
     "text": [
      "AUC: 0.723\n"
     ]
    }
   ],
   "source": [
    "# AUC\n",
    "auc_RandomForestClfSmote = roc_auc_score(y_test, y_pred_RandomForestClfSmote)\n",
    "print('AUC: %.3f' % auc_RandomForestClfSmote)"
   ]
  },
  {
   "cell_type": "code",
   "execution_count": 90,
   "metadata": {},
   "outputs": [
    {
     "name": "stdout",
     "output_type": "stream",
     "text": [
      "              precision    recall  f1-score   support\n",
      "\n",
      "           0       0.94      0.93      0.94    206774\n",
      "           1       0.46      0.51      0.49     23604\n",
      "\n",
      "   micro avg       0.89      0.89      0.89    230378\n",
      "   macro avg       0.70      0.72      0.71    230378\n",
      "weighted avg       0.89      0.89      0.89    230378\n",
      "\n"
     ]
    },
    {
     "data": {
      "image/png": "[encoded data removed]",
      "text/plain": [
       "<Figure size 432x288 with 2 Axes>"
      ]
     },
     "metadata": {
      "needs_background": "light"
     },
     "output_type": "display_data"
    }
   ],
   "source": [
    "# 驗證\n",
    "print(metrics.classification_report(y_test, y_pred_RandomForestClfSmote))\n",
    "cm = metrics.confusion_matrix(y_test, y_pred_RandomForestClfSmote)\n",
    "sns.heatmap(cm, cmap=\"YlGnBu_r\", annot=True, fmt=\"d\")\n",
    "plt.show()"
   ]
  },
  {
   "cell_type": "markdown",
   "metadata": {},
   "source": [
    "##### Feature importance(特徵重要性)"
   ]
  },
  {
   "cell_type": "code",
   "execution_count": 95,
   "metadata": {},
   "outputs": [
    {
     "name": "stdout",
     "output_type": "stream",
     "text": [
      "Variable: last_auto_renew__1   Importance: 0.21\n",
      "Variable: is_discount          Importance: 0.19\n",
      "Variable: amount_per_day       Importance: 0.19\n",
      "Variable: bd                   Importance: 0.09\n",
      "Variable: longtime_user__1     Importance: 0.05\n",
      "Variable: registered_via__9    Importance: 0.04\n",
      "Variable: registered_via__7    Importance: 0.03\n",
      "Variable: last_last_churn__1   Importance: 0.03\n",
      "Variable: city__13             Importance: 0.02\n",
      "Variable: city__4              Importance: 0.01\n",
      "Variable: city__5              Importance: 0.01\n",
      "Variable: city__6              Importance: 0.01\n",
      "Variable: city__14             Importance: 0.01\n",
      "Variable: city__15             Importance: 0.01\n",
      "Variable: city__22             Importance: 0.01\n",
      "Variable: gender__0            Importance: 0.01\n",
      "Variable: gender__1            Importance: 0.01\n",
      "Variable: registered_via__4    Importance: 0.01\n",
      "Variable: city__3              Importance: 0.0\n",
      "Variable: city__7              Importance: 0.0\n",
      "Variable: city__8              Importance: 0.0\n",
      "Variable: city__9              Importance: 0.0\n",
      "Variable: city__10             Importance: 0.0\n",
      "Variable: city__11             Importance: 0.0\n",
      "Variable: city__12             Importance: 0.0\n",
      "Variable: city__16             Importance: 0.0\n",
      "Variable: city__17             Importance: 0.0\n",
      "Variable: city__18             Importance: 0.0\n",
      "Variable: city__19             Importance: 0.0\n",
      "Variable: city__20             Importance: 0.0\n",
      "Variable: city__21             Importance: 0.0\n",
      "Variable: registered_via__13   Importance: 0.0\n"
     ]
    },
    {
     "data": {
      "image/png": "[encoded data removed]",
      "text/plain": [
       "<Figure size 288x288 with 1 Axes>"
      ]
     },
     "metadata": {
      "needs_background": "light"
     },
     "output_type": "display_data"
    }
   ],
   "source": [
    "feature_list = list(X_train.columns)\n",
    "\n",
    "# Get numerical feature importances\n",
    "importances = list(RandomForestClfSmote.feature_importances_)\n",
    "\n",
    "# List of tuples with variable and importance\n",
    "feature_importances = [(X_train, round(importance, 2)) for X_train, importance in zip(feature_list, importances)]\n",
    "\n",
    "# Sort the feature importances by most important first\n",
    "feature_importances = sorted(feature_importances, key = lambda x: x[1], reverse = True)\n",
    "\n",
    "# Print out the feature and importances \n",
    "[print('Variable: {:20} Importance: {}'.format(*pair)) for pair in feature_importances];\n",
    "\n",
    "# 畫barplot\n",
    "fi = pd.concat([pd.DataFrame(KKboxTrainMembersTransac.columns[3:], columns = ['feature']), pd.DataFrame({'fscore':RandomForestClfSmote.feature_importances_})], axis=1, sort=False)\n",
    "fi['fscore'] = fi['fscore'] / fi['fscore'].max()\n",
    "fi.sort_values('fscore', ascending = True, inplace = True)\n",
    "fi.plot(kind='barh', x='feature', y='fscore', legend=False, figsize=(4, 4))\n",
    "plt.title('Random forest feature importance', fontsize = 10)\n",
    "plt.xlabel('')\n",
    "plt.ylabel('')\n",
    "plt.show()"
   ]
  },
  {
   "cell_type": "markdown",
   "metadata": {},
   "source": [
    "##### 小結：\n",
    "* 使用Smote(Oversampling)比調整class_weight懲罰比例要好點(Recall, F-score較好)，但對於正樣本(is_churn=1)預測仍有很大優化空間。"
   ]
  },
  {
   "cell_type": "markdown",
   "metadata": {},
   "source": [
    "---"
   ]
  },
  {
   "cell_type": "markdown",
   "metadata": {},
   "source": [
    "### 解決數據不平衡問題(使用Undersampling -> Tomek Links)"
   ]
  },
  {
   "cell_type": "markdown",
   "metadata": {},
   "source": [
    "##### Tomek Links定義\n",
    "* 相反類別中相鄰最近的兩點稱為Tomek Links對，表示這對Tomek Links中有一點如果不是噪音，就是位於類別交界處，可進行數據清洗掉這個多餘的點\n",
    "\n",
    "##### 一般使用Tomek Links有兩種用途:\n",
    "* Undersampling\n",
    "* 數據清洗:將Tomek Links對中的兩個樣本刪除"
   ]
  },
  {
   "cell_type": "code",
   "execution_count": 38,
   "metadata": {},
   "outputs": [],
   "source": [
    "# 將訓練集做Tomek Links(Undersampling)\n",
    "tl = TomekLinks()\n",
    "X_train_tl, y_train_tl = tl.fit_resample(X_train, y_train)"
   ]
  },
  {
   "cell_type": "code",
   "execution_count": 108,
   "metadata": {},
   "outputs": [],
   "source": [
    "RandomForestClfTomekLinks = RandomForestClassifier(random_state=87, n_estimators=100, criterion='gini', max_depth=30, min_samples_split=8, max_features='sqrt')"
   ]
  },
  {
   "cell_type": "code",
   "execution_count": 109,
   "metadata": {},
   "outputs": [
    {
     "data": {
      "text/plain": [
       "RandomForestClassifier(bootstrap=True, class_weight=None, criterion='gini',\n",
       "            max_depth=30, max_features='sqrt', max_leaf_nodes=None,\n",
       "            min_impurity_decrease=0.0, min_impurity_split=None,\n",
       "            min_samples_leaf=1, min_samples_split=8,\n",
       "            min_weight_fraction_leaf=0.0, n_estimators=100, n_jobs=None,\n",
       "            oob_score=False, random_state=87, verbose=0, warm_start=False)"
      ]
     },
     "execution_count": 109,
     "metadata": {},
     "output_type": "execute_result"
    }
   ],
   "source": [
    "RandomForestClfTomekLinks.fit(X_train_tl, y_train_tl)"
   ]
  },
  {
   "cell_type": "code",
   "execution_count": 110,
   "metadata": {},
   "outputs": [
    {
     "data": {
      "text/plain": [
       "0.9370745553598985"
      ]
     },
     "execution_count": 110,
     "metadata": {},
     "output_type": "execute_result"
    }
   ],
   "source": [
    "# Accuracy\n",
    "RandomForestClfTomekLinks.score(X=X_train_tl, y=y_train_tl)"
   ]
  },
  {
   "cell_type": "code",
   "execution_count": 111,
   "metadata": {},
   "outputs": [],
   "source": [
    "# 預測\n",
    "y_pred_RandomForestClfTomekLinks = RandomForestClfTomekLinks.predict(X_test)"
   ]
  },
  {
   "cell_type": "code",
   "execution_count": 112,
   "metadata": {},
   "outputs": [
    {
     "name": "stdout",
     "output_type": "stream",
     "text": [
      "AUC: 0.666\n"
     ]
    }
   ],
   "source": [
    "# AUC\n",
    "auc_RandomForestClfTomekLinks = roc_auc_score(y_test, y_pred_RandomForestClfTomekLinks)\n",
    "print('AUC: %.3f' % auc_RandomForestClfTomekLinks)"
   ]
  },
  {
   "cell_type": "code",
   "execution_count": 113,
   "metadata": {},
   "outputs": [
    {
     "name": "stdout",
     "output_type": "stream",
     "text": [
      "              precision    recall  f1-score   support\n",
      "\n",
      "           0       0.93      0.98      0.96    206774\n",
      "           1       0.69      0.35      0.46     23604\n",
      "\n",
      "   micro avg       0.92      0.92      0.92    230378\n",
      "   macro avg       0.81      0.67      0.71    230378\n",
      "weighted avg       0.91      0.92      0.90    230378\n",
      "\n"
     ]
    },
    {
     "data": {
      "image/png": "[encoded data removed]",
      "text/plain": [
       "<Figure size 432x288 with 2 Axes>"
      ]
     },
     "metadata": {
      "needs_background": "light"
     },
     "output_type": "display_data"
    }
   ],
   "source": [
    "# 驗證\n",
    "print(metrics.classification_report(y_test, y_pred_RandomForestClfTomekLinks))\n",
    "cm = metrics.confusion_matrix(y_test, y_pred_RandomForestClfTomekLinks)\n",
    "sns.heatmap(cm, cmap=\"YlGnBu_r\", annot=True, fmt=\"d\")\n",
    "plt.show()"
   ]
  },
  {
   "cell_type": "markdown",
   "metadata": {},
   "source": [
    "##### 小結：\n",
    "* 使用Tomek Links(Undersampling)結果較Raw Data未做任何處理稍微好點，但似乎也不算太好，來嘗試Smote+Tomek Links吧!"
   ]
  },
  {
   "cell_type": "markdown",
   "metadata": {},
   "source": [
    "---"
   ]
  },
  {
   "cell_type": "markdown",
   "metadata": {},
   "source": [
    "### 解決數據不平衡問題(使用Smote+Tomek Links)"
   ]
  },
  {
   "cell_type": "code",
   "execution_count": 45,
   "metadata": {},
   "outputs": [],
   "source": [
    "tl = TomekLinks()\n",
    "X_train_smote_tl, y_train_smote_tl = tl.fit_resample(over_samples_X, over_samples_y)"
   ]
  },
  {
   "cell_type": "code",
   "execution_count": 114,
   "metadata": {},
   "outputs": [],
   "source": [
    "RandomForestClfSmoteTomekLinks = RandomForestClassifier(random_state=87, n_estimators=100, criterion='gini', max_depth=30, min_samples_split=8, max_features='sqrt')"
   ]
  },
  {
   "cell_type": "code",
   "execution_count": 115,
   "metadata": {},
   "outputs": [
    {
     "data": {
      "text/plain": [
       "RandomForestClassifier(bootstrap=True, class_weight=None, criterion='gini',\n",
       "            max_depth=30, max_features='sqrt', max_leaf_nodes=None,\n",
       "            min_impurity_decrease=0.0, min_impurity_split=None,\n",
       "            min_samples_leaf=1, min_samples_split=8,\n",
       "            min_weight_fraction_leaf=0.0, n_estimators=100, n_jobs=None,\n",
       "            oob_score=False, random_state=87, verbose=0, warm_start=False)"
      ]
     },
     "execution_count": 115,
     "metadata": {},
     "output_type": "execute_result"
    }
   ],
   "source": [
    "RandomForestClfSmoteTomekLinks.fit(X_train_smote_tl, y_train_smote_tl)"
   ]
  },
  {
   "cell_type": "code",
   "execution_count": 116,
   "metadata": {},
   "outputs": [
    {
     "data": {
      "text/plain": [
       "0.9420899862398422"
      ]
     },
     "execution_count": 116,
     "metadata": {},
     "output_type": "execute_result"
    }
   ],
   "source": [
    "# Accuracyy\n",
    "RandomForestClfSmoteTomekLinks.score(X=X_train_smote_tl, y=y_train_smote_tl)"
   ]
  },
  {
   "cell_type": "code",
   "execution_count": 117,
   "metadata": {},
   "outputs": [],
   "source": [
    "# 預測\n",
    "y_pred_RandomForestClfSmoteTomekLinks = RandomForestClfSmoteTomekLinks.predict(X_test)"
   ]
  },
  {
   "cell_type": "code",
   "execution_count": 118,
   "metadata": {},
   "outputs": [
    {
     "name": "stdout",
     "output_type": "stream",
     "text": [
      "AUC: 0.722\n"
     ]
    }
   ],
   "source": [
    "# AUC\n",
    "auc_RandomForestClfSmoteTomekLinks = roc_auc_score(y_test, y_pred_RandomForestClfSmoteTomekLinks)\n",
    "print('AUC: %.3f' % auc_RandomForestClfSmoteTomekLinks)"
   ]
  },
  {
   "cell_type": "code",
   "execution_count": 119,
   "metadata": {},
   "outputs": [
    {
     "name": "stdout",
     "output_type": "stream",
     "text": [
      "              precision    recall  f1-score   support\n",
      "\n",
      "           0       0.94      0.93      0.94    206774\n",
      "           1       0.47      0.51      0.49     23604\n",
      "\n",
      "   micro avg       0.89      0.89      0.89    230378\n",
      "   macro avg       0.70      0.72      0.71    230378\n",
      "weighted avg       0.89      0.89      0.89    230378\n",
      "\n"
     ]
    },
    {
     "data": {
      "image/png": "[encoded data removed]",
      "text/plain": [
       "<Figure size 432x288 with 2 Axes>"
      ]
     },
     "metadata": {
      "needs_background": "light"
     },
     "output_type": "display_data"
    }
   ],
   "source": [
    "# 驗證\n",
    "print(metrics.classification_report(y_test, y_pred_RandomForestClfSmoteTomekLinks))\n",
    "cm = metrics.confusion_matrix(y_test, y_pred_RandomForestClfSmoteTomekLinks)\n",
    "sns.heatmap(cm, cmap=\"YlGnBu_r\", annot=True, fmt=\"d\")\n",
    "plt.show()"
   ]
  },
  {
   "cell_type": "markdown",
   "metadata": {},
   "source": [
    "##### 小結：\n",
    "* Smote+Tomek Links比較Smote並無太多優化。"
   ]
  },
  {
   "cell_type": "markdown",
   "metadata": {},
   "source": [
    "---"
   ]
  },
  {
   "cell_type": "markdown",
   "metadata": {},
   "source": [
    "### 解決數據不平衡問題(使用Undersampling -> NearMiss)"
   ]
  },
  {
   "cell_type": "markdown",
   "metadata": {},
   "source": [
    "##### Near Miss\n",
    "* 根據查詢Near Miss定義，是一種KNN方式，將多數樣本(is_churn=0)選擇與最近的3個少數樣本(is_churn=1)的平均距離最小的樣本，整體是做Undersampling。"
   ]
  },
  {
   "cell_type": "code",
   "execution_count": 52,
   "metadata": {},
   "outputs": [],
   "source": [
    "nr = NearMiss()\n",
    "X_train_nr, y_train_nr = nr.fit_sample(X_train, y_train)"
   ]
  },
  {
   "cell_type": "code",
   "execution_count": 120,
   "metadata": {},
   "outputs": [
    {
     "data": {
      "text/plain": [
       "RandomForestClassifier(bootstrap=True, class_weight=None, criterion='gini',\n",
       "            max_depth=30, max_features='sqrt', max_leaf_nodes=None,\n",
       "            min_impurity_decrease=0.0, min_impurity_split=None,\n",
       "            min_samples_leaf=1, min_samples_split=8,\n",
       "            min_weight_fraction_leaf=0.0, n_estimators=100, n_jobs=None,\n",
       "            oob_score=False, random_state=87, verbose=0, warm_start=False)"
      ]
     },
     "execution_count": 120,
     "metadata": {},
     "output_type": "execute_result"
    }
   ],
   "source": [
    "# 訓練模型\n",
    "RandomForestClfNr = RandomForestClassifier(random_state=87, n_estimators=100, criterion='gini', max_depth=30, min_samples_split=8, max_features='sqrt')\n",
    "RandomForestClfNr.fit(X_train_nr, y_train_nr)"
   ]
  },
  {
   "cell_type": "code",
   "execution_count": 121,
   "metadata": {},
   "outputs": [
    {
     "data": {
      "text/plain": [
       "0.955435829411444"
      ]
     },
     "execution_count": 121,
     "metadata": {},
     "output_type": "execute_result"
    }
   ],
   "source": [
    "# Accuracy\n",
    "RandomForestClfNr.score(X=X_train_nr, y=y_train_nr)"
   ]
  },
  {
   "cell_type": "code",
   "execution_count": 122,
   "metadata": {},
   "outputs": [],
   "source": [
    "# 預測\n",
    "y_pred_RandomForestClfNr = RandomForestClfNr.predict(X_test)"
   ]
  },
  {
   "cell_type": "code",
   "execution_count": 123,
   "metadata": {},
   "outputs": [
    {
     "name": "stdout",
     "output_type": "stream",
     "text": [
      "AUC: 0.562\n"
     ]
    }
   ],
   "source": [
    "# AUC\n",
    "auc_RandomForestClfNr = roc_auc_score(y_test, y_pred_RandomForestClfNr)\n",
    "print('AUC: %.3f' % auc_RandomForestClfNr)"
   ]
  },
  {
   "cell_type": "code",
   "execution_count": 124,
   "metadata": {},
   "outputs": [
    {
     "name": "stdout",
     "output_type": "stream",
     "text": [
      "              precision    recall  f1-score   support\n",
      "\n",
      "           0       0.97      0.17      0.29    206774\n",
      "           1       0.12      0.95      0.21     23604\n",
      "\n",
      "   micro avg       0.25      0.25      0.25    230378\n",
      "   macro avg       0.54      0.56      0.25    230378\n",
      "weighted avg       0.88      0.25      0.28    230378\n",
      "\n"
     ]
    },
    {
     "data": {
      "image/png": "[encoded data removed]",
      "text/plain": [
       "<Figure size 432x288 with 2 Axes>"
      ]
     },
     "metadata": {
      "needs_background": "light"
     },
     "output_type": "display_data"
    }
   ],
   "source": [
    "# 驗證\n",
    "print(metrics.classification_report(y_test, y_pred_RandomForestClfNr))\n",
    "cm = metrics.confusion_matrix(y_test, y_pred_RandomForestClfNr)\n",
    "sns.heatmap(cm, cmap=\"YlGnBu_r\", annot=True, fmt=\"d\")\n",
    "plt.show()"
   ]
  },
  {
   "cell_type": "markdown",
   "metadata": {},
   "source": [
    "##### 小結：\n",
    "* 使用NearMiss，正樣本(is_churn=1)的precision明顯下降很多，但Recall特別好。不然就將smote+NearMiss試看看吧!"
   ]
  },
  {
   "cell_type": "markdown",
   "metadata": {},
   "source": [
    "---"
   ]
  },
  {
   "cell_type": "markdown",
   "metadata": {},
   "source": [
    "### 解決數據不平衡問題(使用Smote+Near Miss)"
   ]
  },
  {
   "cell_type": "code",
   "execution_count": 58,
   "metadata": {},
   "outputs": [],
   "source": [
    "X_train_smote_nr, y_train_smote_nr = nr.fit_sample(over_samples_X, over_samples_y)"
   ]
  },
  {
   "cell_type": "code",
   "execution_count": 125,
   "metadata": {},
   "outputs": [
    {
     "data": {
      "text/plain": [
       "RandomForestClassifier(bootstrap=True, class_weight=None, criterion='gini',\n",
       "            max_depth=30, max_features='sqrt', max_leaf_nodes=None,\n",
       "            min_impurity_decrease=0.0, min_impurity_split=None,\n",
       "            min_samples_leaf=1, min_samples_split=8,\n",
       "            min_weight_fraction_leaf=0.0, n_estimators=100, n_jobs=None,\n",
       "            oob_score=False, random_state=87, verbose=0, warm_start=False)"
      ]
     },
     "execution_count": 125,
     "metadata": {},
     "output_type": "execute_result"
    }
   ],
   "source": [
    "# 訓練模型\n",
    "RandomForestClfSmoteNr = RandomForestClassifier(random_state=87, n_estimators=100, criterion='gini', max_depth=30, min_samples_split=8, max_features='sqrt')\n",
    "RandomForestClfSmoteNr.fit(X_train_smote_nr, y_train_smote_nr)"
   ]
  },
  {
   "cell_type": "code",
   "execution_count": 126,
   "metadata": {},
   "outputs": [
    {
     "data": {
      "text/plain": [
       "0.9417155599952748"
      ]
     },
     "execution_count": 126,
     "metadata": {},
     "output_type": "execute_result"
    }
   ],
   "source": [
    "# Accuracy\n",
    "RandomForestClfSmoteNr.score(X=X_train_smote_nr, y=y_train_smote_nr)"
   ]
  },
  {
   "cell_type": "code",
   "execution_count": 127,
   "metadata": {},
   "outputs": [],
   "source": [
    "# 預測\n",
    "y_pred_RandomForestClfSmoteNr = RandomForestClfSmoteNr.predict(X_test)"
   ]
  },
  {
   "cell_type": "code",
   "execution_count": 128,
   "metadata": {},
   "outputs": [
    {
     "name": "stdout",
     "output_type": "stream",
     "text": [
      "AUC: 0.722\n"
     ]
    }
   ],
   "source": [
    "# AUC\n",
    "auc_RandomForestClfSmoteNr = roc_auc_score(y_test, y_pred_RandomForestClfSmoteNr)\n",
    "print('AUC: %.3f' % auc_RandomForestClfSmoteNr)"
   ]
  },
  {
   "cell_type": "code",
   "execution_count": 129,
   "metadata": {},
   "outputs": [
    {
     "name": "stdout",
     "output_type": "stream",
     "text": [
      "              precision    recall  f1-score   support\n",
      "\n",
      "           0       0.94      0.93      0.94    206774\n",
      "           1       0.46      0.51      0.49     23604\n",
      "\n",
      "   micro avg       0.89      0.89      0.89    230378\n",
      "   macro avg       0.70      0.72      0.71    230378\n",
      "weighted avg       0.89      0.89      0.89    230378\n",
      "\n"
     ]
    },
    {
     "data": {
      "image/png": "[encoded data removed]",
      "text/plain": [
       "<Figure size 432x288 with 2 Axes>"
      ]
     },
     "metadata": {
      "needs_background": "light"
     },
     "output_type": "display_data"
    }
   ],
   "source": [
    "# 驗證\n",
    "print(metrics.classification_report(y_test, y_pred_RandomForestClfSmoteNr))\n",
    "cm = metrics.confusion_matrix(y_test, y_pred_RandomForestClfSmoteNr)\n",
    "sns.heatmap(cm, cmap=\"YlGnBu_r\", annot=True, fmt=\"d\")\n",
    "plt.show()"
   ]
  },
  {
   "cell_type": "markdown",
   "metadata": {},
   "source": [
    "##### 小結：\n",
    "* 使用Near Miss(Undersampling)並沒有比Smote或Tomek Links好"
   ]
  },
  {
   "cell_type": "markdown",
   "metadata": {},
   "source": [
    "---"
   ]
  },
  {
   "cell_type": "markdown",
   "metadata": {},
   "source": [
    "### 下列針對RandomForestClassifier模型進行調參，確認相對最佳參數值"
   ]
  },
  {
   "cell_type": "markdown",
   "metadata": {},
   "source": [
    "##### 使用GridSearchCV進行RandomForestClassifier模型參數調整，並使用smote後的訓練集進行模型訓練"
   ]
  },
  {
   "cell_type": "code",
   "execution_count": 64,
   "metadata": {},
   "outputs": [
    {
     "data": {
      "text/plain": [
       "\"parameters = {\\n    'n_estimators'      : [50, 100],\\n    'max_depth'         : [10, 30],\\n    'random_state'      : [87],\\n    'min_samples_split' : [2, 8],\\n    'max_features'      : ['auto', 'sqrt']\\n}\""
      ]
     },
     "execution_count": 64,
     "metadata": {},
     "output_type": "execute_result"
    }
   ],
   "source": [
    "'''parameters = {\n",
    "    'n_estimators'      : [50, 100],\n",
    "    'max_depth'         : [10, 30],\n",
    "    'random_state'      : [87],\n",
    "    'min_samples_split' : [2, 8],\n",
    "    'max_features'      : ['auto', 'sqrt']\n",
    "}'''"
   ]
  },
  {
   "cell_type": "code",
   "execution_count": 65,
   "metadata": {},
   "outputs": [],
   "source": [
    "# clf = GridSearchCV(RandomForestClassifier(), parameters, cv=3, n_jobs=-1)"
   ]
  },
  {
   "cell_type": "code",
   "execution_count": 66,
   "metadata": {},
   "outputs": [],
   "source": [
    "# clf.fit(over_samples_X, over_samples_y)"
   ]
  },
  {
   "cell_type": "code",
   "execution_count": 67,
   "metadata": {},
   "outputs": [],
   "source": [
    "# print(clf.score(X=over_samples_X, y=over_samples_y))\n",
    "# print(clf.best_params_)"
   ]
  },
  {
   "cell_type": "code",
   "execution_count": null,
   "metadata": {},
   "outputs": [],
   "source": []
  }
 ],
 "metadata": {
  "kernelspec": {
   "display_name": "Python 3",
   "language": "python",
   "name": "python3"
  },
  "language_info": {
   "codemirror_mode": {
    "name": "ipython",
    "version": 3
   },
   "file_extension": ".py",
   "mimetype": "text/x-python",
   "name": "python",
   "nbconvert_exporter": "python",
   "pygments_lexer": "ipython3",
   "version": "3.6.8"
  }
 },
 "nbformat": 4,
 "nbformat_minor": 2
}
