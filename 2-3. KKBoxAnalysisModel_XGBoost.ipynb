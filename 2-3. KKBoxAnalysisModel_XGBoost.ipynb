{
 "cells": [
  {
   "cell_type": "code",
   "execution_count": 3,
   "metadata": {},
   "outputs": [],
   "source": [
    "%matplotlib inline\n",
    "\n",
    "import numpy as np\n",
    "import pandas as pd\n",
    "import matplotlib.pyplot as plt\n",
    "import seaborn as sns"
   ]
  },
  {
   "cell_type": "code",
   "execution_count": 4,
   "metadata": {},
   "outputs": [],
   "source": [
    "import xgboost as xgb\n",
    "from sklearn.model_selection import train_test_split\n",
    "from sklearn import metrics\n",
    "from sklearn.metrics import classification_report\n",
    "from sklearn.metrics import roc_auc_score\n",
    "from imblearn.over_sampling import SMOTE"
   ]
  },
  {
   "cell_type": "code",
   "execution_count": 5,
   "metadata": {},
   "outputs": [],
   "source": [
    "def dtype_compressor(df):\n",
    "  #object \n",
    "  # when unique ratio > 0.5, catogory stands less memory than object\n",
    "  converted_obj = pd.DataFrame()\n",
    "  df_obj = df.select_dtypes(include=['object'])\n",
    "  for col in df_obj.columns:\n",
    "    converted_obj.loc[:,col] = df_obj.loc[:,col].astype('category')\n",
    "\n",
    "  # numbers\n",
    "  df_down_num = pd.DataFrame()\n",
    "  df_num = df.select_dtypes(include=['number'])\n",
    "  for col in df_num.columns:\n",
    "    df_down_num.loc[:,col] = pd.to_numeric(df_num.loc[:,col],downcast='signed')\n",
    "\n",
    "  # merge\n",
    "  df = pd.concat([converted_obj,df_down_num],axis=1)\n",
    "  \n",
    "  del converted_obj, df_obj, df_down_num, df_num  \n",
    "  \n",
    "  return df"
   ]
  },
  {
   "cell_type": "code",
   "execution_count": 6,
   "metadata": {},
   "outputs": [],
   "source": [
    "def fast_datetime(s):\n",
    "    dates = {date:pd.to_datetime(date,format='%Y-%m-%d') for date in s.unique()}\n",
    "    return s.map(dates)"
   ]
  },
  {
   "cell_type": "code",
   "execution_count": 7,
   "metadata": {},
   "outputs": [],
   "source": [
    "pd.set_option('display.float_format', lambda x: '%.2f' % x)"
   ]
  },
  {
   "cell_type": "markdown",
   "metadata": {},
   "source": [
    "---"
   ]
  },
  {
   "cell_type": "markdown",
   "metadata": {},
   "source": [
    "### 讀取並觀察資料"
   ]
  },
  {
   "cell_type": "code",
   "execution_count": 8,
   "metadata": {},
   "outputs": [],
   "source": [
    "KKboxTrainMembersTransac = pd.read_csv('KKboxTrainMembersTransac.csv')"
   ]
  },
  {
   "cell_type": "code",
   "execution_count": 9,
   "metadata": {},
   "outputs": [
    {
     "data": {
      "text/html": [
       "<div>\n",
       "<style scoped>\n",
       "    .dataframe tbody tr th:only-of-type {\n",
       "        vertical-align: middle;\n",
       "    }\n",
       "\n",
       "    .dataframe tbody tr th {\n",
       "        vertical-align: top;\n",
       "    }\n",
       "\n",
       "    .dataframe thead th {\n",
       "        text-align: right;\n",
       "    }\n",
       "</style>\n",
       "<table border=\"1\" class=\"dataframe\">\n",
       "  <thead>\n",
       "    <tr style=\"text-align: right;\">\n",
       "      <th></th>\n",
       "      <th>msno</th>\n",
       "      <th>is_churn</th>\n",
       "      <th>city</th>\n",
       "      <th>bd</th>\n",
       "      <th>gender</th>\n",
       "      <th>registered_via</th>\n",
       "      <th>registration_init_time</th>\n",
       "      <th>last_last_churn</th>\n",
       "      <th>last_auto_renew</th>\n",
       "      <th>is_discount</th>\n",
       "      <th>amount_per_day</th>\n",
       "      <th>longtime_user</th>\n",
       "    </tr>\n",
       "  </thead>\n",
       "  <tbody>\n",
       "    <tr>\n",
       "      <th>0</th>\n",
       "      <td>waLDQMmcOu2jLDaV1ddDkgCrB/jl6sD66Xzs0Vqax1Y=</td>\n",
       "      <td>1</td>\n",
       "      <td>18</td>\n",
       "      <td>36</td>\n",
       "      <td>0</td>\n",
       "      <td>9</td>\n",
       "      <td>2005-04-06</td>\n",
       "      <td>1</td>\n",
       "      <td>0</td>\n",
       "      <td>2</td>\n",
       "      <td>2.48</td>\n",
       "      <td>0</td>\n",
       "    </tr>\n",
       "    <tr>\n",
       "      <th>1</th>\n",
       "      <td>QA7uiXy8vIbUSPOkCf9RwQ3FsT8jVq2OxDr8zqa7bRQ=</td>\n",
       "      <td>1</td>\n",
       "      <td>10</td>\n",
       "      <td>38</td>\n",
       "      <td>1</td>\n",
       "      <td>9</td>\n",
       "      <td>2005-04-07</td>\n",
       "      <td>0</td>\n",
       "      <td>1</td>\n",
       "      <td>23</td>\n",
       "      <td>4.99</td>\n",
       "      <td>1</td>\n",
       "    </tr>\n",
       "    <tr>\n",
       "      <th>2</th>\n",
       "      <td>QA7uiXy8vIbUSPOkCf9RwQ3FsT8jVq2OxDr8zqa7bRQ=</td>\n",
       "      <td>1</td>\n",
       "      <td>10</td>\n",
       "      <td>38</td>\n",
       "      <td>1</td>\n",
       "      <td>9</td>\n",
       "      <td>2005-04-07</td>\n",
       "      <td>0</td>\n",
       "      <td>1</td>\n",
       "      <td>23</td>\n",
       "      <td>4.99</td>\n",
       "      <td>1</td>\n",
       "    </tr>\n",
       "    <tr>\n",
       "      <th>3</th>\n",
       "      <td>fGwBva6hikQmTJzrbz/2Ezjm5Cth5jZUNvXigKK2AFA=</td>\n",
       "      <td>1</td>\n",
       "      <td>11</td>\n",
       "      <td>27</td>\n",
       "      <td>0</td>\n",
       "      <td>9</td>\n",
       "      <td>2005-10-16</td>\n",
       "      <td>0</td>\n",
       "      <td>1</td>\n",
       "      <td>10</td>\n",
       "      <td>4.97</td>\n",
       "      <td>0</td>\n",
       "    </tr>\n",
       "    <tr>\n",
       "      <th>4</th>\n",
       "      <td>mT5V8rEpa+8wuqi6x0DoVd3H5icMKkE9Prt49UlmK+4=</td>\n",
       "      <td>1</td>\n",
       "      <td>13</td>\n",
       "      <td>23</td>\n",
       "      <td>0</td>\n",
       "      <td>9</td>\n",
       "      <td>2005-11-02</td>\n",
       "      <td>1</td>\n",
       "      <td>0</td>\n",
       "      <td>3</td>\n",
       "      <td>3.11</td>\n",
       "      <td>0</td>\n",
       "    </tr>\n",
       "  </tbody>\n",
       "</table>\n",
       "</div>"
      ],
      "text/plain": [
       "                                           msno  is_churn  city  bd  gender  \\\n",
       "0  waLDQMmcOu2jLDaV1ddDkgCrB/jl6sD66Xzs0Vqax1Y=         1    18  36       0   \n",
       "1  QA7uiXy8vIbUSPOkCf9RwQ3FsT8jVq2OxDr8zqa7bRQ=         1    10  38       1   \n",
       "2  QA7uiXy8vIbUSPOkCf9RwQ3FsT8jVq2OxDr8zqa7bRQ=         1    10  38       1   \n",
       "3  fGwBva6hikQmTJzrbz/2Ezjm5Cth5jZUNvXigKK2AFA=         1    11  27       0   \n",
       "4  mT5V8rEpa+8wuqi6x0DoVd3H5icMKkE9Prt49UlmK+4=         1    13  23       0   \n",
       "\n",
       "   registered_via registration_init_time  last_last_churn  last_auto_renew  \\\n",
       "0               9             2005-04-06                1                0   \n",
       "1               9             2005-04-07                0                1   \n",
       "2               9             2005-04-07                0                1   \n",
       "3               9             2005-10-16                0                1   \n",
       "4               9             2005-11-02                1                0   \n",
       "\n",
       "   is_discount  amount_per_day  longtime_user  \n",
       "0            2            2.48              0  \n",
       "1           23            4.99              1  \n",
       "2           23            4.99              1  \n",
       "3           10            4.97              0  \n",
       "4            3            3.11              0  "
      ]
     },
     "execution_count": 9,
     "metadata": {},
     "output_type": "execute_result"
    }
   ],
   "source": [
    "KKboxTrainMembersTransac.head()"
   ]
  },
  {
   "cell_type": "code",
   "execution_count": 10,
   "metadata": {},
   "outputs": [],
   "source": [
    "KKboxTrainMembersTransac = dtype_compressor(KKboxTrainMembersTransac)"
   ]
  },
  {
   "cell_type": "code",
   "execution_count": 11,
   "metadata": {},
   "outputs": [],
   "source": [
    "d = ['registration_init_time']\n",
    "for col in d:\n",
    "  KKboxTrainMembersTransac[col] = fast_datetime(KKboxTrainMembersTransac[col])"
   ]
  },
  {
   "cell_type": "code",
   "execution_count": 12,
   "metadata": {},
   "outputs": [],
   "source": [
    "# 針對名目特徵(無序類別)做one-hot encoding，並減少一維度作為減少特徵間高相關性處理\n",
    "ToDummiesCol = ['city', 'gender', 'registered_via', 'last_last_churn',\\\n",
    "                 'last_auto_renew', 'longtime_user']\n",
    "KKboxTrainMembersTransac = pd.get_dummies(KKboxTrainMembersTransac, prefix_sep=\"__\", columns=ToDummiesCol, drop_first=True)"
   ]
  },
  {
   "cell_type": "code",
   "execution_count": 13,
   "metadata": {},
   "outputs": [
    {
     "name": "stdout",
     "output_type": "stream",
     "text": [
      "<class 'pandas.core.frame.DataFrame'>\n",
      "RangeIndex: 767924 entries, 0 to 767923\n",
      "Data columns (total 35 columns):\n",
      "msno                      767924 non-null category\n",
      "registration_init_time    767924 non-null datetime64[ns]\n",
      "is_churn                  767924 non-null int8\n",
      "bd                        767924 non-null int8\n",
      "is_discount               767924 non-null int16\n",
      "amount_per_day            767924 non-null float64\n",
      "city__3                   767924 non-null uint8\n",
      "city__4                   767924 non-null uint8\n",
      "city__5                   767924 non-null uint8\n",
      "city__6                   767924 non-null uint8\n",
      "city__7                   767924 non-null uint8\n",
      "city__8                   767924 non-null uint8\n",
      "city__9                   767924 non-null uint8\n",
      "city__10                  767924 non-null uint8\n",
      "city__11                  767924 non-null uint8\n",
      "city__12                  767924 non-null uint8\n",
      "city__13                  767924 non-null uint8\n",
      "city__14                  767924 non-null uint8\n",
      "city__15                  767924 non-null uint8\n",
      "city__16                  767924 non-null uint8\n",
      "city__17                  767924 non-null uint8\n",
      "city__18                  767924 non-null uint8\n",
      "city__19                  767924 non-null uint8\n",
      "city__20                  767924 non-null uint8\n",
      "city__21                  767924 non-null uint8\n",
      "city__22                  767924 non-null uint8\n",
      "gender__0                 767924 non-null uint8\n",
      "gender__1                 767924 non-null uint8\n",
      "registered_via__4         767924 non-null uint8\n",
      "registered_via__7         767924 non-null uint8\n",
      "registered_via__9         767924 non-null uint8\n",
      "registered_via__13        767924 non-null uint8\n",
      "last_last_churn__1        767924 non-null uint8\n",
      "last_auto_renew__1        767924 non-null uint8\n",
      "longtime_user__1          767924 non-null uint8\n",
      "dtypes: category(1), datetime64[ns](1), float64(1), int16(1), int8(2), uint8(29)\n",
      "memory usage: 100.5 MB\n"
     ]
    }
   ],
   "source": [
    "KKboxTrainMembersTransac.info(memory_usage='deep')"
   ]
  },
  {
   "cell_type": "code",
   "execution_count": 14,
   "metadata": {},
   "outputs": [
    {
     "data": {
      "text/html": [
       "<div>\n",
       "<style scoped>\n",
       "    .dataframe tbody tr th:only-of-type {\n",
       "        vertical-align: middle;\n",
       "    }\n",
       "\n",
       "    .dataframe tbody tr th {\n",
       "        vertical-align: top;\n",
       "    }\n",
       "\n",
       "    .dataframe thead th {\n",
       "        text-align: right;\n",
       "    }\n",
       "</style>\n",
       "<table border=\"1\" class=\"dataframe\">\n",
       "  <thead>\n",
       "    <tr style=\"text-align: right;\">\n",
       "      <th></th>\n",
       "      <th>is_churn</th>\n",
       "      <th>bd</th>\n",
       "      <th>is_discount</th>\n",
       "      <th>amount_per_day</th>\n",
       "      <th>city__3</th>\n",
       "      <th>city__4</th>\n",
       "      <th>city__5</th>\n",
       "      <th>city__6</th>\n",
       "      <th>city__7</th>\n",
       "      <th>city__8</th>\n",
       "      <th>...</th>\n",
       "      <th>city__22</th>\n",
       "      <th>gender__0</th>\n",
       "      <th>gender__1</th>\n",
       "      <th>registered_via__4</th>\n",
       "      <th>registered_via__7</th>\n",
       "      <th>registered_via__9</th>\n",
       "      <th>registered_via__13</th>\n",
       "      <th>last_last_churn__1</th>\n",
       "      <th>last_auto_renew__1</th>\n",
       "      <th>longtime_user__1</th>\n",
       "    </tr>\n",
       "  </thead>\n",
       "  <tbody>\n",
       "    <tr>\n",
       "      <th>count</th>\n",
       "      <td>767924.00</td>\n",
       "      <td>767924.00</td>\n",
       "      <td>767924.00</td>\n",
       "      <td>767924.00</td>\n",
       "      <td>767924.00</td>\n",
       "      <td>767924.00</td>\n",
       "      <td>767924.00</td>\n",
       "      <td>767924.00</td>\n",
       "      <td>767924.00</td>\n",
       "      <td>767924.00</td>\n",
       "      <td>...</td>\n",
       "      <td>767924.00</td>\n",
       "      <td>767924.00</td>\n",
       "      <td>767924.00</td>\n",
       "      <td>767924.00</td>\n",
       "      <td>767924.00</td>\n",
       "      <td>767924.00</td>\n",
       "      <td>767924.00</td>\n",
       "      <td>767924.00</td>\n",
       "      <td>767924.00</td>\n",
       "      <td>767924.00</td>\n",
       "    </tr>\n",
       "    <tr>\n",
       "      <th>mean</th>\n",
       "      <td>0.10</td>\n",
       "      <td>29.96</td>\n",
       "      <td>18.68</td>\n",
       "      <td>4.81</td>\n",
       "      <td>0.01</td>\n",
       "      <td>0.11</td>\n",
       "      <td>0.16</td>\n",
       "      <td>0.06</td>\n",
       "      <td>0.01</td>\n",
       "      <td>0.02</td>\n",
       "      <td>...</td>\n",
       "      <td>0.10</td>\n",
       "      <td>0.46</td>\n",
       "      <td>0.52</td>\n",
       "      <td>0.07</td>\n",
       "      <td>0.19</td>\n",
       "      <td>0.52</td>\n",
       "      <td>0.00</td>\n",
       "      <td>0.01</td>\n",
       "      <td>0.78</td>\n",
       "      <td>0.44</td>\n",
       "    </tr>\n",
       "    <tr>\n",
       "      <th>std</th>\n",
       "      <td>0.30</td>\n",
       "      <td>8.89</td>\n",
       "      <td>8.38</td>\n",
       "      <td>0.59</td>\n",
       "      <td>0.11</td>\n",
       "      <td>0.31</td>\n",
       "      <td>0.37</td>\n",
       "      <td>0.24</td>\n",
       "      <td>0.08</td>\n",
       "      <td>0.13</td>\n",
       "      <td>...</td>\n",
       "      <td>0.30</td>\n",
       "      <td>0.50</td>\n",
       "      <td>0.50</td>\n",
       "      <td>0.25</td>\n",
       "      <td>0.39</td>\n",
       "      <td>0.50</td>\n",
       "      <td>0.03</td>\n",
       "      <td>0.10</td>\n",
       "      <td>0.41</td>\n",
       "      <td>0.50</td>\n",
       "    </tr>\n",
       "    <tr>\n",
       "      <th>min</th>\n",
       "      <td>0.00</td>\n",
       "      <td>13.00</td>\n",
       "      <td>2.00</td>\n",
       "      <td>0.00</td>\n",
       "      <td>0.00</td>\n",
       "      <td>0.00</td>\n",
       "      <td>0.00</td>\n",
       "      <td>0.00</td>\n",
       "      <td>0.00</td>\n",
       "      <td>0.00</td>\n",
       "      <td>...</td>\n",
       "      <td>0.00</td>\n",
       "      <td>0.00</td>\n",
       "      <td>0.00</td>\n",
       "      <td>0.00</td>\n",
       "      <td>0.00</td>\n",
       "      <td>0.00</td>\n",
       "      <td>0.00</td>\n",
       "      <td>0.00</td>\n",
       "      <td>0.00</td>\n",
       "      <td>0.00</td>\n",
       "    </tr>\n",
       "    <tr>\n",
       "      <th>25%</th>\n",
       "      <td>0.00</td>\n",
       "      <td>24.00</td>\n",
       "      <td>12.00</td>\n",
       "      <td>4.77</td>\n",
       "      <td>0.00</td>\n",
       "      <td>0.00</td>\n",
       "      <td>0.00</td>\n",
       "      <td>0.00</td>\n",
       "      <td>0.00</td>\n",
       "      <td>0.00</td>\n",
       "      <td>...</td>\n",
       "      <td>0.00</td>\n",
       "      <td>0.00</td>\n",
       "      <td>0.00</td>\n",
       "      <td>0.00</td>\n",
       "      <td>0.00</td>\n",
       "      <td>0.00</td>\n",
       "      <td>0.00</td>\n",
       "      <td>0.00</td>\n",
       "      <td>1.00</td>\n",
       "      <td>0.00</td>\n",
       "    </tr>\n",
       "    <tr>\n",
       "      <th>50%</th>\n",
       "      <td>0.00</td>\n",
       "      <td>28.00</td>\n",
       "      <td>21.00</td>\n",
       "      <td>4.94</td>\n",
       "      <td>0.00</td>\n",
       "      <td>0.00</td>\n",
       "      <td>0.00</td>\n",
       "      <td>0.00</td>\n",
       "      <td>0.00</td>\n",
       "      <td>0.00</td>\n",
       "      <td>...</td>\n",
       "      <td>0.00</td>\n",
       "      <td>0.00</td>\n",
       "      <td>1.00</td>\n",
       "      <td>0.00</td>\n",
       "      <td>0.00</td>\n",
       "      <td>1.00</td>\n",
       "      <td>0.00</td>\n",
       "      <td>0.00</td>\n",
       "      <td>1.00</td>\n",
       "      <td>0.00</td>\n",
       "    </tr>\n",
       "    <tr>\n",
       "      <th>75%</th>\n",
       "      <td>0.00</td>\n",
       "      <td>34.00</td>\n",
       "      <td>26.00</td>\n",
       "      <td>4.97</td>\n",
       "      <td>0.00</td>\n",
       "      <td>0.00</td>\n",
       "      <td>0.00</td>\n",
       "      <td>0.00</td>\n",
       "      <td>0.00</td>\n",
       "      <td>0.00</td>\n",
       "      <td>...</td>\n",
       "      <td>0.00</td>\n",
       "      <td>1.00</td>\n",
       "      <td>1.00</td>\n",
       "      <td>0.00</td>\n",
       "      <td>0.00</td>\n",
       "      <td>1.00</td>\n",
       "      <td>0.00</td>\n",
       "      <td>0.00</td>\n",
       "      <td>1.00</td>\n",
       "      <td>1.00</td>\n",
       "    </tr>\n",
       "    <tr>\n",
       "      <th>max</th>\n",
       "      <td>1.00</td>\n",
       "      <td>99.00</td>\n",
       "      <td>244.00</td>\n",
       "      <td>7.00</td>\n",
       "      <td>1.00</td>\n",
       "      <td>1.00</td>\n",
       "      <td>1.00</td>\n",
       "      <td>1.00</td>\n",
       "      <td>1.00</td>\n",
       "      <td>1.00</td>\n",
       "      <td>...</td>\n",
       "      <td>1.00</td>\n",
       "      <td>1.00</td>\n",
       "      <td>1.00</td>\n",
       "      <td>1.00</td>\n",
       "      <td>1.00</td>\n",
       "      <td>1.00</td>\n",
       "      <td>1.00</td>\n",
       "      <td>1.00</td>\n",
       "      <td>1.00</td>\n",
       "      <td>1.00</td>\n",
       "    </tr>\n",
       "  </tbody>\n",
       "</table>\n",
       "<p>8 rows × 33 columns</p>\n",
       "</div>"
      ],
      "text/plain": [
       "       is_churn        bd  is_discount  amount_per_day   city__3   city__4  \\\n",
       "count 767924.00 767924.00    767924.00       767924.00 767924.00 767924.00   \n",
       "mean       0.10     29.96        18.68            4.81      0.01      0.11   \n",
       "std        0.30      8.89         8.38            0.59      0.11      0.31   \n",
       "min        0.00     13.00         2.00            0.00      0.00      0.00   \n",
       "25%        0.00     24.00        12.00            4.77      0.00      0.00   \n",
       "50%        0.00     28.00        21.00            4.94      0.00      0.00   \n",
       "75%        0.00     34.00        26.00            4.97      0.00      0.00   \n",
       "max        1.00     99.00       244.00            7.00      1.00      1.00   \n",
       "\n",
       "        city__5   city__6   city__7   city__8  ...  city__22  gender__0  \\\n",
       "count 767924.00 767924.00 767924.00 767924.00  ... 767924.00  767924.00   \n",
       "mean       0.16      0.06      0.01      0.02  ...      0.10       0.46   \n",
       "std        0.37      0.24      0.08      0.13  ...      0.30       0.50   \n",
       "min        0.00      0.00      0.00      0.00  ...      0.00       0.00   \n",
       "25%        0.00      0.00      0.00      0.00  ...      0.00       0.00   \n",
       "50%        0.00      0.00      0.00      0.00  ...      0.00       0.00   \n",
       "75%        0.00      0.00      0.00      0.00  ...      0.00       1.00   \n",
       "max        1.00      1.00      1.00      1.00  ...      1.00       1.00   \n",
       "\n",
       "       gender__1  registered_via__4  registered_via__7  registered_via__9  \\\n",
       "count  767924.00          767924.00          767924.00          767924.00   \n",
       "mean        0.52               0.07               0.19               0.52   \n",
       "std         0.50               0.25               0.39               0.50   \n",
       "min         0.00               0.00               0.00               0.00   \n",
       "25%         0.00               0.00               0.00               0.00   \n",
       "50%         1.00               0.00               0.00               1.00   \n",
       "75%         1.00               0.00               0.00               1.00   \n",
       "max         1.00               1.00               1.00               1.00   \n",
       "\n",
       "       registered_via__13  last_last_churn__1  last_auto_renew__1  \\\n",
       "count           767924.00           767924.00           767924.00   \n",
       "mean                 0.00                0.01                0.78   \n",
       "std                  0.03                0.10                0.41   \n",
       "min                  0.00                0.00                0.00   \n",
       "25%                  0.00                0.00                1.00   \n",
       "50%                  0.00                0.00                1.00   \n",
       "75%                  0.00                0.00                1.00   \n",
       "max                  1.00                1.00                1.00   \n",
       "\n",
       "       longtime_user__1  \n",
       "count         767924.00  \n",
       "mean               0.44  \n",
       "std                0.50  \n",
       "min                0.00  \n",
       "25%                0.00  \n",
       "50%                0.00  \n",
       "75%                1.00  \n",
       "max                1.00  \n",
       "\n",
       "[8 rows x 33 columns]"
      ]
     },
     "execution_count": 14,
     "metadata": {},
     "output_type": "execute_result"
    }
   ],
   "source": [
    "KKboxTrainMembersTransac.describe()"
   ]
  },
  {
   "cell_type": "markdown",
   "metadata": {},
   "source": [
    "---"
   ]
  },
  {
   "cell_type": "markdown",
   "metadata": {},
   "source": [
    "##### 拆分訓練集與測試集"
   ]
  },
  {
   "cell_type": "code",
   "execution_count": 54,
   "metadata": {},
   "outputs": [],
   "source": [
    "X = KKboxTrainMembersTransac.iloc[:,3:]\n",
    "y = KKboxTrainMembersTransac.iloc[:,2]"
   ]
  },
  {
   "cell_type": "code",
   "execution_count": 55,
   "metadata": {},
   "outputs": [],
   "source": [
    "# from sklearn.model_selection import train_test_split\n",
    "X_train,X_test,y_train,y_test = train_test_split(X, y, test_size=0.3, random_state=87)"
   ]
  },
  {
   "cell_type": "markdown",
   "metadata": {},
   "source": [
    "---"
   ]
  },
  {
   "cell_type": "markdown",
   "metadata": {},
   "source": [
    "##### XGBoost提供了一個優化存取與運算速度的DMatrix"
   ]
  },
  {
   "cell_type": "code",
   "execution_count": 56,
   "metadata": {},
   "outputs": [
    {
     "name": "stderr",
     "output_type": "stream",
     "text": [
      "C:\\Users\\User\\Anaconda3\\lib\\site-packages\\xgboost\\core.py:587: FutureWarning: Series.base is deprecated and will be removed in a future version\n",
      "  if getattr(data, 'base', None) is not None and \\\n"
     ]
    }
   ],
   "source": [
    "dtrain=xgb.DMatrix(X_train, label=y_train)\n",
    "dtest=xgb.DMatrix(X_test)"
   ]
  },
  {
   "cell_type": "markdown",
   "metadata": {},
   "source": [
    "* max_depth： 树的最大深度。缺省值为6，取值范围为：[1,∞]\n",
    "* eta：为了防止过拟合，更新过程中用到的收缩步长。在每次提升计算之后，算法会直接获得新特征的权重。 eta通过缩减特征的权重使提升计算过程更加保守。缺省值为0.3，取值范围为：[0,1]\n",
    "* silent：取0时表示打印出运行时信息，取1时表示以缄默方式运行，不打印运行时信息。缺省值为0\n",
    "* objective： 定义学习任务及相应的学习目标，“binary:logistic” 表示二分类的逻辑回归问题，输出为概率。\n",
    "* 其他参数取默认值。"
   ]
  },
  {
   "cell_type": "code",
   "execution_count": 118,
   "metadata": {},
   "outputs": [],
   "source": [
    "param = {'max_depth':3, 'eta':1, 'silent':0, 'objective':'binary:logistic' }"
   ]
  },
  {
   "cell_type": "code",
   "execution_count": 119,
   "metadata": {},
   "outputs": [
    {
     "name": "stdout",
     "output_type": "stream",
     "text": [
      "1.8003322315835248\n"
     ]
    }
   ],
   "source": [
    "# 設定boosting迭代計算次數\n",
    "num_round = 2\n",
    "import time\n",
    "starttime = time.clock()\n",
    "\n",
    "# 訓練模型\n",
    "bst = xgb.train(param, dtrain, num_round) #  dtrain是训练数据集\n",
    " \n",
    "endtime = time.clock()\n",
    "print (endtime - starttime)"
   ]
  },
  {
   "cell_type": "code",
   "execution_count": 120,
   "metadata": {},
   "outputs": [
    {
     "name": "stdout",
     "output_type": "stream",
     "text": [
      "Train Accuracy: 91.54%\n"
     ]
    }
   ],
   "source": [
    "# Train Accuracy\n",
    "y_pred_train = bst.predict(dtrain)\n",
    "# 將概率值轉成二元分類(>=0.5判別成1;<0.5判別成0)\n",
    "y_prediction_train = [round(value) for value in y_pred_train]\n",
    "y_train = dtrain.get_label() # 值為輸入數據的第一行\n",
    "train_accuracy = metrics.accuracy_score(y_train, y_prediction_train)\n",
    "print (\"Train Accuracy: %.2f%%\" % (train_accuracy * 100.0))"
   ]
  },
  {
   "cell_type": "markdown",
   "metadata": {},
   "source": [
    "##### XGBoost預測出的結果為概率，但此資料集為二元分類問題(流失/非流失)，所以須將概率值轉換成0或1"
   ]
  },
  {
   "cell_type": "code",
   "execution_count": 121,
   "metadata": {},
   "outputs": [
    {
     "name": "stdout",
     "output_type": "stream",
     "text": [
      "Test Accuracy: 91.52%\n"
     ]
    }
   ],
   "source": [
    "# Test Accuracy\n",
    "y_pred_test = bst.predict(dtest)\n",
    "# 將概率值轉成二元分類(>=0.5判別成1;<0.5判別成0)\n",
    "y_prediction_test = [round(value) for value in y_pred_test] # 將概率值轉成二元分類\n",
    "test_accuracy = metrics.accuracy_score(y_test, y_prediction_test)\n",
    "print(\"Test Accuracy: %.2f%%\" % (test_accuracy * 100.0))"
   ]
  },
  {
   "cell_type": "code",
   "execution_count": 122,
   "metadata": {},
   "outputs": [
    {
     "name": "stdout",
     "output_type": "stream",
     "text": [
      "AUC: 0.811\n",
      "Accuracy: 0.915\n",
      "Precision: 0.697\n",
      "Recall: 0.305\n",
      "F1_score: 0.424\n",
      "              precision    recall  f1-score   support\n",
      "\n",
      "           0       0.93      0.98      0.95    206774\n",
      "           1       0.70      0.30      0.42     23604\n",
      "\n",
      "   micro avg       0.92      0.92      0.92    230378\n",
      "   macro avg       0.81      0.64      0.69    230378\n",
      "weighted avg       0.90      0.92      0.90    230378\n",
      "\n"
     ]
    },
    {
     "data": {
      "image/png": "[encoded data removed]",
      "text/plain": [
       "<Figure size 576x360 with 2 Axes>"
      ]
     },
     "metadata": {
      "needs_background": "light"
     },
     "output_type": "display_data"
    }
   ],
   "source": [
    "# 驗證\n",
    "# AUC\n",
    "auc_bst = roc_auc_score(y_test,y_pred_test)\n",
    "print('AUC: %.3f' % auc_bst)\n",
    "# Accuracy\n",
    "accuracy_bst = metrics.accuracy_score(y_test,y_prediction_test)\n",
    "print('Accuracy: %.3f' % accuracy_bst)\n",
    "# Precision\n",
    "precision_bst = metrics.precision_score(y_test,y_prediction_test)\n",
    "print('Precision: %.3f' % precision_bst)\n",
    "# Recall\n",
    "recall_bst = metrics.recall_score(y_test,y_prediction_test)\n",
    "print('Recall: %.3f' % recall_bst)\n",
    "# f1_score\n",
    "f1_score_bst = metrics.f1_score(y_test,y_prediction_test)\n",
    "print('F1_score: %.3f' % f1_score_bst)\n",
    "\n",
    "print(metrics.classification_report(y_test, y_prediction_test))\n",
    "cm = metrics.confusion_matrix(y_test, y_prediction_test)\n",
    "sns.heatmap(cm, cmap=\"YlGnBu_r\", annot=True, fmt=\"d\")\n",
    "plt.show()"
   ]
  },
  {
   "cell_type": "code",
   "execution_count": 123,
   "metadata": {},
   "outputs": [],
   "source": [
    "from sklearn.metrics import roc_curve\n",
    "fpr, tpr, thresholds = roc_curve(y_test, y_pred_test)\n",
    "fpr_binary, tpr_binary, thresholds = roc_curve(y_test, y_prediction_test)"
   ]
  },
  {
   "cell_type": "code",
   "execution_count": 124,
   "metadata": {},
   "outputs": [
    {
     "data": {
      "image/png": "[encoded data removed]",
      "text/plain": [
       "<Figure size 576x360 with 1 Axes>"
      ]
     },
     "metadata": {
      "needs_background": "light"
     },
     "output_type": "display_data"
    },
    {
     "data": {
      "image/png": "[encoded data removed]",
      "text/plain": [
       "<Figure size 576x360 with 1 Axes>"
      ]
     },
     "metadata": {
      "needs_background": "light"
     },
     "output_type": "display_data"
    }
   ],
   "source": [
    "lw = 2\n",
    "plt.plot([0, 1], [0, 1], color='navy', lw=lw, linestyle='--')\n",
    "plt.plot(fpr, tpr, color='darkorange', marker='.')\n",
    "plt.show()\n",
    "\n",
    "lw = 2\n",
    "plt.plot([0, 1], [0, 1], color='navy', lw=lw, linestyle='--')\n",
    "plt.plot(fpr_binary, tpr_binary, color='green', marker='.')\n",
    "plt.show()"
   ]
  },
  {
   "cell_type": "code",
   "execution_count": 125,
   "metadata": {},
   "outputs": [
    {
     "data": {
      "image/png": "[encoded data removed]",
      "text/plain": [
       "<Figure size 576x360 with 1 Axes>"
      ]
     },
     "metadata": {
      "needs_background": "light"
     },
     "output_type": "display_data"
    }
   ],
   "source": [
    "# 可視化\n",
    "from matplotlib import pyplot\n",
    "import graphviz\n",
    "\n",
    "xgb.plot_tree(bst, num_trees=0)\n",
    "pyplot.show()"
   ]
  },
  {
   "cell_type": "code",
   "execution_count": null,
   "metadata": {},
   "outputs": [],
   "source": []
  }
 ],
 "metadata": {
  "kernelspec": {
   "display_name": "Python 3",
   "language": "python",
   "name": "python3"
  },
  "language_info": {
   "codemirror_mode": {
    "name": "ipython",
    "version": 3
   },
   "file_extension": ".py",
   "mimetype": "text/x-python",
   "name": "python",
   "nbconvert_exporter": "python",
   "pygments_lexer": "ipython3",
   "version": "3.6.8"
  }
 },
 "nbformat": 4,
 "nbformat_minor": 2
}
