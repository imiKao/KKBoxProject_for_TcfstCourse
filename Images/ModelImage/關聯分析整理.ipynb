{
 "cells": [
  {
   "cell_type": "markdown",
   "metadata": {},
   "source": [
    "## 針對不同KKBox方案關聯分析"
   ]
  },
  {
   "cell_type": "markdown",
   "metadata": {},
   "source": [
    "### 1. 關聯分析流程\n",
    "\n",
    "* 以用戶個人資料進行分群\n",
    "* 找出流失率最高及最低的不同族群\n",
    "* 以不同KKBox進行關聯分析\n",
    "* 尋找忠實用戶群與高流失風險用戶群因子\n",
    "\n",
    "\n",
    "<img src=\"https://github.com/imiKao/KKBoxProject_for_TcfstCourse/blob/master/Images/ModelImage/%E9%97%9C%E8%81%AF%E5%88%86%E6%9E%90%E6%B5%81%E7%A8%8B%E5%9C%96.png?raw=true\">"
   ]
  },
  {
   "cell_type": "markdown",
   "metadata": {},
   "source": [
    "### 2. 關聯分析結果：\n",
    "\n",
    "|群別|關聯方案|群體內流失率|\n",
    "|--|--|--|\n",
    "|忠實用戶|180天信用卡方案,450天方案|9.7%|\n",
    "|高流失風險用戶|100天實體儲值卡,200天實體儲值卡,年費方案|21.2%|\n",
    "\n",
    "<img src=\"https://github.com/imiKao/KKBoxProject_for_TcfstCourse/blob/master/Images/ModelImage/%E9%97%9C%E8%81%AF%E5%88%86%E6%9E%90%E7%B5%90%E6%9E%9C.png?raw=true\">"
   ]
  },
  {
   "cell_type": "markdown",
   "metadata": {},
   "source": [
    "## 觀察流失行為與預防方式"
   ]
  },
  {
   "cell_type": "markdown",
   "metadata": {},
   "source": [
    "<img src=\"https://github.com/imiKao/KKBoxProject_for_TcfstCourse/blob/master/Images/ModelImage/%E6%B5%81%E5%A4%B1%E8%A1%8C%E7%82%BA%E4%BB%A5%E5%8F%8A%E9%A0%90%E9%98%B2%E6%96%B9%E5%BC%8F.png?raw=true\">"
   ]
  },
  {
   "cell_type": "markdown",
   "metadata": {},
   "source": [
    "### A. 流失風險高用戶:\n",
    "\n",
    "* 流失行為:\n",
    "> * 有歷史紀錄長達30天以上未購買方案者=>有流失風險\n",
    "> * 使用方案的平均每日花費小於4.9元=>有流失風險\n",
    "> * 未使用過任何自動續約功能者=>有流失風險\n",
    "> * 前次方案後未使用自動續約功能者=>產生高度流失風險\n",
    "* 預防方式:\n",
    "> * 提供折扣方案且使用大於3次者=>可降低流失風險\n",
    "> * 只要用過一次自動續約功能=>可降低流失風險"
   ]
  },
  {
   "cell_type": "markdown",
   "metadata": {},
   "source": [
    "### B. 忠誠用戶:\n",
    "\n",
    "* 流失行為:\n",
    "> * 使用折扣次數小於3次=>有流失風險\n",
    "> * 曾經手動取消方案1次=>出現流失風險\n",
    "> * 前一次方案未使用自動續約功能=>出現流失風險\n",
    "* 預防方式:\n",
    "> * 提供折扣方案且使用大於3次=>降低流失風險"
   ]
  },
  {
   "cell_type": "markdown",
   "metadata": {},
   "source": [
    "---"
   ]
  },
  {
   "cell_type": "markdown",
   "metadata": {},
   "source": [
    "## 使用特徵"
   ]
  },
  {
   "cell_type": "markdown",
   "metadata": {},
   "source": [
    "#### 針對用戶特徵分群\n",
    "\n",
    "|特徵|欄位資訊|\n",
    "|--|--|\n",
    "|城市|共22種城市，raw data以不同編號分類|\n",
    "|年齡|範圍1~99歲|\n",
    "|性別|分類男、女|\n",
    "|使用裝置|共有5種使用裝置，raw data以不同編號分類|"
   ]
  },
  {
   "cell_type": "markdown",
   "metadata": {},
   "source": [
    "##### 使用特徵(尋找不同群體對於流失差異的因子)\n",
    "##### ~~~From 用戶交易行為 & 聽歌日誌\n",
    "\n",
    "|特徵|欄位資訊|\n",
    "|--|--|\n",
    "|離散使用方案的用戶|前次方案使用前是否有超過30天未訂閱任何KKBox服務|\n",
    "|前次是否自動續約|本次與前次方案是否使用自動訂閱|\n",
    "|獲得折扣次數|平均每位用戶使用折扣次數|\n",
    "|使用方案的平均每日花費|--|\n",
    "|長期用戶|使用總方案是否超過一年者|\n",
    "|聽歌未達25%長度數量|--|\n",
    "|聽歌未達50%長度數量|--|\n",
    "|聽歌未達75%長度數量|--|\n",
    "|聽歌未達98.5%長度數量|--|\n",
    "|聽完整首歌的數量|--|\n",
    "|平均聽歌總時間|--|\n",
    "|總聽歌天數|--|\n",
    "|最常使用付款方式|--|\n",
    "|手動取消的次數|手動取消過方案的次數|\n",
    "|交易次數|--|"
   ]
  },
  {
   "cell_type": "code",
   "execution_count": null,
   "metadata": {},
   "outputs": [],
   "source": []
  }
 ],
 "metadata": {
  "kernelspec": {
   "display_name": "Python 3",
   "language": "python",
   "name": "python3"
  },
  "language_info": {
   "codemirror_mode": {
    "name": "ipython",
    "version": 3
   },
   "file_extension": ".py",
   "mimetype": "text/x-python",
   "name": "python",
   "nbconvert_exporter": "python",
   "pygments_lexer": "ipython3",
   "version": "3.6.8"
  }
 },
 "nbformat": 4,
 "nbformat_minor": 2
}
