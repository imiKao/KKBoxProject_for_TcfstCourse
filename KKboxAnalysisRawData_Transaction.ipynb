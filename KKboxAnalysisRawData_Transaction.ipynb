{
 "cells": [
  {
   "cell_type": "code",
   "execution_count": 1,
   "metadata": {},
   "outputs": [],
   "source": [
    "def dtype_compressor(df):\n",
    "  #object \n",
    "  # when unique ratio > 0.5, catogory stands less memory than object\n",
    "  converted_obj = pd.DataFrame()\n",
    "  df_obj = df.select_dtypes(include=['object'])\n",
    "  for col in df_obj.columns:\n",
    "    converted_obj.loc[:,col] = df_obj.loc[:,col].astype('category')\n",
    "\n",
    "  # numbers\n",
    "  df_down_num = pd.DataFrame()\n",
    "  df_num = df.select_dtypes(include=['number'])\n",
    "  for col in df_num.columns:\n",
    "    df_down_num.loc[:,col] = pd.to_numeric(df_num.loc[:,col],downcast='signed')\n",
    "\n",
    "  # merge\n",
    "  df = pd.concat([converted_obj,df_down_num],axis=1)\n",
    "  \n",
    "  del converted_obj, df_obj, df_down_num, df_num  \n",
    "  \n",
    "  return df"
   ]
  },
  {
   "cell_type": "code",
   "execution_count": 2,
   "metadata": {},
   "outputs": [],
   "source": [
    "def fast_datetime(s):\n",
    "    dates = {date:pd.to_datetime(date,format='%Y%m%d') for date in s.unique()}\n",
    "    return s.map(dates)"
   ]
  },
  {
   "cell_type": "code",
   "execution_count": 3,
   "metadata": {},
   "outputs": [],
   "source": [
    "%matplotlib inline\n",
    "\n",
    "import numpy as np\n",
    "import pandas as pd\n",
    "import matplotlib.pyplot as plt\n",
    "import seaborn as sns\n",
    "from datetime import datetime"
   ]
  },
  {
   "cell_type": "code",
   "execution_count": 4,
   "metadata": {},
   "outputs": [],
   "source": [
    "pd.set_option('display.float_format', lambda x: '%.3f' % x)"
   ]
  },
  {
   "cell_type": "code",
   "execution_count": 5,
   "metadata": {},
   "outputs": [],
   "source": [
    "KKboxTransac_1 = pd.read_csv(\"transactions.csv\")\n",
    "KKboxTransac_2 = pd.read_csv(\"transactions_v2.csv\")"
   ]
  },
  {
   "cell_type": "code",
   "execution_count": 6,
   "metadata": {},
   "outputs": [],
   "source": [
    "KKboxTransac = pd.concat([KKboxTransac_1, KKboxTransac_2], axis=0)"
   ]
  },
  {
   "cell_type": "code",
   "execution_count": 7,
   "metadata": {},
   "outputs": [],
   "source": [
    "# 如有記憶體優化需求時可用\n",
    "del KKboxTransac_1\n",
    "del KKboxTransac_2"
   ]
  },
  {
   "cell_type": "code",
   "execution_count": 23,
   "metadata": {
    "scrolled": false
   },
   "outputs": [
    {
     "data": {
      "text/html": [
       "<div>\n",
       "<style scoped>\n",
       "    .dataframe tbody tr th:only-of-type {\n",
       "        vertical-align: middle;\n",
       "    }\n",
       "\n",
       "    .dataframe tbody tr th {\n",
       "        vertical-align: top;\n",
       "    }\n",
       "\n",
       "    .dataframe thead th {\n",
       "        text-align: right;\n",
       "    }\n",
       "</style>\n",
       "<table border=\"1\" class=\"dataframe\">\n",
       "  <thead>\n",
       "    <tr style=\"text-align: right;\">\n",
       "      <th></th>\n",
       "      <th>msno</th>\n",
       "      <th>payment_method_id</th>\n",
       "      <th>payment_plan_days</th>\n",
       "      <th>plan_list_price</th>\n",
       "      <th>actual_amount_paid</th>\n",
       "      <th>is_auto_renew</th>\n",
       "      <th>is_cancel</th>\n",
       "      <th>membership_days</th>\n",
       "    </tr>\n",
       "  </thead>\n",
       "  <tbody>\n",
       "    <tr>\n",
       "      <th>6797850</th>\n",
       "      <td>+++FOrTS7ab3tIgIh8eWwX4FqRv8w/FoiOuyXsFvphY=</td>\n",
       "      <td>35</td>\n",
       "      <td>7</td>\n",
       "      <td>0</td>\n",
       "      <td>0</td>\n",
       "      <td>0</td>\n",
       "      <td>0</td>\n",
       "      <td>5.000</td>\n",
       "    </tr>\n",
       "    <tr>\n",
       "      <th>1914756</th>\n",
       "      <td>+++hVY1rZox/33YtvDgmKA2Frg/2qhkz12B9ylCvh8o=</td>\n",
       "      <td>41</td>\n",
       "      <td>30</td>\n",
       "      <td>99</td>\n",
       "      <td>99</td>\n",
       "      <td>1</td>\n",
       "      <td>0</td>\n",
       "      <td>28.000</td>\n",
       "    </tr>\n",
       "    <tr>\n",
       "      <th>1498592</th>\n",
       "      <td>+++hVY1rZox/33YtvDgmKA2Frg/2qhkz12B9ylCvh8o=</td>\n",
       "      <td>41</td>\n",
       "      <td>30</td>\n",
       "      <td>99</td>\n",
       "      <td>99</td>\n",
       "      <td>1</td>\n",
       "      <td>0</td>\n",
       "      <td>29.000</td>\n",
       "    </tr>\n",
       "    <tr>\n",
       "      <th>17923235</th>\n",
       "      <td>+++hVY1rZox/33YtvDgmKA2Frg/2qhkz12B9ylCvh8o=</td>\n",
       "      <td>41</td>\n",
       "      <td>30</td>\n",
       "      <td>99</td>\n",
       "      <td>99</td>\n",
       "      <td>1</td>\n",
       "      <td>0</td>\n",
       "      <td>31.000</td>\n",
       "    </tr>\n",
       "    <tr>\n",
       "      <th>58566</th>\n",
       "      <td>+++hVY1rZox/33YtvDgmKA2Frg/2qhkz12B9ylCvh8o=</td>\n",
       "      <td>41</td>\n",
       "      <td>30</td>\n",
       "      <td>99</td>\n",
       "      <td>99</td>\n",
       "      <td>1</td>\n",
       "      <td>0</td>\n",
       "      <td>31.000</td>\n",
       "    </tr>\n",
       "  </tbody>\n",
       "</table>\n",
       "</div>"
      ],
      "text/plain": [
       "                                                  msno  payment_method_id  \\\n",
       "6797850   +++FOrTS7ab3tIgIh8eWwX4FqRv8w/FoiOuyXsFvphY=                 35   \n",
       "1914756   +++hVY1rZox/33YtvDgmKA2Frg/2qhkz12B9ylCvh8o=                 41   \n",
       "1498592   +++hVY1rZox/33YtvDgmKA2Frg/2qhkz12B9ylCvh8o=                 41   \n",
       "17923235  +++hVY1rZox/33YtvDgmKA2Frg/2qhkz12B9ylCvh8o=                 41   \n",
       "58566     +++hVY1rZox/33YtvDgmKA2Frg/2qhkz12B9ylCvh8o=                 41   \n",
       "\n",
       "          payment_plan_days  plan_list_price  actual_amount_paid  \\\n",
       "6797850                   7                0                   0   \n",
       "1914756                  30               99                  99   \n",
       "1498592                  30               99                  99   \n",
       "17923235                 30               99                  99   \n",
       "58566                    30               99                  99   \n",
       "\n",
       "          is_auto_renew  is_cancel  membership_days  \n",
       "6797850               0          0            5.000  \n",
       "1914756               1          0           28.000  \n",
       "1498592               1          0           29.000  \n",
       "17923235              1          0           31.000  \n",
       "58566                 1          0           31.000  "
      ]
     },
     "execution_count": 23,
     "metadata": {},
     "output_type": "execute_result"
    }
   ],
   "source": [
    "KKboxTransac.head()"
   ]
  },
  {
   "cell_type": "code",
   "execution_count": 24,
   "metadata": {
    "scrolled": false
   },
   "outputs": [
    {
     "name": "stdout",
     "output_type": "stream",
     "text": [
      "<class 'pandas.core.frame.DataFrame'>\n",
      "Int64Index: 22437106 entries, 6797850 to 9570304\n",
      "Data columns (total 8 columns):\n",
      "msno                  category\n",
      "payment_method_id     int8\n",
      "payment_plan_days     int16\n",
      "plan_list_price       int16\n",
      "actual_amount_paid    int16\n",
      "is_auto_renew         int8\n",
      "is_cancel             int8\n",
      "membership_days       float64\n",
      "dtypes: category(1), float64(1), int16(3), int8(3)\n",
      "memory usage: 934.2 MB\n"
     ]
    }
   ],
   "source": [
    "KKboxTransac.info(memory_usage='deep')"
   ]
  },
  {
   "cell_type": "code",
   "execution_count": 10,
   "metadata": {},
   "outputs": [
    {
     "data": {
      "text/html": [
       "<div>\n",
       "<style scoped>\n",
       "    .dataframe tbody tr th:only-of-type {\n",
       "        vertical-align: middle;\n",
       "    }\n",
       "\n",
       "    .dataframe tbody tr th {\n",
       "        vertical-align: top;\n",
       "    }\n",
       "\n",
       "    .dataframe thead th {\n",
       "        text-align: right;\n",
       "    }\n",
       "</style>\n",
       "<table border=\"1\" class=\"dataframe\">\n",
       "  <thead>\n",
       "    <tr style=\"text-align: right;\">\n",
       "      <th></th>\n",
       "      <th>payment_method_id</th>\n",
       "      <th>payment_plan_days</th>\n",
       "      <th>plan_list_price</th>\n",
       "      <th>actual_amount_paid</th>\n",
       "      <th>is_auto_renew</th>\n",
       "      <th>transaction_date</th>\n",
       "      <th>membership_expire_date</th>\n",
       "      <th>is_cancel</th>\n",
       "    </tr>\n",
       "  </thead>\n",
       "  <tbody>\n",
       "    <tr>\n",
       "      <th>count</th>\n",
       "      <td>22978755.000</td>\n",
       "      <td>22978755.000</td>\n",
       "      <td>22978755.000</td>\n",
       "      <td>22978755.000</td>\n",
       "      <td>22978755.000</td>\n",
       "      <td>22978755.000</td>\n",
       "      <td>22978755.000</td>\n",
       "      <td>22978755.000</td>\n",
       "    </tr>\n",
       "    <tr>\n",
       "      <th>mean</th>\n",
       "      <td>38.870</td>\n",
       "      <td>33.499</td>\n",
       "      <td>148.722</td>\n",
       "      <td>150.664</td>\n",
       "      <td>0.848</td>\n",
       "      <td>20158275.175</td>\n",
       "      <td>20159401.719</td>\n",
       "      <td>0.039</td>\n",
       "    </tr>\n",
       "    <tr>\n",
       "      <th>std</th>\n",
       "      <td>3.624</td>\n",
       "      <td>39.856</td>\n",
       "      <td>170.451</td>\n",
       "      <td>171.461</td>\n",
       "      <td>0.359</td>\n",
       "      <td>6627.848</td>\n",
       "      <td>8128.208</td>\n",
       "      <td>0.193</td>\n",
       "    </tr>\n",
       "    <tr>\n",
       "      <th>min</th>\n",
       "      <td>1.000</td>\n",
       "      <td>0.000</td>\n",
       "      <td>0.000</td>\n",
       "      <td>0.000</td>\n",
       "      <td>0.000</td>\n",
       "      <td>20150101.000</td>\n",
       "      <td>19700101.000</td>\n",
       "      <td>0.000</td>\n",
       "    </tr>\n",
       "    <tr>\n",
       "      <th>25%</th>\n",
       "      <td>38.000</td>\n",
       "      <td>30.000</td>\n",
       "      <td>99.000</td>\n",
       "      <td>99.000</td>\n",
       "      <td>1.000</td>\n",
       "      <td>20150922.000</td>\n",
       "      <td>20151102.000</td>\n",
       "      <td>0.000</td>\n",
       "    </tr>\n",
       "    <tr>\n",
       "      <th>50%</th>\n",
       "      <td>41.000</td>\n",
       "      <td>30.000</td>\n",
       "      <td>149.000</td>\n",
       "      <td>149.000</td>\n",
       "      <td>1.000</td>\n",
       "      <td>20160414.000</td>\n",
       "      <td>20160527.000</td>\n",
       "      <td>0.000</td>\n",
       "    </tr>\n",
       "    <tr>\n",
       "      <th>75%</th>\n",
       "      <td>41.000</td>\n",
       "      <td>30.000</td>\n",
       "      <td>149.000</td>\n",
       "      <td>149.000</td>\n",
       "      <td>1.000</td>\n",
       "      <td>20161022.000</td>\n",
       "      <td>20161127.000</td>\n",
       "      <td>0.000</td>\n",
       "    </tr>\n",
       "    <tr>\n",
       "      <th>max</th>\n",
       "      <td>41.000</td>\n",
       "      <td>450.000</td>\n",
       "      <td>2000.000</td>\n",
       "      <td>2000.000</td>\n",
       "      <td>1.000</td>\n",
       "      <td>20170331.000</td>\n",
       "      <td>20361015.000</td>\n",
       "      <td>1.000</td>\n",
       "    </tr>\n",
       "  </tbody>\n",
       "</table>\n",
       "</div>"
      ],
      "text/plain": [
       "       payment_method_id  payment_plan_days  plan_list_price  \\\n",
       "count       22978755.000       22978755.000     22978755.000   \n",
       "mean              38.870             33.499          148.722   \n",
       "std                3.624             39.856          170.451   \n",
       "min                1.000              0.000            0.000   \n",
       "25%               38.000             30.000           99.000   \n",
       "50%               41.000             30.000          149.000   \n",
       "75%               41.000             30.000          149.000   \n",
       "max               41.000            450.000         2000.000   \n",
       "\n",
       "       actual_amount_paid  is_auto_renew  transaction_date  \\\n",
       "count        22978755.000   22978755.000      22978755.000   \n",
       "mean              150.664          0.848      20158275.175   \n",
       "std               171.461          0.359          6627.848   \n",
       "min                 0.000          0.000      20150101.000   \n",
       "25%                99.000          1.000      20150922.000   \n",
       "50%               149.000          1.000      20160414.000   \n",
       "75%               149.000          1.000      20161022.000   \n",
       "max              2000.000          1.000      20170331.000   \n",
       "\n",
       "       membership_expire_date    is_cancel  \n",
       "count            22978755.000 22978755.000  \n",
       "mean             20159401.719        0.039  \n",
       "std                  8128.208        0.193  \n",
       "min              19700101.000        0.000  \n",
       "25%              20151102.000        0.000  \n",
       "50%              20160527.000        0.000  \n",
       "75%              20161127.000        0.000  \n",
       "max              20361015.000        1.000  "
      ]
     },
     "execution_count": 10,
     "metadata": {},
     "output_type": "execute_result"
    }
   ],
   "source": [
    "KKboxTransac.describe()"
   ]
  },
  {
   "cell_type": "markdown",
   "metadata": {},
   "source": [
    "-------"
   ]
  },
  {
   "cell_type": "markdown",
   "metadata": {},
   "source": [
    "##### 型態轉換處理(優化記憶體、日期轉換)"
   ]
  },
  {
   "cell_type": "code",
   "execution_count": 11,
   "metadata": {},
   "outputs": [],
   "source": [
    "date_rename = {'transaction_date':'trans_date', 'membership_expire_date':'mem_expire_date'}\n",
    "KKboxTransac.rename(columns=date_rename,inplace=True)"
   ]
  },
  {
   "cell_type": "code",
   "execution_count": 12,
   "metadata": {},
   "outputs": [],
   "source": [
    "del date_rename"
   ]
  },
  {
   "cell_type": "code",
   "execution_count": 13,
   "metadata": {},
   "outputs": [],
   "source": [
    "KKboxTransac = dtype_compressor(KKboxTransac)"
   ]
  },
  {
   "cell_type": "code",
   "execution_count": 14,
   "metadata": {},
   "outputs": [],
   "source": [
    "d = ['trans_date', 'mem_expire_date']\n",
    "for col in d:\n",
    "  KKboxTransac[col] = fast_datetime(KKboxTransac[col])"
   ]
  },
  {
   "cell_type": "code",
   "execution_count": 15,
   "metadata": {},
   "outputs": [],
   "source": [
    "KKboxTransac = KKboxTransac.sort_values(by=['msno','trans_date'])"
   ]
  },
  {
   "cell_type": "markdown",
   "metadata": {},
   "source": [
    "---"
   ]
  },
  {
   "cell_type": "markdown",
   "metadata": {},
   "source": [
    "##### 將mem_expire_date - trans_date得到合約天數membership_days"
   ]
  },
  {
   "cell_type": "code",
   "execution_count": 16,
   "metadata": {},
   "outputs": [],
   "source": [
    "KKboxTransac['membership'] = KKboxTransac['mem_expire_date'] - KKboxTransac['trans_date']"
   ]
  },
  {
   "cell_type": "code",
   "execution_count": 17,
   "metadata": {},
   "outputs": [],
   "source": [
    "KKboxTransac['membership_days'] = KKboxTransac['membership'] / np.timedelta64(1,'D')"
   ]
  },
  {
   "cell_type": "markdown",
   "metadata": {},
   "source": [
    "##### 刪除mem_expire_date、trans_date與membership欄位"
   ]
  },
  {
   "cell_type": "code",
   "execution_count": 18,
   "metadata": {},
   "outputs": [],
   "source": [
    "KKboxTransac = KKboxTransac.drop(columns=['mem_expire_date','trans_date', 'membership'])"
   ]
  },
  {
   "cell_type": "code",
   "execution_count": 19,
   "metadata": {},
   "outputs": [
    {
     "data": {
      "text/html": [
       "<div>\n",
       "<style scoped>\n",
       "    .dataframe tbody tr th:only-of-type {\n",
       "        vertical-align: middle;\n",
       "    }\n",
       "\n",
       "    .dataframe tbody tr th {\n",
       "        vertical-align: top;\n",
       "    }\n",
       "\n",
       "    .dataframe thead th {\n",
       "        text-align: right;\n",
       "    }\n",
       "</style>\n",
       "<table border=\"1\" class=\"dataframe\">\n",
       "  <thead>\n",
       "    <tr style=\"text-align: right;\">\n",
       "      <th></th>\n",
       "      <th>msno</th>\n",
       "      <th>payment_method_id</th>\n",
       "      <th>payment_plan_days</th>\n",
       "      <th>plan_list_price</th>\n",
       "      <th>actual_amount_paid</th>\n",
       "      <th>is_auto_renew</th>\n",
       "      <th>is_cancel</th>\n",
       "      <th>membership_days</th>\n",
       "    </tr>\n",
       "  </thead>\n",
       "  <tbody>\n",
       "    <tr>\n",
       "      <th>6797850</th>\n",
       "      <td>+++FOrTS7ab3tIgIh8eWwX4FqRv8w/FoiOuyXsFvphY=</td>\n",
       "      <td>35</td>\n",
       "      <td>7</td>\n",
       "      <td>0</td>\n",
       "      <td>0</td>\n",
       "      <td>0</td>\n",
       "      <td>0</td>\n",
       "      <td>5.000</td>\n",
       "    </tr>\n",
       "    <tr>\n",
       "      <th>1521480</th>\n",
       "      <td>+++IZseRRiQS9aaSkH6cMYU6bGDcxUieAi/tH67sC5s=</td>\n",
       "      <td>38</td>\n",
       "      <td>410</td>\n",
       "      <td>1788</td>\n",
       "      <td>1788</td>\n",
       "      <td>0</td>\n",
       "      <td>0</td>\n",
       "      <td>410.000</td>\n",
       "    </tr>\n",
       "    <tr>\n",
       "      <th>249714</th>\n",
       "      <td>+++IZseRRiQS9aaSkH6cMYU6bGDcxUieAi/tH67sC5s=</td>\n",
       "      <td>22</td>\n",
       "      <td>395</td>\n",
       "      <td>1599</td>\n",
       "      <td>1599</td>\n",
       "      <td>0</td>\n",
       "      <td>0</td>\n",
       "      <td>471.000</td>\n",
       "    </tr>\n",
       "    <tr>\n",
       "      <th>1914756</th>\n",
       "      <td>+++hVY1rZox/33YtvDgmKA2Frg/2qhkz12B9ylCvh8o=</td>\n",
       "      <td>41</td>\n",
       "      <td>30</td>\n",
       "      <td>99</td>\n",
       "      <td>99</td>\n",
       "      <td>1</td>\n",
       "      <td>0</td>\n",
       "      <td>28.000</td>\n",
       "    </tr>\n",
       "    <tr>\n",
       "      <th>1498592</th>\n",
       "      <td>+++hVY1rZox/33YtvDgmKA2Frg/2qhkz12B9ylCvh8o=</td>\n",
       "      <td>41</td>\n",
       "      <td>30</td>\n",
       "      <td>99</td>\n",
       "      <td>99</td>\n",
       "      <td>1</td>\n",
       "      <td>0</td>\n",
       "      <td>29.000</td>\n",
       "    </tr>\n",
       "  </tbody>\n",
       "</table>\n",
       "</div>"
      ],
      "text/plain": [
       "                                                 msno  payment_method_id  \\\n",
       "6797850  +++FOrTS7ab3tIgIh8eWwX4FqRv8w/FoiOuyXsFvphY=                 35   \n",
       "1521480  +++IZseRRiQS9aaSkH6cMYU6bGDcxUieAi/tH67sC5s=                 38   \n",
       "249714   +++IZseRRiQS9aaSkH6cMYU6bGDcxUieAi/tH67sC5s=                 22   \n",
       "1914756  +++hVY1rZox/33YtvDgmKA2Frg/2qhkz12B9ylCvh8o=                 41   \n",
       "1498592  +++hVY1rZox/33YtvDgmKA2Frg/2qhkz12B9ylCvh8o=                 41   \n",
       "\n",
       "         payment_plan_days  plan_list_price  actual_amount_paid  \\\n",
       "6797850                  7                0                   0   \n",
       "1521480                410             1788                1788   \n",
       "249714                 395             1599                1599   \n",
       "1914756                 30               99                  99   \n",
       "1498592                 30               99                  99   \n",
       "\n",
       "         is_auto_renew  is_cancel  membership_days  \n",
       "6797850              0          0            5.000  \n",
       "1521480              0          0          410.000  \n",
       "249714               0          0          471.000  \n",
       "1914756              1          0           28.000  \n",
       "1498592              1          0           29.000  "
      ]
     },
     "execution_count": 19,
     "metadata": {},
     "output_type": "execute_result"
    }
   ],
   "source": [
    "KKboxTransac = KKboxTransac.sort_values(by=['msno','membership_days'])\n",
    "KKboxTransac.head()"
   ]
  },
  {
   "cell_type": "markdown",
   "metadata": {},
   "source": [
    "----"
   ]
  },
  {
   "cell_type": "markdown",
   "metadata": {},
   "source": [
    "##### 在觀察KKBOX的所有方案中，最大方案天數為365天，這邊先濾去不合理的值"
   ]
  },
  {
   "cell_type": "code",
   "execution_count": 20,
   "metadata": {},
   "outputs": [],
   "source": [
    "KKboxTransac = KKboxTransac[KKboxTransac[\"membership_days\"] >= 0]"
   ]
  },
  {
   "cell_type": "code",
   "execution_count": 21,
   "metadata": {},
   "outputs": [],
   "source": [
    "KKboxTransac = KKboxTransac[KKboxTransac[\"membership_days\"] <= 365]"
   ]
  },
  {
   "cell_type": "code",
   "execution_count": 22,
   "metadata": {
    "scrolled": true
   },
   "outputs": [
    {
     "data": {
      "text/html": [
       "<div>\n",
       "<style scoped>\n",
       "    .dataframe tbody tr th:only-of-type {\n",
       "        vertical-align: middle;\n",
       "    }\n",
       "\n",
       "    .dataframe tbody tr th {\n",
       "        vertical-align: top;\n",
       "    }\n",
       "\n",
       "    .dataframe thead th {\n",
       "        text-align: right;\n",
       "    }\n",
       "</style>\n",
       "<table border=\"1\" class=\"dataframe\">\n",
       "  <thead>\n",
       "    <tr style=\"text-align: right;\">\n",
       "      <th></th>\n",
       "      <th>msno</th>\n",
       "      <th>payment_method_id</th>\n",
       "      <th>payment_plan_days</th>\n",
       "      <th>plan_list_price</th>\n",
       "      <th>actual_amount_paid</th>\n",
       "      <th>is_auto_renew</th>\n",
       "      <th>is_cancel</th>\n",
       "      <th>membership_days</th>\n",
       "    </tr>\n",
       "  </thead>\n",
       "  <tbody>\n",
       "    <tr>\n",
       "      <th>6797850</th>\n",
       "      <td>+++FOrTS7ab3tIgIh8eWwX4FqRv8w/FoiOuyXsFvphY=</td>\n",
       "      <td>35</td>\n",
       "      <td>7</td>\n",
       "      <td>0</td>\n",
       "      <td>0</td>\n",
       "      <td>0</td>\n",
       "      <td>0</td>\n",
       "      <td>5.000</td>\n",
       "    </tr>\n",
       "    <tr>\n",
       "      <th>1914756</th>\n",
       "      <td>+++hVY1rZox/33YtvDgmKA2Frg/2qhkz12B9ylCvh8o=</td>\n",
       "      <td>41</td>\n",
       "      <td>30</td>\n",
       "      <td>99</td>\n",
       "      <td>99</td>\n",
       "      <td>1</td>\n",
       "      <td>0</td>\n",
       "      <td>28.000</td>\n",
       "    </tr>\n",
       "    <tr>\n",
       "      <th>1498592</th>\n",
       "      <td>+++hVY1rZox/33YtvDgmKA2Frg/2qhkz12B9ylCvh8o=</td>\n",
       "      <td>41</td>\n",
       "      <td>30</td>\n",
       "      <td>99</td>\n",
       "      <td>99</td>\n",
       "      <td>1</td>\n",
       "      <td>0</td>\n",
       "      <td>29.000</td>\n",
       "    </tr>\n",
       "    <tr>\n",
       "      <th>17923235</th>\n",
       "      <td>+++hVY1rZox/33YtvDgmKA2Frg/2qhkz12B9ylCvh8o=</td>\n",
       "      <td>41</td>\n",
       "      <td>30</td>\n",
       "      <td>99</td>\n",
       "      <td>99</td>\n",
       "      <td>1</td>\n",
       "      <td>0</td>\n",
       "      <td>31.000</td>\n",
       "    </tr>\n",
       "    <tr>\n",
       "      <th>58566</th>\n",
       "      <td>+++hVY1rZox/33YtvDgmKA2Frg/2qhkz12B9ylCvh8o=</td>\n",
       "      <td>41</td>\n",
       "      <td>30</td>\n",
       "      <td>99</td>\n",
       "      <td>99</td>\n",
       "      <td>1</td>\n",
       "      <td>0</td>\n",
       "      <td>31.000</td>\n",
       "    </tr>\n",
       "  </tbody>\n",
       "</table>\n",
       "</div>"
      ],
      "text/plain": [
       "                                                  msno  payment_method_id  \\\n",
       "6797850   +++FOrTS7ab3tIgIh8eWwX4FqRv8w/FoiOuyXsFvphY=                 35   \n",
       "1914756   +++hVY1rZox/33YtvDgmKA2Frg/2qhkz12B9ylCvh8o=                 41   \n",
       "1498592   +++hVY1rZox/33YtvDgmKA2Frg/2qhkz12B9ylCvh8o=                 41   \n",
       "17923235  +++hVY1rZox/33YtvDgmKA2Frg/2qhkz12B9ylCvh8o=                 41   \n",
       "58566     +++hVY1rZox/33YtvDgmKA2Frg/2qhkz12B9ylCvh8o=                 41   \n",
       "\n",
       "          payment_plan_days  plan_list_price  actual_amount_paid  \\\n",
       "6797850                   7                0                   0   \n",
       "1914756                  30               99                  99   \n",
       "1498592                  30               99                  99   \n",
       "17923235                 30               99                  99   \n",
       "58566                    30               99                  99   \n",
       "\n",
       "          is_auto_renew  is_cancel  membership_days  \n",
       "6797850               0          0            5.000  \n",
       "1914756               1          0           28.000  \n",
       "1498592               1          0           29.000  \n",
       "17923235              1          0           31.000  \n",
       "58566                 1          0           31.000  "
      ]
     },
     "execution_count": 22,
     "metadata": {},
     "output_type": "execute_result"
    }
   ],
   "source": [
    "KKboxTransac.head()"
   ]
  },
  {
   "cell_type": "markdown",
   "metadata": {},
   "source": [
    "------"
   ]
  },
  {
   "cell_type": "markdown",
   "metadata": {},
   "source": [
    "##### 觀察各特徵"
   ]
  },
  {
   "cell_type": "markdown",
   "metadata": {},
   "source": [
    "* **特徵payment_method_id：**"
   ]
  },
  {
   "cell_type": "code",
   "execution_count": 26,
   "metadata": {},
   "outputs": [
    {
     "name": "stdout",
     "output_type": "stream",
     "text": [
      "付款方式共含 40 種，其中以編號41數量最多\n"
     ]
    },
    {
     "data": {
      "image/png": "[encoded data removed]",
      "text/plain": [
       "<Figure size 1080x216 with 1 Axes>"
      ]
     },
     "metadata": {
      "needs_background": "light"
     },
     "output_type": "display_data"
    }
   ],
   "source": [
    "print('付款方式共含', end=' ')\n",
    "print(len(KKboxTransac['payment_method_id'].unique()),end=' ')\n",
    "print('種，其中以編號41數量最多')\n",
    "plt.figure(figsize=(15,3))\n",
    "sns.countplot(x=\"payment_method_id\", data=KKboxTransac, palette = \"Set1\")\n",
    "plt.ylabel('Count', fontsize=12)\n",
    "plt.xlabel('payment_method_id', fontsize=12)\n",
    "plt.xticks(rotation='vertical')\n",
    "plt.title(\"Count of payment_method_id in Transactions Data Set\", fontsize=12)\n",
    "plt.show()"
   ]
  },
  {
   "cell_type": "markdown",
   "metadata": {},
   "source": [
    "* **特徵payment_plan_days：**"
   ]
  },
  {
   "cell_type": "code",
   "execution_count": 28,
   "metadata": {},
   "outputs": [
    {
     "name": "stdout",
     "output_type": "stream",
     "text": [
      "方案天數有 34 種，其中以30天方案(月費)數量最多\n"
     ]
    },
    {
     "data": {
      "image/png": "[encoded data removed]",
      "text/plain": [
       "<Figure size 1080x216 with 1 Axes>"
      ]
     },
     "metadata": {
      "needs_background": "light"
     },
     "output_type": "display_data"
    }
   ],
   "source": [
    "print('方案天數有', end=' ')\n",
    "print(len(KKboxTransac['payment_plan_days'].unique()),end=' ')\n",
    "print('種，其中以30天方案(月費)數量最多')\n",
    "plt.figure(figsize=(15,3))\n",
    "sns.countplot(x=\"payment_plan_days\", data=KKboxTransac, palette = \"Set2\")\n",
    "plt.ylabel('Count', fontsize=12)\n",
    "plt.xlabel('payment_plan_days', fontsize=12)\n",
    "plt.xticks(rotation='vertical')\n",
    "plt.title(\"Count of payment_plan_days in Transactions Data Set\", fontsize=12)\n",
    "plt.show()"
   ]
  },
  {
   "cell_type": "markdown",
   "metadata": {},
   "source": [
    "* **特徵plan_list_price：**"
   ]
  },
  {
   "cell_type": "code",
   "execution_count": 29,
   "metadata": {},
   "outputs": [
    {
     "name": "stdout",
     "output_type": "stream",
     "text": [
      "方案價格有 54 種，其中以149元方案數量最多\n"
     ]
    },
    {
     "data": {
      "image/png": "[encoded data removed]",
      "text/plain": [
       "<Figure size 1080x216 with 1 Axes>"
      ]
     },
     "metadata": {
      "needs_background": "light"
     },
     "output_type": "display_data"
    }
   ],
   "source": [
    "print('方案價格有', end=' ')\n",
    "print(len(KKboxTransac['plan_list_price'].unique()),end=' ')\n",
    "print('種，其中以149元方案數量最多')\n",
    "plt.figure(figsize=(15,3))\n",
    "sns.countplot(x=\"plan_list_price\", data=KKboxTransac, palette = \"Set2\")\n",
    "plt.ylabel('Count', fontsize=12)\n",
    "plt.xlabel('plan_list_price', fontsize=12)\n",
    "plt.xticks(rotation='vertical')\n",
    "plt.title(\"Count of plan_list_price in Transactions Data Set\", fontsize=12)\n",
    "plt.show()"
   ]
  },
  {
   "cell_type": "markdown",
   "metadata": {},
   "source": [
    "* **特徵actual_amount_paid：**"
   ]
  },
  {
   "cell_type": "code",
   "execution_count": 30,
   "metadata": {},
   "outputs": [
    {
     "name": "stdout",
     "output_type": "stream",
     "text": [
      "實際付費價格共有 59 種，其中以149元方案數量最多\n"
     ]
    },
    {
     "data": {
      "image/png": "[encoded data removed]",
      "text/plain": [
       "<Figure size 1080x216 with 1 Axes>"
      ]
     },
     "metadata": {
      "needs_background": "light"
     },
     "output_type": "display_data"
    }
   ],
   "source": [
    "print('實際付費價格共有', end=' ')\n",
    "print(len(KKboxTransac['actual_amount_paid'].unique()),end=' ')\n",
    "print('種，其中以149元方案數量最多')\n",
    "plt.figure(figsize=(15,3))\n",
    "sns.countplot(x=\"actual_amount_paid\", data=KKboxTransac, palette = \"Set1\")\n",
    "plt.ylabel('Count', fontsize=12)\n",
    "plt.xlabel('actual_amount_paid', fontsize=12)\n",
    "plt.xticks(rotation='vertical')\n",
    "plt.title(\"Count of actual_amount_paid in Transactions Data Set\", fontsize=12)\n",
    "plt.show()"
   ]
  },
  {
   "cell_type": "markdown",
   "metadata": {},
   "source": [
    "* **特徵\"plan_list_price\"與\"actual_amount_paid\"相關性達89%，故可以只看\"plan_list_price\"**"
   ]
  },
  {
   "cell_type": "code",
   "execution_count": 31,
   "metadata": {},
   "outputs": [
    {
     "name": "stdout",
     "output_type": "stream",
     "text": [
      "plan_list_price與actual_amount_paid相關性達89.2943016977657 %\n"
     ]
    }
   ],
   "source": [
    "print('plan_list_price與actual_amount_paid相關性達',end='')\n",
    "print(100*KKboxTransac['plan_list_price'].corr(KKboxTransac['actual_amount_paid'],method='pearson'),\"%\")"
   ]
  },
  {
   "cell_type": "markdown",
   "metadata": {},
   "source": [
    "* **特徵membership_days：**"
   ]
  },
  {
   "cell_type": "code",
   "execution_count": 33,
   "metadata": {},
   "outputs": [
    {
     "name": "stdout",
     "output_type": "stream",
     "text": [
      "實際方案天數共含 366 種\n"
     ]
    },
    {
     "data": {
      "image/png": "[encoded data removed]",
      "text/plain": [
       "<Figure size 1080x216 with 1 Axes>"
      ]
     },
     "metadata": {
      "needs_background": "light"
     },
     "output_type": "display_data"
    }
   ],
   "source": [
    "print('實際方案天數共含', end=' ')\n",
    "print(len(KKboxTransac['membership_days'].unique()),end=' ')\n",
    "print('種')\n",
    "plt.figure(figsize=(15,3))\n",
    "sns.countplot(x=\"membership_days\", data=KKboxTransac, palette = \"Set1\")\n",
    "plt.ylabel('Count', fontsize=12)\n",
    "plt.xlabel('membership_days', fontsize=12)\n",
    "plt.xticks(rotation='vertical')\n",
    "plt.title(\"Count of membership_days in Transactions Data Set\", fontsize=12)\n",
    "plt.show()"
   ]
  },
  {
   "cell_type": "markdown",
   "metadata": {},
   "source": [
    "* **特徵is_auto_renew：**"
   ]
  },
  {
   "cell_type": "code",
   "execution_count": 34,
   "metadata": {},
   "outputs": [
    {
     "data": {
      "text/plain": [
       "1    19148991\n",
       "0     3288115\n",
       "Name: is_auto_renew, dtype: int64"
      ]
     },
     "execution_count": 34,
     "metadata": {},
     "output_type": "execute_result"
    }
   ],
   "source": [
    "KKboxTransac[\"is_auto_renew\"].value_counts()"
   ]
  },
  {
   "cell_type": "code",
   "execution_count": 35,
   "metadata": {
    "scrolled": true
   },
   "outputs": [
    {
     "data": {
      "image/png": "[encoded data removed]",
      "text/plain": [
       "<Figure size 288x216 with 1 Axes>"
      ]
     },
     "metadata": {
      "needs_background": "light"
     },
     "output_type": "display_data"
    }
   ],
   "source": [
    "plt.figure(figsize=(4,3))\n",
    "sns.countplot(x=\"is_auto_renew\", data=KKboxTransac, palette = \"Set2\")\n",
    "plt.ylabel('Count', fontsize=12)\n",
    "plt.xlabel('is_auto_renew', fontsize=12)\n",
    "plt.xticks(rotation='vertical')\n",
    "plt.title(\"Count of is_auto_renew\", fontsize=12)\n",
    "plt.show()"
   ]
  },
  {
   "cell_type": "markdown",
   "metadata": {},
   "source": [
    "##### 小結: Transaction的msno有重複的，表示同一個人有很多次交易紀錄"
   ]
  },
  {
   "cell_type": "markdown",
   "metadata": {},
   "source": [
    "---"
   ]
  },
  {
   "cell_type": "code",
   "execution_count": 75,
   "metadata": {},
   "outputs": [],
   "source": [
    "# 存成csv\n",
    "KKboxTransac.to_csv('KKboxTransac.csv',index=False,header=True)"
   ]
  },
  {
   "cell_type": "code",
   "execution_count": null,
   "metadata": {},
   "outputs": [],
   "source": []
  }
 ],
 "metadata": {
  "kernelspec": {
   "display_name": "Python 3",
   "language": "python",
   "name": "python3"
  },
  "language_info": {
   "codemirror_mode": {
    "name": "ipython",
    "version": 3
   },
   "file_extension": ".py",
   "mimetype": "text/x-python",
   "name": "python",
   "nbconvert_exporter": "python",
   "pygments_lexer": "ipython3",
   "version": "3.6.8"
  }
 },
 "nbformat": 4,
 "nbformat_minor": 2
}
