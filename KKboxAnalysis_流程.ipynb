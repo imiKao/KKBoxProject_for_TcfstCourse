{
 "cells": [
  {
   "cell_type": "markdown",
   "metadata": {},
   "source": [
    "### 目前仿照資料採礦流程CRISP，優點可以分割成不同子任務"
   ]
  },
  {
   "cell_type": "markdown",
   "metadata": {},
   "source": [
    "## 定義問題"
   ]
  },
  {
   "cell_type": "markdown",
   "metadata": {},
   "source": [
    "* **客戶是否流失?**\n",
    "* 分類問題 or 流失概率問題(迴歸?) or 其他?"
   ]
  },
  {
   "cell_type": "markdown",
   "metadata": {},
   "source": [
    "## 定義分析資料"
   ]
  },
  {
   "cell_type": "markdown",
   "metadata": {},
   "source": [
    "欄位主要以客戶個人資料(所處城市、年齡、性別等)、交易資料(方案價格、方案天數等)、用戶紀錄(聽歌長度比例、聽歌秒數，以每一天為一筆資料)"
   ]
  },
  {
   "cell_type": "markdown",
   "metadata": {},
   "source": [
    "## 特徵工程"
   ]
  },
  {
   "cell_type": "markdown",
   "metadata": {},
   "source": [
    "* 缺失值處理\n",
    "* 各欄位的意義，定義問題(影響欄位選擇與整併)\n",
    "* 欄位選擇決定(差異太大的，如city)(套入weka先行確認?)\n",
    "* 各欄位整併(移除不合理的資料 or 分割連續資料為離散(做類別) or 例如將日期分類成不同月份、季節、周末與平日)"
   ]
  },
  {
   "cell_type": "markdown",
   "metadata": {},
   "source": [
    "## 模型訓練&測試"
   ]
  },
  {
   "cell_type": "markdown",
   "metadata": {},
   "source": [
    "* 找出可用的模型(分類或迴歸或其他)\n",
    "* 選擇模型的優勢與劣勢(例如隨機森林能處理特徵很多的資料，且訓練完會給出哪些特徵很重要)\n",
    "* 模型怎麼設定參數(大部分應該都有部分內建的參數設定；但調參應該不是最優先要做的事，不過在測試過程中確認不同參數或算法影響模型訓練結果程度)\n",
    "* 訓練結果的驗證效果(驗證模型的分數或其他驗證方法)\n",
    "* 評估測試結果的方法(例如FPR,TPR等)"
   ]
  },
  {
   "cell_type": "markdown",
   "metadata": {},
   "source": [
    "## 後續應用"
   ]
  },
  {
   "cell_type": "markdown",
   "metadata": {},
   "source": [
    "to be discussed..."
   ]
  },
  {
   "cell_type": "code",
   "execution_count": null,
   "metadata": {},
   "outputs": [],
   "source": []
  }
 ],
 "metadata": {
  "kernelspec": {
   "display_name": "Python 3",
   "language": "python",
   "name": "python3"
  },
  "language_info": {
   "codemirror_mode": {
    "name": "ipython",
    "version": 3
   },
   "file_extension": ".py",
   "mimetype": "text/x-python",
   "name": "python",
   "nbconvert_exporter": "python",
   "pygments_lexer": "ipython3",
   "version": "3.6.8"
  }
 },
 "nbformat": 4,
 "nbformat_minor": 2
}
