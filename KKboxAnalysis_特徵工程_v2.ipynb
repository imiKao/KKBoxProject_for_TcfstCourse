{
 "cells": [
  {
   "cell_type": "markdown",
   "metadata": {},
   "source": [
    "## 本專題主要針對KKBOX所提供共5份資料(如下)，主要目標為針對客戶是否流失進行分析。"
   ]
  },
  {
   "cell_type": "markdown",
   "metadata": {},
   "source": [
    "|   RawData                  |  說明                |特徵說明   |\n",
    "|----------------------------|----------------------|----------|\n",
    "| sample_submission_zero.csv | Testing Data         |user_id, 流失值|\n",
    "|train.csv                   | Training Data        |user_id, 流失值|\n",
    "|members.csv                 | 客戶個人資料          |年齡,居住地等|\n",
    "|ransactions.csv             | 客戶交易資料          |付費方案,費用等|\n",
    "|user_logs.csv               | 使用者紀錄            |每日聽歌秒數,聽歌長短|\n",
    "\n",
    "### ***※各資料中的欄位特徵變數於最下方有個別解釋以及資料分佈的觀察。***"
   ]
  },
  {
   "cell_type": "code",
   "execution_count": 1,
   "metadata": {},
   "outputs": [],
   "source": [
    "%matplotlib inline\n",
    "\n",
    "import numpy as np\n",
    "import pandas as pd\n",
    "import matplotlib.pyplot as plt\n",
    "import seaborn as sns\n",
    "from datetime import datetime\n",
    "from sklearn.preprocessing import StandardScaler"
   ]
  },
  {
   "cell_type": "code",
   "execution_count": 2,
   "metadata": {},
   "outputs": [],
   "source": [
    "def dtype_compressor(df):\n",
    "  #object \n",
    "  # when unique ratio > 0.5, catogory stands less memory than object\n",
    "  converted_obj = pd.DataFrame()\n",
    "  df_obj = df.select_dtypes(include=['object'])\n",
    "  for col in df_obj.columns:\n",
    "    converted_obj.loc[:,col] = df_obj.loc[:,col].astype('category')\n",
    "\n",
    "  # numbers\n",
    "  df_down_num = pd.DataFrame()\n",
    "  df_num = df.select_dtypes(include=['number'])\n",
    "  for col in df_num.columns:\n",
    "    df_down_num.loc[:,col] = pd.to_numeric(df_num.loc[:,col],downcast='signed')\n",
    "\n",
    "  # merge\n",
    "  df = pd.concat([converted_obj,df_down_num],axis=1)\n",
    "  \n",
    "  del converted_obj, df_obj, df_down_num, df_num  \n",
    "  \n",
    "  return df"
   ]
  },
  {
   "cell_type": "code",
   "execution_count": 3,
   "metadata": {},
   "outputs": [],
   "source": [
    "def fast_datetime(s):\n",
    "    dates = {date:pd.to_datetime(date,format='%Y%m%d') for date in s.unique()}\n",
    "    return s.map(dates)"
   ]
  },
  {
   "cell_type": "code",
   "execution_count": 4,
   "metadata": {},
   "outputs": [],
   "source": [
    "pd.set_option('display.float_format', lambda x: '%.3f' % x)"
   ]
  },
  {
   "cell_type": "markdown",
   "metadata": {},
   "source": [
    "### 讀取csv-Testing Set"
   ]
  },
  {
   "cell_type": "markdown",
   "metadata": {},
   "source": [
    "---"
   ]
  },
  {
   "cell_type": "markdown",
   "metadata": {},
   "source": [
    "### 讀取csv-Training Set"
   ]
  },
  {
   "cell_type": "code",
   "execution_count": 5,
   "metadata": {},
   "outputs": [],
   "source": [
    "# KKboxTrain01 = pd.read_csv(\"train.csv\")"
   ]
  },
  {
   "cell_type": "code",
   "execution_count": 6,
   "metadata": {
    "scrolled": true
   },
   "outputs": [
    {
     "ename": "NameError",
     "evalue": "name 'KKboxTrain01' is not defined",
     "output_type": "error",
     "traceback": [
      "\u001b[1;31m---------------------------------------------------------------------------\u001b[0m",
      "\u001b[1;31mNameError\u001b[0m                                 Traceback (most recent call last)",
      "\u001b[1;32m<ipython-input-6-9be1a5220caa>\u001b[0m in \u001b[0;36m<module>\u001b[1;34m()\u001b[0m\n\u001b[1;32m----> 1\u001b[1;33m \u001b[0mprint\u001b[0m\u001b[1;33m(\u001b[0m\u001b[0mKKboxTrain01\u001b[0m\u001b[1;33m.\u001b[0m\u001b[0mshape\u001b[0m\u001b[1;33m)\u001b[0m\u001b[1;33m\u001b[0m\u001b[1;33m\u001b[0m\u001b[0m\n\u001b[0m\u001b[0;32m      2\u001b[0m \u001b[1;31m# KKboxTrain01.head()\u001b[0m\u001b[1;33m\u001b[0m\u001b[1;33m\u001b[0m\u001b[1;33m\u001b[0m\u001b[0m\n",
      "\u001b[1;31mNameError\u001b[0m: name 'KKboxTrain01' is not defined"
     ]
    }
   ],
   "source": [
    "print(KKboxTrain01.shape)\n",
    "# KKboxTrain01.head()"
   ]
  },
  {
   "cell_type": "code",
   "execution_count": 7,
   "metadata": {},
   "outputs": [],
   "source": [
    "# 如有記憶體優化需求可用\n",
    "# del KKboxTrain01"
   ]
  },
  {
   "cell_type": "code",
   "execution_count": 8,
   "metadata": {},
   "outputs": [],
   "source": [
    "KKboxTrain02 = pd.read_csv(\"train_v2.csv\")"
   ]
  },
  {
   "cell_type": "code",
   "execution_count": 9,
   "metadata": {
    "scrolled": false
   },
   "outputs": [
    {
     "name": "stdout",
     "output_type": "stream",
     "text": [
      "(970960, 2)\n"
     ]
    }
   ],
   "source": [
    "print(KKboxTrain02.shape)\n",
    "# KKboxTrain02.head()"
   ]
  },
  {
   "cell_type": "code",
   "execution_count": 10,
   "metadata": {},
   "outputs": [],
   "source": [
    "# 如有記憶體優化需求可用\n",
    "# del KKboxTrain02"
   ]
  },
  {
   "cell_type": "markdown",
   "metadata": {},
   "source": [
    "##### 合併Training Set"
   ]
  },
  {
   "cell_type": "code",
   "execution_count": 11,
   "metadata": {},
   "outputs": [],
   "source": [
    "# KKboxTrain = pd.concat([KKboxTrain01, KKboxTrain02], axis=0)\n",
    "KKboxTrain = KKboxTrain02"
   ]
  },
  {
   "cell_type": "code",
   "execution_count": 12,
   "metadata": {},
   "outputs": [
    {
     "name": "stdout",
     "output_type": "stream",
     "text": [
      "(970960, 2)\n"
     ]
    },
    {
     "data": {
      "text/html": [
       "<div>\n",
       "<style scoped>\n",
       "    .dataframe tbody tr th:only-of-type {\n",
       "        vertical-align: middle;\n",
       "    }\n",
       "\n",
       "    .dataframe tbody tr th {\n",
       "        vertical-align: top;\n",
       "    }\n",
       "\n",
       "    .dataframe thead th {\n",
       "        text-align: right;\n",
       "    }\n",
       "</style>\n",
       "<table border=\"1\" class=\"dataframe\">\n",
       "  <thead>\n",
       "    <tr style=\"text-align: right;\">\n",
       "      <th></th>\n",
       "      <th>msno</th>\n",
       "      <th>is_churn</th>\n",
       "    </tr>\n",
       "  </thead>\n",
       "  <tbody>\n",
       "    <tr>\n",
       "      <th>0</th>\n",
       "      <td>ugx0CjOMzazClkFzU2xasmDZaoIqOUAZPsH1q0teWCg=</td>\n",
       "      <td>1</td>\n",
       "    </tr>\n",
       "    <tr>\n",
       "      <th>1</th>\n",
       "      <td>f/NmvEzHfhINFEYZTR05prUdr+E+3+oewvweYz9cCQE=</td>\n",
       "      <td>1</td>\n",
       "    </tr>\n",
       "    <tr>\n",
       "      <th>2</th>\n",
       "      <td>zLo9f73nGGT1p21ltZC3ChiRnAVvgibMyazbCxvWPcg=</td>\n",
       "      <td>1</td>\n",
       "    </tr>\n",
       "    <tr>\n",
       "      <th>3</th>\n",
       "      <td>8iF/+8HY8lJKFrTc7iR9ZYGCG2Ecrogbc2Vy5YhsfhQ=</td>\n",
       "      <td>1</td>\n",
       "    </tr>\n",
       "    <tr>\n",
       "      <th>4</th>\n",
       "      <td>K6fja4+jmoZ5xG6BypqX80Uw/XKpMgrEMdG2edFOxnA=</td>\n",
       "      <td>1</td>\n",
       "    </tr>\n",
       "  </tbody>\n",
       "</table>\n",
       "</div>"
      ],
      "text/plain": [
       "                                           msno  is_churn\n",
       "0  ugx0CjOMzazClkFzU2xasmDZaoIqOUAZPsH1q0teWCg=         1\n",
       "1  f/NmvEzHfhINFEYZTR05prUdr+E+3+oewvweYz9cCQE=         1\n",
       "2  zLo9f73nGGT1p21ltZC3ChiRnAVvgibMyazbCxvWPcg=         1\n",
       "3  8iF/+8HY8lJKFrTc7iR9ZYGCG2Ecrogbc2Vy5YhsfhQ=         1\n",
       "4  K6fja4+jmoZ5xG6BypqX80Uw/XKpMgrEMdG2edFOxnA=         1"
      ]
     },
     "execution_count": 12,
     "metadata": {},
     "output_type": "execute_result"
    }
   ],
   "source": [
    "print(KKboxTrain.shape)\n",
    "KKboxTrain.head()"
   ]
  },
  {
   "cell_type": "code",
   "execution_count": 13,
   "metadata": {},
   "outputs": [
    {
     "name": "stdout",
     "output_type": "stream",
     "text": [
      "<class 'pandas.core.frame.DataFrame'>\n",
      "RangeIndex: 970960 entries, 0 to 970959\n",
      "Data columns (total 2 columns):\n",
      "msno        970960 non-null object\n",
      "is_churn    970960 non-null int64\n",
      "dtypes: int64(1), object(1)\n",
      "memory usage: 100.9 MB\n"
     ]
    }
   ],
   "source": [
    "KKboxTrain.info(memory_usage='deep')"
   ]
  },
  {
   "cell_type": "markdown",
   "metadata": {},
   "source": [
    "-----------"
   ]
  },
  {
   "cell_type": "markdown",
   "metadata": {},
   "source": [
    "### 讀取csv-Members(客戶資料)"
   ]
  },
  {
   "cell_type": "code",
   "execution_count": 14,
   "metadata": {},
   "outputs": [],
   "source": [
    "KKboxMembers = pd.read_csv(\"KKboxMembers.csv\")"
   ]
  },
  {
   "cell_type": "code",
   "execution_count": 15,
   "metadata": {
    "scrolled": true
   },
   "outputs": [
    {
     "name": "stdout",
     "output_type": "stream",
     "text": [
      "(6769473, 6)\n"
     ]
    },
    {
     "data": {
      "text/html": [
       "<div>\n",
       "<style scoped>\n",
       "    .dataframe tbody tr th:only-of-type {\n",
       "        vertical-align: middle;\n",
       "    }\n",
       "\n",
       "    .dataframe tbody tr th {\n",
       "        vertical-align: top;\n",
       "    }\n",
       "\n",
       "    .dataframe thead th {\n",
       "        text-align: right;\n",
       "    }\n",
       "</style>\n",
       "<table border=\"1\" class=\"dataframe\">\n",
       "  <thead>\n",
       "    <tr style=\"text-align: right;\">\n",
       "      <th></th>\n",
       "      <th>msno</th>\n",
       "      <th>city</th>\n",
       "      <th>bd</th>\n",
       "      <th>gender</th>\n",
       "      <th>registered_via</th>\n",
       "      <th>registration_init_time</th>\n",
       "    </tr>\n",
       "  </thead>\n",
       "  <tbody>\n",
       "    <tr>\n",
       "      <th>0</th>\n",
       "      <td>Rb9UwLQTrxzBVwCB6+bCcSQWZ9JiNLC9dXtM1oEsZA8=</td>\n",
       "      <td>1</td>\n",
       "      <td>0</td>\n",
       "      <td>NaN</td>\n",
       "      <td>11</td>\n",
       "      <td>20110911</td>\n",
       "    </tr>\n",
       "    <tr>\n",
       "      <th>1</th>\n",
       "      <td>+tJonkh+O1CA796Fm5X60UMOtB6POHAwPjbTRVl/EuU=</td>\n",
       "      <td>1</td>\n",
       "      <td>0</td>\n",
       "      <td>NaN</td>\n",
       "      <td>7</td>\n",
       "      <td>20110914</td>\n",
       "    </tr>\n",
       "    <tr>\n",
       "      <th>2</th>\n",
       "      <td>cV358ssn7a0f7jZOwGNWS07wCKVqxyiImJUX6xcIwKw=</td>\n",
       "      <td>1</td>\n",
       "      <td>0</td>\n",
       "      <td>NaN</td>\n",
       "      <td>11</td>\n",
       "      <td>20110915</td>\n",
       "    </tr>\n",
       "    <tr>\n",
       "      <th>3</th>\n",
       "      <td>9bzDeJP6sQodK73K5CBlJ6fgIQzPeLnRl0p5B77XP+g=</td>\n",
       "      <td>1</td>\n",
       "      <td>0</td>\n",
       "      <td>NaN</td>\n",
       "      <td>11</td>\n",
       "      <td>20110915</td>\n",
       "    </tr>\n",
       "    <tr>\n",
       "      <th>4</th>\n",
       "      <td>WFLY3s7z4EZsieHCt63XrsdtfTEmJ+2PnnKLH5GY4Tk=</td>\n",
       "      <td>6</td>\n",
       "      <td>32</td>\n",
       "      <td>female</td>\n",
       "      <td>9</td>\n",
       "      <td>20110915</td>\n",
       "    </tr>\n",
       "  </tbody>\n",
       "</table>\n",
       "</div>"
      ],
      "text/plain": [
       "                                           msno  city  bd  gender  \\\n",
       "0  Rb9UwLQTrxzBVwCB6+bCcSQWZ9JiNLC9dXtM1oEsZA8=     1   0     NaN   \n",
       "1  +tJonkh+O1CA796Fm5X60UMOtB6POHAwPjbTRVl/EuU=     1   0     NaN   \n",
       "2  cV358ssn7a0f7jZOwGNWS07wCKVqxyiImJUX6xcIwKw=     1   0     NaN   \n",
       "3  9bzDeJP6sQodK73K5CBlJ6fgIQzPeLnRl0p5B77XP+g=     1   0     NaN   \n",
       "4  WFLY3s7z4EZsieHCt63XrsdtfTEmJ+2PnnKLH5GY4Tk=     6  32  female   \n",
       "\n",
       "   registered_via  registration_init_time  \n",
       "0              11                20110911  \n",
       "1               7                20110914  \n",
       "2              11                20110915  \n",
       "3              11                20110915  \n",
       "4               9                20110915  "
      ]
     },
     "execution_count": 15,
     "metadata": {},
     "output_type": "execute_result"
    }
   ],
   "source": [
    "print(KKboxMembers.shape)\n",
    "KKboxMembers.head()"
   ]
  },
  {
   "cell_type": "code",
   "execution_count": 16,
   "metadata": {
    "scrolled": false
   },
   "outputs": [],
   "source": [
    "KKboxMembers = dtype_compressor(KKboxMembers)"
   ]
  },
  {
   "cell_type": "code",
   "execution_count": 17,
   "metadata": {},
   "outputs": [],
   "source": [
    "d = ['registration_init_time']\n",
    "for col in d:\n",
    "  KKboxMembers[col] = fast_datetime(KKboxMembers[col])"
   ]
  },
  {
   "cell_type": "code",
   "execution_count": 18,
   "metadata": {
    "scrolled": true
   },
   "outputs": [
    {
     "name": "stdout",
     "output_type": "stream",
     "text": [
      "<class 'pandas.core.frame.DataFrame'>\n",
      "RangeIndex: 6769473 entries, 0 to 6769472\n",
      "Data columns (total 6 columns):\n",
      "msno                      category\n",
      "gender                    category\n",
      "city                      int8\n",
      "bd                        int16\n",
      "registered_via            int8\n",
      "registration_init_time    datetime64[ns]\n",
      "dtypes: category(2), datetime64[ns](1), int16(1), int8(2)\n",
      "memory usage: 1.1 GB\n"
     ]
    }
   ],
   "source": [
    "KKboxMembers.info(memory_usage='deep')"
   ]
  },
  {
   "cell_type": "markdown",
   "metadata": {},
   "source": [
    "---"
   ]
  },
  {
   "cell_type": "markdown",
   "metadata": {},
   "source": [
    "### 讀取csv-Transaction(交易資料)"
   ]
  },
  {
   "cell_type": "code",
   "execution_count": 19,
   "metadata": {},
   "outputs": [],
   "source": [
    "KKboxTransac_1 = pd.read_csv(\"transactions.csv\")\n",
    "KKboxTransac_2 = pd.read_csv(\"transactions_v2.csv\")"
   ]
  },
  {
   "cell_type": "code",
   "execution_count": 20,
   "metadata": {},
   "outputs": [],
   "source": [
    "KKboxTransac = pd.concat([KKboxTransac_1, KKboxTransac_2], axis=0)\n",
    "# KKboxTransac = KKboxTransac_2"
   ]
  },
  {
   "cell_type": "code",
   "execution_count": 21,
   "metadata": {},
   "outputs": [],
   "source": [
    "KKboxTransac = dtype_compressor(KKboxTransac)"
   ]
  },
  {
   "cell_type": "code",
   "execution_count": 22,
   "metadata": {},
   "outputs": [],
   "source": [
    "KKboxTransac = KKboxTransac.sort_values(by=['transaction_date'])"
   ]
  },
  {
   "cell_type": "code",
   "execution_count": 23,
   "metadata": {},
   "outputs": [
    {
     "name": "stdout",
     "output_type": "stream",
     "text": [
      "(22978755, 9)\n"
     ]
    },
    {
     "data": {
      "text/html": [
       "<div>\n",
       "<style scoped>\n",
       "    .dataframe tbody tr th:only-of-type {\n",
       "        vertical-align: middle;\n",
       "    }\n",
       "\n",
       "    .dataframe tbody tr th {\n",
       "        vertical-align: top;\n",
       "    }\n",
       "\n",
       "    .dataframe thead th {\n",
       "        text-align: right;\n",
       "    }\n",
       "</style>\n",
       "<table border=\"1\" class=\"dataframe\">\n",
       "  <thead>\n",
       "    <tr style=\"text-align: right;\">\n",
       "      <th></th>\n",
       "      <th>msno</th>\n",
       "      <th>payment_method_id</th>\n",
       "      <th>payment_plan_days</th>\n",
       "      <th>plan_list_price</th>\n",
       "      <th>actual_amount_paid</th>\n",
       "      <th>is_auto_renew</th>\n",
       "      <th>transaction_date</th>\n",
       "      <th>membership_expire_date</th>\n",
       "      <th>is_cancel</th>\n",
       "    </tr>\n",
       "  </thead>\n",
       "  <tbody>\n",
       "    <tr>\n",
       "      <th>17509039</th>\n",
       "      <td>JQqsvSC2BNWif2jSUS0BJ3JT1/oREqxrrL4jNjbjFWU=</td>\n",
       "      <td>41</td>\n",
       "      <td>30</td>\n",
       "      <td>149</td>\n",
       "      <td>149</td>\n",
       "      <td>1</td>\n",
       "      <td>20150101</td>\n",
       "      <td>20150202</td>\n",
       "      <td>0</td>\n",
       "    </tr>\n",
       "    <tr>\n",
       "      <th>10580212</th>\n",
       "      <td>Z1CV2CrBP9tR4Xr5H4VqgGzx650b2HtwJWJV/ExQNaw=</td>\n",
       "      <td>41</td>\n",
       "      <td>30</td>\n",
       "      <td>149</td>\n",
       "      <td>149</td>\n",
       "      <td>1</td>\n",
       "      <td>20150101</td>\n",
       "      <td>20150201</td>\n",
       "      <td>0</td>\n",
       "    </tr>\n",
       "    <tr>\n",
       "      <th>10580211</th>\n",
       "      <td>flo7XEv3URucBlewH+Y/QgdmrAapKq3+NMs97Z+A9Sc=</td>\n",
       "      <td>41</td>\n",
       "      <td>30</td>\n",
       "      <td>149</td>\n",
       "      <td>149</td>\n",
       "      <td>1</td>\n",
       "      <td>20150101</td>\n",
       "      <td>20150201</td>\n",
       "      <td>0</td>\n",
       "    </tr>\n",
       "    <tr>\n",
       "      <th>7184222</th>\n",
       "      <td>Bv0w1EeVjiPLB8r5mR1ny2x8guIdqzGNpKa1LgJ1d9M=</td>\n",
       "      <td>41</td>\n",
       "      <td>30</td>\n",
       "      <td>149</td>\n",
       "      <td>149</td>\n",
       "      <td>1</td>\n",
       "      <td>20150101</td>\n",
       "      <td>20150203</td>\n",
       "      <td>0</td>\n",
       "    </tr>\n",
       "    <tr>\n",
       "      <th>7184223</th>\n",
       "      <td>fSn3mhLjNEREk1f/84iU1FFas2l4zAaMk4JT15WLlvE=</td>\n",
       "      <td>41</td>\n",
       "      <td>30</td>\n",
       "      <td>149</td>\n",
       "      <td>149</td>\n",
       "      <td>1</td>\n",
       "      <td>20150101</td>\n",
       "      <td>20150201</td>\n",
       "      <td>0</td>\n",
       "    </tr>\n",
       "  </tbody>\n",
       "</table>\n",
       "</div>"
      ],
      "text/plain": [
       "                                                  msno  payment_method_id  \\\n",
       "17509039  JQqsvSC2BNWif2jSUS0BJ3JT1/oREqxrrL4jNjbjFWU=                 41   \n",
       "10580212  Z1CV2CrBP9tR4Xr5H4VqgGzx650b2HtwJWJV/ExQNaw=                 41   \n",
       "10580211  flo7XEv3URucBlewH+Y/QgdmrAapKq3+NMs97Z+A9Sc=                 41   \n",
       "7184222   Bv0w1EeVjiPLB8r5mR1ny2x8guIdqzGNpKa1LgJ1d9M=                 41   \n",
       "7184223   fSn3mhLjNEREk1f/84iU1FFas2l4zAaMk4JT15WLlvE=                 41   \n",
       "\n",
       "          payment_plan_days  plan_list_price  actual_amount_paid  \\\n",
       "17509039                 30              149                 149   \n",
       "10580212                 30              149                 149   \n",
       "10580211                 30              149                 149   \n",
       "7184222                  30              149                 149   \n",
       "7184223                  30              149                 149   \n",
       "\n",
       "          is_auto_renew  transaction_date  membership_expire_date  is_cancel  \n",
       "17509039              1          20150101                20150202          0  \n",
       "10580212              1          20150101                20150201          0  \n",
       "10580211              1          20150101                20150201          0  \n",
       "7184222               1          20150101                20150203          0  \n",
       "7184223               1          20150101                20150201          0  "
      ]
     },
     "execution_count": 23,
     "metadata": {},
     "output_type": "execute_result"
    }
   ],
   "source": [
    "print(KKboxTransac.shape)\n",
    "KKboxTransac.head()"
   ]
  },
  {
   "cell_type": "code",
   "execution_count": 24,
   "metadata": {
    "scrolled": true
   },
   "outputs": [
    {
     "name": "stdout",
     "output_type": "stream",
     "text": [
      "<class 'pandas.core.frame.DataFrame'>\n",
      "Int64Index: 22978755 entries, 17509039 to 696545\n",
      "Data columns (total 9 columns):\n",
      "msno                      category\n",
      "payment_method_id         int8\n",
      "payment_plan_days         int16\n",
      "plan_list_price           int16\n",
      "actual_amount_paid        int16\n",
      "is_auto_renew             int8\n",
      "transaction_date          int32\n",
      "membership_expire_date    int32\n",
      "is_cancel                 int8\n",
      "dtypes: category(1), int16(3), int32(2), int8(3)\n",
      "memory usage: 949.2 MB\n"
     ]
    }
   ],
   "source": [
    "KKboxTransac.info(memory_usage='deep')"
   ]
  },
  {
   "cell_type": "code",
   "execution_count": 25,
   "metadata": {},
   "outputs": [],
   "source": [
    "date_rename = {'transaction_date':'trans_date', 'membership_expire_date':'mem_expire_date'}\n",
    "KKboxTransac.rename(columns=date_rename,inplace=True)"
   ]
  },
  {
   "cell_type": "code",
   "execution_count": 26,
   "metadata": {},
   "outputs": [],
   "source": [
    "del date_rename"
   ]
  },
  {
   "cell_type": "code",
   "execution_count": 27,
   "metadata": {},
   "outputs": [],
   "source": [
    "d = ['trans_date', 'mem_expire_date']\n",
    "for col in d:\n",
    "  KKboxTransac[col] = fast_datetime(KKboxTransac[col])"
   ]
  },
  {
   "cell_type": "code",
   "execution_count": 28,
   "metadata": {},
   "outputs": [],
   "source": [
    "KKboxTransac = KKboxTransac.sort_values(by=['msno','trans_date'])"
   ]
  },
  {
   "cell_type": "code",
   "execution_count": 29,
   "metadata": {},
   "outputs": [],
   "source": [
    "# 如有記憶體優化需求可用\n",
    "# del KKboxTransac"
   ]
  },
  {
   "cell_type": "markdown",
   "metadata": {},
   "source": [
    "---"
   ]
  },
  {
   "cell_type": "markdown",
   "metadata": {},
   "source": [
    "### 讀取csv-UserLogSum"
   ]
  },
  {
   "cell_type": "code",
   "execution_count": 31,
   "metadata": {},
   "outputs": [],
   "source": [
    "UserLogSum = pd.read_csv('UserLogSum.csv')"
   ]
  },
  {
   "cell_type": "code",
   "execution_count": 34,
   "metadata": {},
   "outputs": [],
   "source": [
    "UserLogSum = dtype_compressor(UserLogSum)"
   ]
  },
  {
   "cell_type": "code",
   "execution_count": 35,
   "metadata": {},
   "outputs": [
    {
     "data": {
      "text/html": [
       "<div>\n",
       "<style scoped>\n",
       "    .dataframe tbody tr th:only-of-type {\n",
       "        vertical-align: middle;\n",
       "    }\n",
       "\n",
       "    .dataframe tbody tr th {\n",
       "        vertical-align: top;\n",
       "    }\n",
       "\n",
       "    .dataframe thead th {\n",
       "        text-align: right;\n",
       "    }\n",
       "</style>\n",
       "<table border=\"1\" class=\"dataframe\">\n",
       "  <thead>\n",
       "    <tr style=\"text-align: right;\">\n",
       "      <th></th>\n",
       "      <th>msno</th>\n",
       "      <th>sum_25</th>\n",
       "      <th>sum_50</th>\n",
       "      <th>sum_75</th>\n",
       "      <th>sum_985</th>\n",
       "      <th>sum_100</th>\n",
       "      <th>sum_unq</th>\n",
       "      <th>sum_secs</th>\n",
       "      <th>timeperiod</th>\n",
       "    </tr>\n",
       "  </thead>\n",
       "  <tbody>\n",
       "    <tr>\n",
       "      <th>0</th>\n",
       "      <td>+++ceu6HDcfpatMwLD3loHSqgjp1iI4VrnAFTwRqcXw=</td>\n",
       "      <td>0</td>\n",
       "      <td>0</td>\n",
       "      <td>0</td>\n",
       "      <td>0</td>\n",
       "      <td>76</td>\n",
       "      <td>9</td>\n",
       "      <td>20374</td>\n",
       "      <td>18</td>\n",
       "    </tr>\n",
       "    <tr>\n",
       "      <th>1</th>\n",
       "      <td>+++dz9ZCWE2HB/47pJU82NJXQzQuZDx1Wm50YSk/kKk=</td>\n",
       "      <td>3</td>\n",
       "      <td>0</td>\n",
       "      <td>0</td>\n",
       "      <td>1</td>\n",
       "      <td>105</td>\n",
       "      <td>94</td>\n",
       "      <td>27345</td>\n",
       "      <td>1</td>\n",
       "    </tr>\n",
       "    <tr>\n",
       "      <th>2</th>\n",
       "      <td>+++FOrTS7ab3tIgIh8eWwX4FqRv8w/FoiOuyXsFvphY=</td>\n",
       "      <td>18</td>\n",
       "      <td>7</td>\n",
       "      <td>3</td>\n",
       "      <td>5</td>\n",
       "      <td>114</td>\n",
       "      <td>117</td>\n",
       "      <td>32336</td>\n",
       "      <td>4</td>\n",
       "    </tr>\n",
       "    <tr>\n",
       "      <th>3</th>\n",
       "      <td>+++hVY1rZox/33YtvDgmKA2Frg/2qhkz12B9ylCvh8o=</td>\n",
       "      <td>306</td>\n",
       "      <td>144</td>\n",
       "      <td>155</td>\n",
       "      <td>271</td>\n",
       "      <td>1236</td>\n",
       "      <td>1517</td>\n",
       "      <td>395171</td>\n",
       "      <td>79</td>\n",
       "    </tr>\n",
       "    <tr>\n",
       "      <th>4</th>\n",
       "      <td>+++IZseRRiQS9aaSkH6cMYU6bGDcxUieAi/tH67sC5s=</td>\n",
       "      <td>499</td>\n",
       "      <td>160</td>\n",
       "      <td>133</td>\n",
       "      <td>99</td>\n",
       "      <td>31465</td>\n",
       "      <td>28202</td>\n",
       "      <td>7773370</td>\n",
       "      <td>756</td>\n",
       "    </tr>\n",
       "  </tbody>\n",
       "</table>\n",
       "</div>"
      ],
      "text/plain": [
       "                                           msno  sum_25  sum_50  sum_75  \\\n",
       "0  +++ceu6HDcfpatMwLD3loHSqgjp1iI4VrnAFTwRqcXw=       0       0       0   \n",
       "1  +++dz9ZCWE2HB/47pJU82NJXQzQuZDx1Wm50YSk/kKk=       3       0       0   \n",
       "2  +++FOrTS7ab3tIgIh8eWwX4FqRv8w/FoiOuyXsFvphY=      18       7       3   \n",
       "3  +++hVY1rZox/33YtvDgmKA2Frg/2qhkz12B9ylCvh8o=     306     144     155   \n",
       "4  +++IZseRRiQS9aaSkH6cMYU6bGDcxUieAi/tH67sC5s=     499     160     133   \n",
       "\n",
       "   sum_985  sum_100  sum_unq  sum_secs  timeperiod  \n",
       "0        0       76        9     20374          18  \n",
       "1        1      105       94     27345           1  \n",
       "2        5      114      117     32336           4  \n",
       "3      271     1236     1517    395171          79  \n",
       "4       99    31465    28202   7773370         756  "
      ]
     },
     "execution_count": 35,
     "metadata": {},
     "output_type": "execute_result"
    }
   ],
   "source": [
    "UserLogSum.head()"
   ]
  },
  {
   "cell_type": "code",
   "execution_count": 43,
   "metadata": {},
   "outputs": [],
   "source": [
    "song_Col = ['sum_25', 'sum_50', 'sum_75', 'sum_985', 'sum_100']\n",
    "song_Col_avg = ['sum_25_avg', 'sum_50_avg', 'sum_75_avg', 'sum_985_avg', 'sum_100_avg']\n",
    "for x, y in zip(song_Col_avg, song_Col):\n",
    "    UserLogSum[x] = UserLogSum[y] / UserLogSum['timeperiod']"
   ]
  },
  {
   "cell_type": "code",
   "execution_count": 44,
   "metadata": {
    "scrolled": true
   },
   "outputs": [
    {
     "data": {
      "text/html": [
       "<div>\n",
       "<style scoped>\n",
       "    .dataframe tbody tr th:only-of-type {\n",
       "        vertical-align: middle;\n",
       "    }\n",
       "\n",
       "    .dataframe tbody tr th {\n",
       "        vertical-align: top;\n",
       "    }\n",
       "\n",
       "    .dataframe thead th {\n",
       "        text-align: right;\n",
       "    }\n",
       "</style>\n",
       "<table border=\"1\" class=\"dataframe\">\n",
       "  <thead>\n",
       "    <tr style=\"text-align: right;\">\n",
       "      <th></th>\n",
       "      <th>msno</th>\n",
       "      <th>sum_25</th>\n",
       "      <th>sum_50</th>\n",
       "      <th>sum_75</th>\n",
       "      <th>sum_985</th>\n",
       "      <th>sum_100</th>\n",
       "      <th>sum_unq</th>\n",
       "      <th>sum_secs</th>\n",
       "      <th>timeperiod</th>\n",
       "      <th>sum_25_avg</th>\n",
       "      <th>sum_50_avg</th>\n",
       "      <th>sum_75_avg</th>\n",
       "      <th>sum_985_avg</th>\n",
       "      <th>sum_100_avg</th>\n",
       "    </tr>\n",
       "  </thead>\n",
       "  <tbody>\n",
       "    <tr>\n",
       "      <th>0</th>\n",
       "      <td>+++ceu6HDcfpatMwLD3loHSqgjp1iI4VrnAFTwRqcXw=</td>\n",
       "      <td>0</td>\n",
       "      <td>0</td>\n",
       "      <td>0</td>\n",
       "      <td>0</td>\n",
       "      <td>76</td>\n",
       "      <td>9</td>\n",
       "      <td>20374</td>\n",
       "      <td>18</td>\n",
       "      <td>0.000</td>\n",
       "      <td>0.000</td>\n",
       "      <td>0.000</td>\n",
       "      <td>0.000</td>\n",
       "      <td>4.222</td>\n",
       "    </tr>\n",
       "    <tr>\n",
       "      <th>1</th>\n",
       "      <td>+++dz9ZCWE2HB/47pJU82NJXQzQuZDx1Wm50YSk/kKk=</td>\n",
       "      <td>3</td>\n",
       "      <td>0</td>\n",
       "      <td>0</td>\n",
       "      <td>1</td>\n",
       "      <td>105</td>\n",
       "      <td>94</td>\n",
       "      <td>27345</td>\n",
       "      <td>1</td>\n",
       "      <td>3.000</td>\n",
       "      <td>0.000</td>\n",
       "      <td>0.000</td>\n",
       "      <td>1.000</td>\n",
       "      <td>105.000</td>\n",
       "    </tr>\n",
       "    <tr>\n",
       "      <th>2</th>\n",
       "      <td>+++FOrTS7ab3tIgIh8eWwX4FqRv8w/FoiOuyXsFvphY=</td>\n",
       "      <td>18</td>\n",
       "      <td>7</td>\n",
       "      <td>3</td>\n",
       "      <td>5</td>\n",
       "      <td>114</td>\n",
       "      <td>117</td>\n",
       "      <td>32336</td>\n",
       "      <td>4</td>\n",
       "      <td>4.500</td>\n",
       "      <td>1.750</td>\n",
       "      <td>0.750</td>\n",
       "      <td>1.250</td>\n",
       "      <td>28.500</td>\n",
       "    </tr>\n",
       "    <tr>\n",
       "      <th>3</th>\n",
       "      <td>+++hVY1rZox/33YtvDgmKA2Frg/2qhkz12B9ylCvh8o=</td>\n",
       "      <td>306</td>\n",
       "      <td>144</td>\n",
       "      <td>155</td>\n",
       "      <td>271</td>\n",
       "      <td>1236</td>\n",
       "      <td>1517</td>\n",
       "      <td>395171</td>\n",
       "      <td>79</td>\n",
       "      <td>3.873</td>\n",
       "      <td>1.823</td>\n",
       "      <td>1.962</td>\n",
       "      <td>3.430</td>\n",
       "      <td>15.646</td>\n",
       "    </tr>\n",
       "    <tr>\n",
       "      <th>4</th>\n",
       "      <td>+++IZseRRiQS9aaSkH6cMYU6bGDcxUieAi/tH67sC5s=</td>\n",
       "      <td>499</td>\n",
       "      <td>160</td>\n",
       "      <td>133</td>\n",
       "      <td>99</td>\n",
       "      <td>31465</td>\n",
       "      <td>28202</td>\n",
       "      <td>7773370</td>\n",
       "      <td>756</td>\n",
       "      <td>0.660</td>\n",
       "      <td>0.212</td>\n",
       "      <td>0.176</td>\n",
       "      <td>0.131</td>\n",
       "      <td>41.620</td>\n",
       "    </tr>\n",
       "  </tbody>\n",
       "</table>\n",
       "</div>"
      ],
      "text/plain": [
       "                                           msno  sum_25  sum_50  sum_75  \\\n",
       "0  +++ceu6HDcfpatMwLD3loHSqgjp1iI4VrnAFTwRqcXw=       0       0       0   \n",
       "1  +++dz9ZCWE2HB/47pJU82NJXQzQuZDx1Wm50YSk/kKk=       3       0       0   \n",
       "2  +++FOrTS7ab3tIgIh8eWwX4FqRv8w/FoiOuyXsFvphY=      18       7       3   \n",
       "3  +++hVY1rZox/33YtvDgmKA2Frg/2qhkz12B9ylCvh8o=     306     144     155   \n",
       "4  +++IZseRRiQS9aaSkH6cMYU6bGDcxUieAi/tH67sC5s=     499     160     133   \n",
       "\n",
       "   sum_985  sum_100  sum_unq  sum_secs  timeperiod  sum_25_avg  sum_50_avg  \\\n",
       "0        0       76        9     20374          18       0.000       0.000   \n",
       "1        1      105       94     27345           1       3.000       0.000   \n",
       "2        5      114      117     32336           4       4.500       1.750   \n",
       "3      271     1236     1517    395171          79       3.873       1.823   \n",
       "4       99    31465    28202   7773370         756       0.660       0.212   \n",
       "\n",
       "   sum_75_avg  sum_985_avg  sum_100_avg  \n",
       "0       0.000        0.000        4.222  \n",
       "1       0.000        1.000      105.000  \n",
       "2       0.750        1.250       28.500  \n",
       "3       1.962        3.430       15.646  \n",
       "4       0.176        0.131       41.620  "
      ]
     },
     "execution_count": 44,
     "metadata": {},
     "output_type": "execute_result"
    }
   ],
   "source": [
    "UserLogSum.head()"
   ]
  },
  {
   "cell_type": "markdown",
   "metadata": {},
   "source": [
    "---"
   ]
  },
  {
   "cell_type": "markdown",
   "metadata": {},
   "source": [
    "##### Train + Members合併"
   ]
  },
  {
   "cell_type": "code",
   "execution_count": 46,
   "metadata": {},
   "outputs": [
    {
     "name": "stdout",
     "output_type": "stream",
     "text": [
      "(970960, 7)\n"
     ]
    },
    {
     "data": {
      "text/html": [
       "<div>\n",
       "<style scoped>\n",
       "    .dataframe tbody tr th:only-of-type {\n",
       "        vertical-align: middle;\n",
       "    }\n",
       "\n",
       "    .dataframe tbody tr th {\n",
       "        vertical-align: top;\n",
       "    }\n",
       "\n",
       "    .dataframe thead th {\n",
       "        text-align: right;\n",
       "    }\n",
       "</style>\n",
       "<table border=\"1\" class=\"dataframe\">\n",
       "  <thead>\n",
       "    <tr style=\"text-align: right;\">\n",
       "      <th></th>\n",
       "      <th>msno</th>\n",
       "      <th>is_churn</th>\n",
       "      <th>city</th>\n",
       "      <th>bd</th>\n",
       "      <th>gender</th>\n",
       "      <th>registered_via</th>\n",
       "      <th>registration_init_time</th>\n",
       "    </tr>\n",
       "  </thead>\n",
       "  <tbody>\n",
       "    <tr>\n",
       "      <th>0</th>\n",
       "      <td>ugx0CjOMzazClkFzU2xasmDZaoIqOUAZPsH1q0teWCg=</td>\n",
       "      <td>1</td>\n",
       "      <td>5.000</td>\n",
       "      <td>28.000</td>\n",
       "      <td>1</td>\n",
       "      <td>3.000</td>\n",
       "      <td>2013-12-23</td>\n",
       "    </tr>\n",
       "    <tr>\n",
       "      <th>1</th>\n",
       "      <td>f/NmvEzHfhINFEYZTR05prUdr+E+3+oewvweYz9cCQE=</td>\n",
       "      <td>1</td>\n",
       "      <td>13.000</td>\n",
       "      <td>20.000</td>\n",
       "      <td>1</td>\n",
       "      <td>3.000</td>\n",
       "      <td>2013-12-23</td>\n",
       "    </tr>\n",
       "    <tr>\n",
       "      <th>2</th>\n",
       "      <td>zLo9f73nGGT1p21ltZC3ChiRnAVvgibMyazbCxvWPcg=</td>\n",
       "      <td>1</td>\n",
       "      <td>13.000</td>\n",
       "      <td>18.000</td>\n",
       "      <td>1</td>\n",
       "      <td>3.000</td>\n",
       "      <td>2013-12-27</td>\n",
       "    </tr>\n",
       "    <tr>\n",
       "      <th>3</th>\n",
       "      <td>8iF/+8HY8lJKFrTc7iR9ZYGCG2Ecrogbc2Vy5YhsfhQ=</td>\n",
       "      <td>1</td>\n",
       "      <td>1.000</td>\n",
       "      <td>0.000</td>\n",
       "      <td>NaN</td>\n",
       "      <td>7.000</td>\n",
       "      <td>2014-01-09</td>\n",
       "    </tr>\n",
       "    <tr>\n",
       "      <th>4</th>\n",
       "      <td>K6fja4+jmoZ5xG6BypqX80Uw/XKpMgrEMdG2edFOxnA=</td>\n",
       "      <td>1</td>\n",
       "      <td>13.000</td>\n",
       "      <td>35.000</td>\n",
       "      <td>0</td>\n",
       "      <td>7.000</td>\n",
       "      <td>2014-01-25</td>\n",
       "    </tr>\n",
       "  </tbody>\n",
       "</table>\n",
       "</div>"
      ],
      "text/plain": [
       "                                           msno  is_churn   city     bd  \\\n",
       "0  ugx0CjOMzazClkFzU2xasmDZaoIqOUAZPsH1q0teWCg=         1  5.000 28.000   \n",
       "1  f/NmvEzHfhINFEYZTR05prUdr+E+3+oewvweYz9cCQE=         1 13.000 20.000   \n",
       "2  zLo9f73nGGT1p21ltZC3ChiRnAVvgibMyazbCxvWPcg=         1 13.000 18.000   \n",
       "3  8iF/+8HY8lJKFrTc7iR9ZYGCG2Ecrogbc2Vy5YhsfhQ=         1  1.000  0.000   \n",
       "4  K6fja4+jmoZ5xG6BypqX80Uw/XKpMgrEMdG2edFOxnA=         1 13.000 35.000   \n",
       "\n",
       "  gender  registered_via registration_init_time  \n",
       "0      1           3.000             2013-12-23  \n",
       "1      1           3.000             2013-12-23  \n",
       "2      1           3.000             2013-12-27  \n",
       "3    NaN           7.000             2014-01-09  \n",
       "4      0           7.000             2014-01-25  "
      ]
     },
     "execution_count": 46,
     "metadata": {},
     "output_type": "execute_result"
    }
   ],
   "source": [
    "KKboxTrainMembers = pd.merge(KKboxTrain, KKboxMembers[['msno', 'city','bd', 'gender', 'registered_via', 'registration_init_time']], how=\"left\", on=\"msno\")\n",
    "gender_encode = {'male':'1', 'female':'0'}\n",
    "KKboxTrainMembers['gender'] = KKboxTrainMembers['gender'].map(gender_encode)\n",
    "print(KKboxTrainMembers.shape)\n",
    "KKboxTrainMembers.head()"
   ]
  },
  {
   "cell_type": "code",
   "execution_count": 47,
   "metadata": {},
   "outputs": [],
   "source": [
    "# 存成csv\n",
    "# KKboxTrainMembers.to_csv('KKboxTrainMembers.csv',index=False,header=True)"
   ]
  },
  {
   "cell_type": "markdown",
   "metadata": {},
   "source": [
    "---"
   ]
  },
  {
   "cell_type": "markdown",
   "metadata": {},
   "source": [
    "## 製作新特徵"
   ]
  },
  {
   "cell_type": "markdown",
   "metadata": {},
   "source": [
    "##### 製作交易次數區分層別client_level_code"
   ]
  },
  {
   "cell_type": "code",
   "execution_count": 48,
   "metadata": {},
   "outputs": [],
   "source": [
    "# 定義以不同交易次數之客戶\n",
    "def client_level_code(df):\n",
    "    ft_trans_times_train = df[['msno','trans_date']].groupby(by=['msno'],as_index=False).count().rename(columns={'trans_date':'trans_times'})\n",
    "    # 將不同交易次數新/老客戶分類(分為新使用者、1~6次、6~12次、12~24次以及24次以上)\n",
    "    max_trans = ft_trans_times_train['trans_times'].max()\n",
    "    bins = [0,1,6,12,24,max_trans]\n",
    "    ft_trans_times_train['client_level_code'] = pd.cut(ft_trans_times_train.trans_times, bins, labels= np.arange(len(bins)-1))\n",
    "    # 拉掉交易次數\n",
    "    ft_trans_times_train = ft_trans_times_train[['msno', 'client_level_code']]\n",
    "    return ft_trans_times_train"
   ]
  },
  {
   "cell_type": "code",
   "execution_count": 49,
   "metadata": {
    "scrolled": true
   },
   "outputs": [
    {
     "data": {
      "text/html": [
       "<div>\n",
       "<style scoped>\n",
       "    .dataframe tbody tr th:only-of-type {\n",
       "        vertical-align: middle;\n",
       "    }\n",
       "\n",
       "    .dataframe tbody tr th {\n",
       "        vertical-align: top;\n",
       "    }\n",
       "\n",
       "    .dataframe thead th {\n",
       "        text-align: right;\n",
       "    }\n",
       "</style>\n",
       "<table border=\"1\" class=\"dataframe\">\n",
       "  <thead>\n",
       "    <tr style=\"text-align: right;\">\n",
       "      <th></th>\n",
       "      <th>msno</th>\n",
       "      <th>client_level_code</th>\n",
       "    </tr>\n",
       "  </thead>\n",
       "  <tbody>\n",
       "    <tr>\n",
       "      <th>0</th>\n",
       "      <td>+++FOrTS7ab3tIgIh8eWwX4FqRv8w/FoiOuyXsFvphY=</td>\n",
       "      <td>0</td>\n",
       "    </tr>\n",
       "    <tr>\n",
       "      <th>1</th>\n",
       "      <td>+++IZseRRiQS9aaSkH6cMYU6bGDcxUieAi/tH67sC5s=</td>\n",
       "      <td>1</td>\n",
       "    </tr>\n",
       "    <tr>\n",
       "      <th>2</th>\n",
       "      <td>+++hVY1rZox/33YtvDgmKA2Frg/2qhkz12B9ylCvh8o=</td>\n",
       "      <td>1</td>\n",
       "    </tr>\n",
       "    <tr>\n",
       "      <th>3</th>\n",
       "      <td>+++l/EXNMLTijfLBa8p2TUVVVp2aFGSuUI/h7mLmthw=</td>\n",
       "      <td>3</td>\n",
       "    </tr>\n",
       "    <tr>\n",
       "      <th>4</th>\n",
       "      <td>+++snpr7pmobhLKUgSHTv/mpkqgBT0tQJ0zQj6qKrqc=</td>\n",
       "      <td>4</td>\n",
       "    </tr>\n",
       "  </tbody>\n",
       "</table>\n",
       "</div>"
      ],
      "text/plain": [
       "                                           msno client_level_code\n",
       "0  +++FOrTS7ab3tIgIh8eWwX4FqRv8w/FoiOuyXsFvphY=                 0\n",
       "1  +++IZseRRiQS9aaSkH6cMYU6bGDcxUieAi/tH67sC5s=                 1\n",
       "2  +++hVY1rZox/33YtvDgmKA2Frg/2qhkz12B9ylCvh8o=                 1\n",
       "3  +++l/EXNMLTijfLBa8p2TUVVVp2aFGSuUI/h7mLmthw=                 3\n",
       "4  +++snpr7pmobhLKUgSHTv/mpkqgBT0tQJ0zQj6qKrqc=                 4"
      ]
     },
     "execution_count": 49,
     "metadata": {},
     "output_type": "execute_result"
    }
   ],
   "source": [
    "ft_trans_times_train = client_level_code(KKboxTransac)\n",
    "ft_trans_times_train.head()"
   ]
  },
  {
   "cell_type": "code",
   "execution_count": 50,
   "metadata": {},
   "outputs": [
    {
     "data": {
      "image/png": "[encoded data removed]",
      "text/plain": [
       "<Figure size 432x216 with 1 Axes>"
      ]
     },
     "metadata": {
      "needs_background": "light"
     },
     "output_type": "display_data"
    }
   ],
   "source": [
    "plt.figure(figsize=(6,3))\n",
    "sns.countplot(x=\"client_level_code\", data=ft_trans_times_train, palette = \"pastel\")\n",
    "plt.ylabel('Count', fontsize=12)\n",
    "plt.xlabel('ClientLevel Code', fontsize=12)\n",
    "plt.xticks(np.arange(5), ('新使用者','1~6次', '6~12次', '12~24次', '24次以上'))\n",
    "plt.title(\"交易次數統計\", fontsize=12)\n",
    "plt.show()"
   ]
  },
  {
   "cell_type": "code",
   "execution_count": 51,
   "metadata": {},
   "outputs": [],
   "source": [
    "# 存成csv\n",
    "# ft_trans_times_train.to_csv('NewFeature_ClientLevelCode.csv',index=False,header=True)"
   ]
  },
  {
   "cell_type": "markdown",
   "metadata": {},
   "source": [
    "##### 製作last_last_churn(非連續(1) /連續(0)訂閱者)"
   ]
  },
  {
   "cell_type": "code",
   "execution_count": 52,
   "metadata": {},
   "outputs": [],
   "source": [
    "# 定義非連續/連續訂閱者\n",
    "def ll_churn(df):\n",
    "  df = df.sort_values(by=['msno','trans_date'],ascending=True)\n",
    "  df['next_trans_after'] = df['trans_date'].shift(-1) - df['mem_expire_date']\n",
    "  df['the_same_user'] = df['msno'] == df['msno'].shift(-1)\n",
    "  # 40 days allow more tolerance about churn\n",
    "  df['churn_record'] = (df['next_trans_after'] > pd.Timedelta('30 days')) & (df['the_same_user'] == True)\n",
    "  # convert boolen to 1 and 0 \n",
    "  df['churn_record'] = df['churn_record']*1  \n",
    "  # sort_by expire_date\n",
    "  df = df.sort_values(by=['msno','mem_expire_date'],ascending=False)\n",
    "  # take out last_last_churn\n",
    "  ft = df.groupby(by=['msno'],as_index=False).nth(1)[['msno','churn_record']]\n",
    "  ft = ft.rename(columns={'churn_record':'last_last_churn'})\n",
    "  return ft"
   ]
  },
  {
   "cell_type": "code",
   "execution_count": 53,
   "metadata": {
    "scrolled": false
   },
   "outputs": [
    {
     "data": {
      "text/html": [
       "<div>\n",
       "<style scoped>\n",
       "    .dataframe tbody tr th:only-of-type {\n",
       "        vertical-align: middle;\n",
       "    }\n",
       "\n",
       "    .dataframe tbody tr th {\n",
       "        vertical-align: top;\n",
       "    }\n",
       "\n",
       "    .dataframe thead th {\n",
       "        text-align: right;\n",
       "    }\n",
       "</style>\n",
       "<table border=\"1\" class=\"dataframe\">\n",
       "  <thead>\n",
       "    <tr style=\"text-align: right;\">\n",
       "      <th></th>\n",
       "      <th>msno</th>\n",
       "      <th>last_last_churn</th>\n",
       "    </tr>\n",
       "  </thead>\n",
       "  <tbody>\n",
       "    <tr>\n",
       "      <th>13506846</th>\n",
       "      <td>zzzN9thH22os1dRS0VHReY/8FTfGHOi86//d+wGGFsQ=</td>\n",
       "      <td>0</td>\n",
       "    </tr>\n",
       "    <tr>\n",
       "      <th>19163744</th>\n",
       "      <td>zzzF1KsGfHH3qI6qiSNSXC35UXmVKMVFdxkp7xmDMc0=</td>\n",
       "      <td>0</td>\n",
       "    </tr>\n",
       "    <tr>\n",
       "      <th>2147164</th>\n",
       "      <td>zzz9+ZF4+GMyt63oU8xfjo1EkvRqH5OINlES0RUJI6I=</td>\n",
       "      <td>0</td>\n",
       "    </tr>\n",
       "    <tr>\n",
       "      <th>13035974</th>\n",
       "      <td>zzz4xr5LLzoxUqD6LfKiieCt8Or4dUWFQ0RA5gmkx8I=</td>\n",
       "      <td>0</td>\n",
       "    </tr>\n",
       "    <tr>\n",
       "      <th>1373978</th>\n",
       "      <td>zzz1Dc3P9s53HAowRTrm3fNsWju5yeN4YBfNDq7Z99Q=</td>\n",
       "      <td>0</td>\n",
       "    </tr>\n",
       "  </tbody>\n",
       "</table>\n",
       "</div>"
      ],
      "text/plain": [
       "                                                  msno  last_last_churn\n",
       "13506846  zzzN9thH22os1dRS0VHReY/8FTfGHOi86//d+wGGFsQ=                0\n",
       "19163744  zzzF1KsGfHH3qI6qiSNSXC35UXmVKMVFdxkp7xmDMc0=                0\n",
       "2147164   zzz9+ZF4+GMyt63oU8xfjo1EkvRqH5OINlES0RUJI6I=                0\n",
       "13035974  zzz4xr5LLzoxUqD6LfKiieCt8Or4dUWFQ0RA5gmkx8I=                0\n",
       "1373978   zzz1Dc3P9s53HAowRTrm3fNsWju5yeN4YBfNDq7Z99Q=                0"
      ]
     },
     "execution_count": 53,
     "metadata": {},
     "output_type": "execute_result"
    }
   ],
   "source": [
    "ft_last_last_churn = ll_churn(KKboxTransac)\n",
    "ft_last_last_churn.head()"
   ]
  },
  {
   "cell_type": "code",
   "execution_count": 54,
   "metadata": {},
   "outputs": [
    {
     "data": {
      "text/plain": [
       "1755289"
      ]
     },
     "execution_count": 54,
     "metadata": {},
     "output_type": "execute_result"
    }
   ],
   "source": [
    "len(ft_last_last_churn[ft_last_last_churn['last_last_churn'] == 0])"
   ]
  },
  {
   "cell_type": "code",
   "execution_count": 55,
   "metadata": {},
   "outputs": [
    {
     "data": {
      "image/png": "[encoded data removed]",
      "text/plain": [
       "<Figure size 288x216 with 1 Axes>"
      ]
     },
     "metadata": {
      "needs_background": "light"
     },
     "output_type": "display_data"
    }
   ],
   "source": [
    "plt.figure(figsize=(4,3))\n",
    "sns.countplot(x=\"last_last_churn\", data=ft_last_last_churn, palette = \"pastel\")\n",
    "plt.ylabel('Count', fontsize=12)\n",
    "plt.xlabel('Last_Last_Churn', fontsize=12)\n",
    "plt.xticks(np.arange(2), ('連續訂閱', '未連續訂閱'))\n",
    "plt.title(\"最近一次是否連續訂閱?\", fontsize=12)\n",
    "plt.show()"
   ]
  },
  {
   "cell_type": "code",
   "execution_count": 56,
   "metadata": {},
   "outputs": [],
   "source": [
    "# 存成csv\n",
    "# ft_last_last_churn.to_csv('NewFeature_LastLastChurn.csv',index=False,header=True)"
   ]
  },
  {
   "cell_type": "markdown",
   "metadata": {},
   "source": [
    "##### 製作前一次自動續約last_auto_renew特徵"
   ]
  },
  {
   "cell_type": "code",
   "execution_count": 57,
   "metadata": {},
   "outputs": [],
   "source": [
    "# 定義前一次是否自動續約\n",
    "def last_last_renew(df):\n",
    "    ft_last_auto_renew = df[['msno','is_auto_renew']].groupby(by=['msno'],as_index=False).head(1)\n",
    "    ft_last_auto_renew.rename(columns={'is_auto_renew':'last_auto_renew'}, inplace=True)\n",
    "    return ft_last_auto_renew"
   ]
  },
  {
   "cell_type": "code",
   "execution_count": 58,
   "metadata": {
    "scrolled": false
   },
   "outputs": [
    {
     "data": {
      "text/html": [
       "<div>\n",
       "<style scoped>\n",
       "    .dataframe tbody tr th:only-of-type {\n",
       "        vertical-align: middle;\n",
       "    }\n",
       "\n",
       "    .dataframe tbody tr th {\n",
       "        vertical-align: top;\n",
       "    }\n",
       "\n",
       "    .dataframe thead th {\n",
       "        text-align: right;\n",
       "    }\n",
       "</style>\n",
       "<table border=\"1\" class=\"dataframe\">\n",
       "  <thead>\n",
       "    <tr style=\"text-align: right;\">\n",
       "      <th></th>\n",
       "      <th>msno</th>\n",
       "      <th>last_auto_renew</th>\n",
       "    </tr>\n",
       "  </thead>\n",
       "  <tbody>\n",
       "    <tr>\n",
       "      <th>6797850</th>\n",
       "      <td>+++FOrTS7ab3tIgIh8eWwX4FqRv8w/FoiOuyXsFvphY=</td>\n",
       "      <td>0</td>\n",
       "    </tr>\n",
       "    <tr>\n",
       "      <th>1521480</th>\n",
       "      <td>+++IZseRRiQS9aaSkH6cMYU6bGDcxUieAi/tH67sC5s=</td>\n",
       "      <td>0</td>\n",
       "    </tr>\n",
       "    <tr>\n",
       "      <th>1498592</th>\n",
       "      <td>+++hVY1rZox/33YtvDgmKA2Frg/2qhkz12B9ylCvh8o=</td>\n",
       "      <td>1</td>\n",
       "    </tr>\n",
       "    <tr>\n",
       "      <th>7798380</th>\n",
       "      <td>+++l/EXNMLTijfLBa8p2TUVVVp2aFGSuUI/h7mLmthw=</td>\n",
       "      <td>1</td>\n",
       "    </tr>\n",
       "    <tr>\n",
       "      <th>14135498</th>\n",
       "      <td>+++snpr7pmobhLKUgSHTv/mpkqgBT0tQJ0zQj6qKrqc=</td>\n",
       "      <td>1</td>\n",
       "    </tr>\n",
       "  </tbody>\n",
       "</table>\n",
       "</div>"
      ],
      "text/plain": [
       "                                                  msno  last_auto_renew\n",
       "6797850   +++FOrTS7ab3tIgIh8eWwX4FqRv8w/FoiOuyXsFvphY=                0\n",
       "1521480   +++IZseRRiQS9aaSkH6cMYU6bGDcxUieAi/tH67sC5s=                0\n",
       "1498592   +++hVY1rZox/33YtvDgmKA2Frg/2qhkz12B9ylCvh8o=                1\n",
       "7798380   +++l/EXNMLTijfLBa8p2TUVVVp2aFGSuUI/h7mLmthw=                1\n",
       "14135498  +++snpr7pmobhLKUgSHTv/mpkqgBT0tQJ0zQj6qKrqc=                1"
      ]
     },
     "execution_count": 58,
     "metadata": {},
     "output_type": "execute_result"
    }
   ],
   "source": [
    "ft_last_auto_renew = last_last_renew(KKboxTransac)\n",
    "ft_last_auto_renew.head()"
   ]
  },
  {
   "cell_type": "code",
   "execution_count": 59,
   "metadata": {},
   "outputs": [
    {
     "data": {
      "image/png": "[encoded data removed]",
      "text/plain": [
       "<Figure size 288x216 with 1 Axes>"
      ]
     },
     "metadata": {
      "needs_background": "light"
     },
     "output_type": "display_data"
    }
   ],
   "source": [
    "plt.figure(figsize=(4,3))\n",
    "sns.countplot(x=\"last_auto_renew\", data=ft_last_auto_renew, palette = \"pastel\")\n",
    "plt.ylabel('Count', fontsize=12)\n",
    "plt.xlabel('Last Auto_Renew', fontsize=12)\n",
    "plt.xticks(np.arange(2), ('否','是'))\n",
    "plt.title(\"最近一次是否使用自動訂閱?\", fontsize=12)\n",
    "plt.show()"
   ]
  },
  {
   "cell_type": "code",
   "execution_count": 60,
   "metadata": {},
   "outputs": [],
   "source": [
    "# 存成csv\n",
    "# ft_last_auto_renew.to_csv('NewFeature_LastAutoRenew.csv',index=False,header=True)"
   ]
  },
  {
   "cell_type": "markdown",
   "metadata": {},
   "source": [
    "##### 製作年齡區段age_level_code"
   ]
  },
  {
   "cell_type": "code",
   "execution_count": 61,
   "metadata": {
    "scrolled": true
   },
   "outputs": [
    {
     "data": {
      "text/plain": [
       "29.483192442063373"
      ]
     },
     "execution_count": 61,
     "metadata": {},
     "output_type": "execute_result"
    }
   ],
   "source": [
    "# 確認members除去不合理值後之平均年齡\n",
    "ft_mem_bd = KKboxMembers[['msno','bd']]\n",
    "ft_mem_bd = ft_mem_bd[ft_mem_bd['bd'] < 100]\n",
    "ft_mem_bd = ft_mem_bd[ft_mem_bd['bd'] > 0]\n",
    "mem_avg_age = ft_mem_bd['bd'].mean()\n",
    "mem_avg_age"
   ]
  },
  {
   "cell_type": "code",
   "execution_count": 62,
   "metadata": {},
   "outputs": [],
   "source": [
    "def age_level_code(df):\n",
    "    ft_mem_bd = df[['msno','bd']]\n",
    "    # 去除不合理值\n",
    "    ft_mem_bd = ft_mem_bd[ft_mem_bd['bd'] < 100]\n",
    "    ft_mem_bd = ft_mem_bd[ft_mem_bd['bd'] > 0]\n",
    "    # 以trans_date取得每個會員交易次數\n",
    "    ft_bd = ft_mem_bd[['msno','bd']]\n",
    "    # 將不同年齡做區段別(分為)\n",
    "    max_bd = ft_bd['bd'].max()\n",
    "    bins = [0,22,44,60,max_bd]\n",
    "    ft_bd['age_level_code'] = pd.cut(ft_bd.bd, bins, labels= np.arange(len(bins)-1))\n",
    "    # 拉掉交易次數\n",
    "    ft_bd = ft_bd[['msno', 'age_level_code']]\n",
    "    return ft_bd"
   ]
  },
  {
   "cell_type": "code",
   "execution_count": 63,
   "metadata": {
    "scrolled": true
   },
   "outputs": [
    {
     "data": {
      "text/plain": [
       "[1, 0, 3, 2]\n",
       "Categories (4, int64): [0 < 1 < 2 < 3]"
      ]
     },
     "execution_count": 63,
     "metadata": {},
     "output_type": "execute_result"
    }
   ],
   "source": [
    "ft_age_level_code = age_level_code(KKboxMembers)\n",
    "ft_age_level_code['age_level_code'].unique()"
   ]
  },
  {
   "cell_type": "code",
   "execution_count": 64,
   "metadata": {},
   "outputs": [
    {
     "data": {
      "image/png": "[encoded data removed]",
      "text/plain": [
       "<Figure size 432x216 with 1 Axes>"
      ]
     },
     "metadata": {
      "needs_background": "light"
     },
     "output_type": "display_data"
    }
   ],
   "source": [
    "plt.figure(figsize=(6,3))\n",
    "sns.countplot(x=\"age_level_code\", data=ft_age_level_code, palette = \"pastel\")\n",
    "plt.ylabel('Count', fontsize=12)\n",
    "plt.xlabel('AgeLevel_Code', fontsize=12)\n",
    "plt.title(\"訂閱者年齡區間統計\", fontsize=12)\n",
    "plt.xticks(np.arange(4), ('22歲以下', '22~44歲', '45~60歲', '60歲以上'))\n",
    "plt.show()"
   ]
  },
  {
   "cell_type": "code",
   "execution_count": 65,
   "metadata": {},
   "outputs": [],
   "source": [
    "# 存成csv\n",
    "# ft_bd.to_csv('NewFeature_BdLevelCode.csv',index=False,header=True)"
   ]
  },
  {
   "cell_type": "markdown",
   "metadata": {},
   "source": [
    "##### 製作age_under26"
   ]
  },
  {
   "cell_type": "code",
   "execution_count": 66,
   "metadata": {},
   "outputs": [],
   "source": [
    "def age_under26(df):\n",
    "    ft_age_under26 = df[['msno', 'bd']]\n",
    "    # 去除不合理年齡值(取1~100歲)\n",
    "    ft_age_under26 = ft_age_under26[ft_age_under26['bd'] < 100]\n",
    "    ft_age_under26 = ft_age_under26[ft_age_under26['bd'] > 0]\n",
    "    # 將26up與under26分成兩類\n",
    "    ft_age_under26.rename(columns={'bd':'age_under26'}, inplace=True)\n",
    "    ft_age_under26['age_under26'] = ft_age_under26.age_under26.apply(lambda x: 1 if x < 26 else 0)\n",
    "    return ft_age_under26"
   ]
  },
  {
   "cell_type": "code",
   "execution_count": 67,
   "metadata": {
    "scrolled": false
   },
   "outputs": [
    {
     "data": {
      "text/html": [
       "<div>\n",
       "<style scoped>\n",
       "    .dataframe tbody tr th:only-of-type {\n",
       "        vertical-align: middle;\n",
       "    }\n",
       "\n",
       "    .dataframe tbody tr th {\n",
       "        vertical-align: top;\n",
       "    }\n",
       "\n",
       "    .dataframe thead th {\n",
       "        text-align: right;\n",
       "    }\n",
       "</style>\n",
       "<table border=\"1\" class=\"dataframe\">\n",
       "  <thead>\n",
       "    <tr style=\"text-align: right;\">\n",
       "      <th></th>\n",
       "      <th>msno</th>\n",
       "      <th>age_under26</th>\n",
       "    </tr>\n",
       "  </thead>\n",
       "  <tbody>\n",
       "    <tr>\n",
       "      <th>4</th>\n",
       "      <td>WFLY3s7z4EZsieHCt63XrsdtfTEmJ+2PnnKLH5GY4Tk=</td>\n",
       "      <td>0</td>\n",
       "    </tr>\n",
       "    <tr>\n",
       "      <th>5</th>\n",
       "      <td>yLkV2gbZ4GLFwqTOXLVHz0VGrMYcgBGgKZ3kj9RiYu8=</td>\n",
       "      <td>0</td>\n",
       "    </tr>\n",
       "    <tr>\n",
       "      <th>7</th>\n",
       "      <td>WH5Jq4mgtfUFXh2yz+HrcTXKS4Oess4k4W3qKolAeb0=</td>\n",
       "      <td>0</td>\n",
       "    </tr>\n",
       "    <tr>\n",
       "      <th>8</th>\n",
       "      <td>tKmbR4X5VXjHmxERrckawEMZ4znVy1lAQIR1vV5rdNk=</td>\n",
       "      <td>1</td>\n",
       "    </tr>\n",
       "    <tr>\n",
       "      <th>9</th>\n",
       "      <td>I0yFvqMoNkM8ZNHb617e1RBzIS/YRKemHO7Wj13EtA0=</td>\n",
       "      <td>0</td>\n",
       "    </tr>\n",
       "  </tbody>\n",
       "</table>\n",
       "</div>"
      ],
      "text/plain": [
       "                                           msno  age_under26\n",
       "4  WFLY3s7z4EZsieHCt63XrsdtfTEmJ+2PnnKLH5GY4Tk=            0\n",
       "5  yLkV2gbZ4GLFwqTOXLVHz0VGrMYcgBGgKZ3kj9RiYu8=            0\n",
       "7  WH5Jq4mgtfUFXh2yz+HrcTXKS4Oess4k4W3qKolAeb0=            0\n",
       "8  tKmbR4X5VXjHmxERrckawEMZ4znVy1lAQIR1vV5rdNk=            1\n",
       "9  I0yFvqMoNkM8ZNHb617e1RBzIS/YRKemHO7Wj13EtA0=            0"
      ]
     },
     "execution_count": 67,
     "metadata": {},
     "output_type": "execute_result"
    }
   ],
   "source": [
    "ft_age_under26 = age_under26(KKboxMembers)\n",
    "ft_age_under26.head()"
   ]
  },
  {
   "cell_type": "code",
   "execution_count": 68,
   "metadata": {},
   "outputs": [
    {
     "data": {
      "image/png": "[encoded data removed]",
      "text/plain": [
       "<Figure size 288x216 with 1 Axes>"
      ]
     },
     "metadata": {
      "needs_background": "light"
     },
     "output_type": "display_data"
    }
   ],
   "source": [
    "plt.figure(figsize=(4,3))\n",
    "sns.countplot(x=\"age_under26\", data=ft_age_under26, palette = \"Set2\")\n",
    "plt.ylabel('Count', fontsize=12)\n",
    "plt.xlabel('Age_Under26', fontsize=12)\n",
    "plt.xticks(np.arange(2), ('26歲(含)以上','26歲以下'))\n",
    "plt.title(\"訂閱用戶是否26歲以下?\", fontsize=12)\n",
    "plt.show()"
   ]
  },
  {
   "cell_type": "code",
   "execution_count": 69,
   "metadata": {},
   "outputs": [],
   "source": [
    "# 存成csv\n",
    "# ft_age_under26.to_csv('NewFeature_AgeUnder26.csv', index=False, header=True)"
   ]
  },
  {
   "cell_type": "markdown",
   "metadata": {},
   "source": [
    "##### 製作特徵獲得折扣次數is_disount"
   ]
  },
  {
   "cell_type": "code",
   "execution_count": 70,
   "metadata": {},
   "outputs": [],
   "source": [
    "def is_discount(df):\n",
    "    ft_discount = df[['msno', 'plan_list_price', 'actual_amount_paid']]\n",
    "    ft_discount['discount'] = ft_discount['plan_list_price'] - ft_discount['actual_amount_paid']\n",
    "    ft_discount['is_discount'] = ft_discount.discount.apply(lambda x: 1 if x > 0 else 0)\n",
    "    ft_discount = ft_discount.groupby('msno', as_index=False)['is_discount'].count()\n",
    "    return ft_discount"
   ]
  },
  {
   "cell_type": "code",
   "execution_count": 71,
   "metadata": {
    "scrolled": false
   },
   "outputs": [
    {
     "name": "stderr",
     "output_type": "stream",
     "text": [
      "C:\\Users\\User\\Anaconda3\\lib\\site-packages\\ipykernel_launcher.py:3: SettingWithCopyWarning: \n",
      "A value is trying to be set on a copy of a slice from a DataFrame.\n",
      "Try using .loc[row_indexer,col_indexer] = value instead\n",
      "\n",
      "See the caveats in the documentation: http://pandas.pydata.org/pandas-docs/stable/indexing.html#indexing-view-versus-copy\n",
      "  This is separate from the ipykernel package so we can avoid doing imports until\n",
      "C:\\Users\\User\\Anaconda3\\lib\\site-packages\\ipykernel_launcher.py:4: SettingWithCopyWarning: \n",
      "A value is trying to be set on a copy of a slice from a DataFrame.\n",
      "Try using .loc[row_indexer,col_indexer] = value instead\n",
      "\n",
      "See the caveats in the documentation: http://pandas.pydata.org/pandas-docs/stable/indexing.html#indexing-view-versus-copy\n",
      "  after removing the cwd from sys.path.\n"
     ]
    },
    {
     "data": {
      "text/html": [
       "<div>\n",
       "<style scoped>\n",
       "    .dataframe tbody tr th:only-of-type {\n",
       "        vertical-align: middle;\n",
       "    }\n",
       "\n",
       "    .dataframe tbody tr th {\n",
       "        vertical-align: top;\n",
       "    }\n",
       "\n",
       "    .dataframe thead th {\n",
       "        text-align: right;\n",
       "    }\n",
       "</style>\n",
       "<table border=\"1\" class=\"dataframe\">\n",
       "  <thead>\n",
       "    <tr style=\"text-align: right;\">\n",
       "      <th></th>\n",
       "      <th>msno</th>\n",
       "      <th>is_discount</th>\n",
       "    </tr>\n",
       "  </thead>\n",
       "  <tbody>\n",
       "    <tr>\n",
       "      <th>0</th>\n",
       "      <td>+++FOrTS7ab3tIgIh8eWwX4FqRv8w/FoiOuyXsFvphY=</td>\n",
       "      <td>1</td>\n",
       "    </tr>\n",
       "    <tr>\n",
       "      <th>1</th>\n",
       "      <td>+++IZseRRiQS9aaSkH6cMYU6bGDcxUieAi/tH67sC5s=</td>\n",
       "      <td>2</td>\n",
       "    </tr>\n",
       "    <tr>\n",
       "      <th>2</th>\n",
       "      <td>+++hVY1rZox/33YtvDgmKA2Frg/2qhkz12B9ylCvh8o=</td>\n",
       "      <td>5</td>\n",
       "    </tr>\n",
       "    <tr>\n",
       "      <th>3</th>\n",
       "      <td>+++l/EXNMLTijfLBa8p2TUVVVp2aFGSuUI/h7mLmthw=</td>\n",
       "      <td>21</td>\n",
       "    </tr>\n",
       "    <tr>\n",
       "      <th>4</th>\n",
       "      <td>+++snpr7pmobhLKUgSHTv/mpkqgBT0tQJ0zQj6qKrqc=</td>\n",
       "      <td>27</td>\n",
       "    </tr>\n",
       "  </tbody>\n",
       "</table>\n",
       "</div>"
      ],
      "text/plain": [
       "                                           msno  is_discount\n",
       "0  +++FOrTS7ab3tIgIh8eWwX4FqRv8w/FoiOuyXsFvphY=            1\n",
       "1  +++IZseRRiQS9aaSkH6cMYU6bGDcxUieAi/tH67sC5s=            2\n",
       "2  +++hVY1rZox/33YtvDgmKA2Frg/2qhkz12B9ylCvh8o=            5\n",
       "3  +++l/EXNMLTijfLBa8p2TUVVVp2aFGSuUI/h7mLmthw=           21\n",
       "4  +++snpr7pmobhLKUgSHTv/mpkqgBT0tQJ0zQj6qKrqc=           27"
      ]
     },
     "execution_count": 71,
     "metadata": {},
     "output_type": "execute_result"
    }
   ],
   "source": [
    "ft_isdiscount = is_discount(KKboxTransac)\n",
    "ft_isdiscount.head()"
   ]
  },
  {
   "cell_type": "code",
   "execution_count": 72,
   "metadata": {},
   "outputs": [
    {
     "data": {
      "image/png": "[encoded data removed]",
      "text/plain": [
       "<Figure size 1080x216 with 1 Axes>"
      ]
     },
     "metadata": {
      "needs_background": "light"
     },
     "output_type": "display_data"
    }
   ],
   "source": [
    "plt.figure(figsize=(15,3))\n",
    "sns.countplot(x=\"is_discount\", data=ft_isdiscount, palette = \"Set2\")\n",
    "plt.ylabel('Count', fontsize=12)\n",
    "plt.xlabel('Is discount', fontsize=12)\n",
    "plt.title(\"獲得折扣次數\", fontsize=12)\n",
    "plt.show()"
   ]
  },
  {
   "cell_type": "code",
   "execution_count": 73,
   "metadata": {},
   "outputs": [],
   "source": [
    "# 存成csv\n",
    "# ft_isdiscount.to_csv('NewFeature_IsDiscount.csv',index=False,header=True)"
   ]
  },
  {
   "cell_type": "markdown",
   "metadata": {},
   "source": [
    "##### 製作特徵平均每日花費amount_per_day"
   ]
  },
  {
   "cell_type": "code",
   "execution_count": 74,
   "metadata": {},
   "outputs": [],
   "source": [
    "def amount_per_day(df):\n",
    "    ft_amount_per_day = df[['msno', 'actual_amount_paid', 'payment_plan_days']]\n",
    "    # 去掉payment_plan_days為0的欄位\n",
    "    ft_amount_per_day = ft_amount_per_day[ft_amount_per_day['payment_plan_days'] != 0]\n",
    "    # 計算平均每天花費金額\n",
    "    ft_amount_per_day['amount_per_day'] = ft_amount_per_day['actual_amount_paid'] / ft_amount_per_day['payment_plan_days']\n",
    "    # 重新選取欄位\n",
    "    ft_amount_per_day = ft_amount_per_day[['msno', 'amount_per_day']]\n",
    "    # 合併msno，並做amount_per_day平均\n",
    "    ft_amount_per_day = ft_amount_per_day.groupby('msno', as_index=False)['amount_per_day'].mean()\n",
    "    return ft_amount_per_day"
   ]
  },
  {
   "cell_type": "code",
   "execution_count": 75,
   "metadata": {
    "scrolled": true
   },
   "outputs": [
    {
     "name": "stdout",
     "output_type": "stream",
     "text": [
      "(2426143, 2)\n"
     ]
    },
    {
     "data": {
      "text/html": [
       "<div>\n",
       "<style scoped>\n",
       "    .dataframe tbody tr th:only-of-type {\n",
       "        vertical-align: middle;\n",
       "    }\n",
       "\n",
       "    .dataframe tbody tr th {\n",
       "        vertical-align: top;\n",
       "    }\n",
       "\n",
       "    .dataframe thead th {\n",
       "        text-align: right;\n",
       "    }\n",
       "</style>\n",
       "<table border=\"1\" class=\"dataframe\">\n",
       "  <thead>\n",
       "    <tr style=\"text-align: right;\">\n",
       "      <th></th>\n",
       "      <th>msno</th>\n",
       "      <th>amount_per_day</th>\n",
       "    </tr>\n",
       "  </thead>\n",
       "  <tbody>\n",
       "    <tr>\n",
       "      <th>0</th>\n",
       "      <td>+++FOrTS7ab3tIgIh8eWwX4FqRv8w/FoiOuyXsFvphY=</td>\n",
       "      <td>0.000</td>\n",
       "    </tr>\n",
       "    <tr>\n",
       "      <th>1</th>\n",
       "      <td>+++IZseRRiQS9aaSkH6cMYU6bGDcxUieAi/tH67sC5s=</td>\n",
       "      <td>4.205</td>\n",
       "    </tr>\n",
       "    <tr>\n",
       "      <th>2</th>\n",
       "      <td>+++hVY1rZox/33YtvDgmKA2Frg/2qhkz12B9ylCvh8o=</td>\n",
       "      <td>3.300</td>\n",
       "    </tr>\n",
       "    <tr>\n",
       "      <th>3</th>\n",
       "      <td>+++l/EXNMLTijfLBa8p2TUVVVp2aFGSuUI/h7mLmthw=</td>\n",
       "      <td>4.943</td>\n",
       "    </tr>\n",
       "    <tr>\n",
       "      <th>4</th>\n",
       "      <td>+++snpr7pmobhLKUgSHTv/mpkqgBT0tQJ0zQj6qKrqc=</td>\n",
       "      <td>4.967</td>\n",
       "    </tr>\n",
       "  </tbody>\n",
       "</table>\n",
       "</div>"
      ],
      "text/plain": [
       "                                           msno  amount_per_day\n",
       "0  +++FOrTS7ab3tIgIh8eWwX4FqRv8w/FoiOuyXsFvphY=           0.000\n",
       "1  +++IZseRRiQS9aaSkH6cMYU6bGDcxUieAi/tH67sC5s=           4.205\n",
       "2  +++hVY1rZox/33YtvDgmKA2Frg/2qhkz12B9ylCvh8o=           3.300\n",
       "3  +++l/EXNMLTijfLBa8p2TUVVVp2aFGSuUI/h7mLmthw=           4.943\n",
       "4  +++snpr7pmobhLKUgSHTv/mpkqgBT0tQJ0zQj6qKrqc=           4.967"
      ]
     },
     "execution_count": 75,
     "metadata": {},
     "output_type": "execute_result"
    }
   ],
   "source": [
    "ft_amount_per_day = amount_per_day(KKboxTransac)\n",
    "print(ft_amount_per_day.shape)\n",
    "ft_amount_per_day.head()"
   ]
  },
  {
   "cell_type": "code",
   "execution_count": 76,
   "metadata": {},
   "outputs": [],
   "source": [
    "# 存成csv\n",
    "# ft_amount_per_day.to_csv('NewFeature_AmountPerDay.csv',index=False,header=True)"
   ]
  },
  {
   "cell_type": "markdown",
   "metadata": {},
   "source": [
    "##### 製作特徵_平均每日花費編碼amount_per_day_code"
   ]
  },
  {
   "cell_type": "code",
   "execution_count": 77,
   "metadata": {},
   "outputs": [],
   "source": [
    "def amount_per_day_code(df):\n",
    "    ft_amount_per_day = df[['msno', 'actual_amount_paid', 'payment_plan_days']]\n",
    "    # 去掉payment_plan_days為0的欄位\n",
    "    ft_amount_per_day = ft_amount_per_day[ft_amount_per_day['payment_plan_days'] != 0]\n",
    "    # 計算平均每天花費金額\n",
    "    ft_amount_per_day['amount_per_day'] = ft_amount_per_day['actual_amount_paid'] / ft_amount_per_day['payment_plan_days']\n",
    "    # 重新選取欄位\n",
    "    ft_amount_per_day = ft_amount_per_day[['msno', 'amount_per_day']]\n",
    "    # 合併msno，並做amount_per_day平均\n",
    "    ft_amount_per_day = ft_amount_per_day.groupby('msno', as_index=False)['amount_per_day'].mean()\n",
    "    # 製作每日花費區間\n",
    "    max_amount_pay_day = ft_amount_per_day['amount_per_day'].max()\n",
    "    bins = [-1,2,4,6,max_amount_pay_day]\n",
    "    ft_amount_per_day['amount_per_day_code'] = pd.cut(ft_amount_per_day.amount_per_day, bins, labels= np.arange(len(bins)-1))\n",
    "    ft_amount_per_day = ft_amount_per_day[['msno', 'amount_per_day_code']]\n",
    "    return ft_amount_per_day"
   ]
  },
  {
   "cell_type": "code",
   "execution_count": 78,
   "metadata": {
    "scrolled": true
   },
   "outputs": [
    {
     "name": "stdout",
     "output_type": "stream",
     "text": [
      "(2426143, 2)\n"
     ]
    },
    {
     "data": {
      "text/html": [
       "<div>\n",
       "<style scoped>\n",
       "    .dataframe tbody tr th:only-of-type {\n",
       "        vertical-align: middle;\n",
       "    }\n",
       "\n",
       "    .dataframe tbody tr th {\n",
       "        vertical-align: top;\n",
       "    }\n",
       "\n",
       "    .dataframe thead th {\n",
       "        text-align: right;\n",
       "    }\n",
       "</style>\n",
       "<table border=\"1\" class=\"dataframe\">\n",
       "  <thead>\n",
       "    <tr style=\"text-align: right;\">\n",
       "      <th></th>\n",
       "      <th>msno</th>\n",
       "      <th>amount_per_day_code</th>\n",
       "    </tr>\n",
       "  </thead>\n",
       "  <tbody>\n",
       "    <tr>\n",
       "      <th>0</th>\n",
       "      <td>+++FOrTS7ab3tIgIh8eWwX4FqRv8w/FoiOuyXsFvphY=</td>\n",
       "      <td>0</td>\n",
       "    </tr>\n",
       "    <tr>\n",
       "      <th>1</th>\n",
       "      <td>+++IZseRRiQS9aaSkH6cMYU6bGDcxUieAi/tH67sC5s=</td>\n",
       "      <td>2</td>\n",
       "    </tr>\n",
       "    <tr>\n",
       "      <th>2</th>\n",
       "      <td>+++hVY1rZox/33YtvDgmKA2Frg/2qhkz12B9ylCvh8o=</td>\n",
       "      <td>1</td>\n",
       "    </tr>\n",
       "    <tr>\n",
       "      <th>3</th>\n",
       "      <td>+++l/EXNMLTijfLBa8p2TUVVVp2aFGSuUI/h7mLmthw=</td>\n",
       "      <td>2</td>\n",
       "    </tr>\n",
       "    <tr>\n",
       "      <th>4</th>\n",
       "      <td>+++snpr7pmobhLKUgSHTv/mpkqgBT0tQJ0zQj6qKrqc=</td>\n",
       "      <td>2</td>\n",
       "    </tr>\n",
       "  </tbody>\n",
       "</table>\n",
       "</div>"
      ],
      "text/plain": [
       "                                           msno amount_per_day_code\n",
       "0  +++FOrTS7ab3tIgIh8eWwX4FqRv8w/FoiOuyXsFvphY=                   0\n",
       "1  +++IZseRRiQS9aaSkH6cMYU6bGDcxUieAi/tH67sC5s=                   2\n",
       "2  +++hVY1rZox/33YtvDgmKA2Frg/2qhkz12B9ylCvh8o=                   1\n",
       "3  +++l/EXNMLTijfLBa8p2TUVVVp2aFGSuUI/h7mLmthw=                   2\n",
       "4  +++snpr7pmobhLKUgSHTv/mpkqgBT0tQJ0zQj6qKrqc=                   2"
      ]
     },
     "execution_count": 78,
     "metadata": {},
     "output_type": "execute_result"
    }
   ],
   "source": [
    "ft_amount_per_day_code = amount_per_day_code(KKboxTransac)\n",
    "print(ft_amount_per_day_code.shape)\n",
    "ft_amount_per_day_code.head()"
   ]
  },
  {
   "cell_type": "code",
   "execution_count": 79,
   "metadata": {},
   "outputs": [
    {
     "data": {
      "image/png": "[encoded data removed]",
      "text/plain": [
       "<Figure size 432x216 with 1 Axes>"
      ]
     },
     "metadata": {
      "needs_background": "light"
     },
     "output_type": "display_data"
    }
   ],
   "source": [
    "plt.figure(figsize=(6,3))\n",
    "sns.countplot(x=\"amount_per_day_code\", data=ft_amount_per_day_code, palette = \"pastel\")\n",
    "plt.ylabel('Count', fontsize=12)\n",
    "plt.xlabel('Amount_perday_Code', fontsize=12)\n",
    "plt.title(\"平均每日訂閱消費金額\", fontsize=12)\n",
    "plt.xticks(np.arange(4), ('2元以下', '2~4元', '4~6元', '6元以上'))\n",
    "plt.show()"
   ]
  },
  {
   "cell_type": "code",
   "execution_count": 80,
   "metadata": {},
   "outputs": [],
   "source": [
    "# 存成csv\n",
    "ft_amount_per_day_code.to_csv('NewFeature_AmountPerDayCode.csv',index=False,header=True)"
   ]
  },
  {
   "cell_type": "markdown",
   "metadata": {},
   "source": [
    "##### 製作特徵總會員日membership_days"
   ]
  },
  {
   "cell_type": "code",
   "execution_count": 81,
   "metadata": {},
   "outputs": [],
   "source": [
    "def membership_days(df):\n",
    "    ft_membership_days = df[['msno', 'trans_date', 'mem_expire_date']]\n",
    "    ft_membership_days['membership'] = ft_membership_days['mem_expire_date'] - ft_membership_days['trans_date']\n",
    "    ft_membership_days['membership_days'] = ft_membership_days['membership'] / np.timedelta64(1,'D')\n",
    "    ft_membership_days = ft_membership_days[['msno', 'membership_days']]\n",
    "    ft_membership_days = ft_membership_days.groupby('msno', as_index=False)['membership_days'].sum()\n",
    "    return ft_membership_days"
   ]
  },
  {
   "cell_type": "code",
   "execution_count": 82,
   "metadata": {
    "scrolled": false
   },
   "outputs": [
    {
     "name": "stderr",
     "output_type": "stream",
     "text": [
      "C:\\Users\\User\\Anaconda3\\lib\\site-packages\\ipykernel_launcher.py:3: SettingWithCopyWarning: \n",
      "A value is trying to be set on a copy of a slice from a DataFrame.\n",
      "Try using .loc[row_indexer,col_indexer] = value instead\n",
      "\n",
      "See the caveats in the documentation: http://pandas.pydata.org/pandas-docs/stable/indexing.html#indexing-view-versus-copy\n",
      "  This is separate from the ipykernel package so we can avoid doing imports until\n",
      "C:\\Users\\User\\Anaconda3\\lib\\site-packages\\ipykernel_launcher.py:4: SettingWithCopyWarning: \n",
      "A value is trying to be set on a copy of a slice from a DataFrame.\n",
      "Try using .loc[row_indexer,col_indexer] = value instead\n",
      "\n",
      "See the caveats in the documentation: http://pandas.pydata.org/pandas-docs/stable/indexing.html#indexing-view-versus-copy\n",
      "  after removing the cwd from sys.path.\n"
     ]
    },
    {
     "name": "stdout",
     "output_type": "stream",
     "text": [
      "(2426143, 2)\n"
     ]
    },
    {
     "data": {
      "text/html": [
       "<div>\n",
       "<style scoped>\n",
       "    .dataframe tbody tr th:only-of-type {\n",
       "        vertical-align: middle;\n",
       "    }\n",
       "\n",
       "    .dataframe tbody tr th {\n",
       "        vertical-align: top;\n",
       "    }\n",
       "\n",
       "    .dataframe thead th {\n",
       "        text-align: right;\n",
       "    }\n",
       "</style>\n",
       "<table border=\"1\" class=\"dataframe\">\n",
       "  <thead>\n",
       "    <tr style=\"text-align: right;\">\n",
       "      <th></th>\n",
       "      <th>msno</th>\n",
       "      <th>membership_days</th>\n",
       "    </tr>\n",
       "  </thead>\n",
       "  <tbody>\n",
       "    <tr>\n",
       "      <th>0</th>\n",
       "      <td>+++FOrTS7ab3tIgIh8eWwX4FqRv8w/FoiOuyXsFvphY=</td>\n",
       "      <td>5.000</td>\n",
       "    </tr>\n",
       "    <tr>\n",
       "      <th>1</th>\n",
       "      <td>+++IZseRRiQS9aaSkH6cMYU6bGDcxUieAi/tH67sC5s=</td>\n",
       "      <td>881.000</td>\n",
       "    </tr>\n",
       "    <tr>\n",
       "      <th>2</th>\n",
       "      <td>+++hVY1rZox/33YtvDgmKA2Frg/2qhkz12B9ylCvh8o=</td>\n",
       "      <td>150.000</td>\n",
       "    </tr>\n",
       "    <tr>\n",
       "      <th>3</th>\n",
       "      <td>+++l/EXNMLTijfLBa8p2TUVVVp2aFGSuUI/h7mLmthw=</td>\n",
       "      <td>1031.000</td>\n",
       "    </tr>\n",
       "    <tr>\n",
       "      <th>4</th>\n",
       "      <td>+++snpr7pmobhLKUgSHTv/mpkqgBT0tQJ0zQj6qKrqc=</td>\n",
       "      <td>821.000</td>\n",
       "    </tr>\n",
       "  </tbody>\n",
       "</table>\n",
       "</div>"
      ],
      "text/plain": [
       "                                           msno  membership_days\n",
       "0  +++FOrTS7ab3tIgIh8eWwX4FqRv8w/FoiOuyXsFvphY=            5.000\n",
       "1  +++IZseRRiQS9aaSkH6cMYU6bGDcxUieAi/tH67sC5s=          881.000\n",
       "2  +++hVY1rZox/33YtvDgmKA2Frg/2qhkz12B9ylCvh8o=          150.000\n",
       "3  +++l/EXNMLTijfLBa8p2TUVVVp2aFGSuUI/h7mLmthw=         1031.000\n",
       "4  +++snpr7pmobhLKUgSHTv/mpkqgBT0tQJ0zQj6qKrqc=          821.000"
      ]
     },
     "execution_count": 82,
     "metadata": {},
     "output_type": "execute_result"
    }
   ],
   "source": [
    "ft_membership_days = membership_days(KKboxTransac)\n",
    "print(ft_membership_days.shape)\n",
    "ft_membership_days.head()"
   ]
  },
  {
   "cell_type": "code",
   "execution_count": 83,
   "metadata": {},
   "outputs": [],
   "source": [
    "# 存成csv\n",
    "# ft_membership_days.to_csv('NewFeature_MembershipDays.csv',index=False,header=True)"
   ]
  },
  {
   "cell_type": "markdown",
   "metadata": {},
   "source": [
    "##### 製作老客戶longtime_user(定義總時間一年以上)"
   ]
  },
  {
   "cell_type": "code",
   "execution_count": 84,
   "metadata": {},
   "outputs": [],
   "source": [
    "def longtime_user(df):\n",
    "    ft_membership_days = df[['msno', 'trans_date', 'mem_expire_date']]\n",
    "    ft_membership_days['membership'] = ft_membership_days['mem_expire_date'] - ft_membership_days['trans_date']\n",
    "    ft_membership_days['membership_days'] = ft_membership_days['membership'] / np.timedelta64(1,'D')\n",
    "    # 取得總會員天數\n",
    "    ft_longtime_user = ft_membership_days[['msno', 'membership_days']]\n",
    "    # 合併同一user\n",
    "    ft_longtime_user = ft_longtime_user.groupby('msno', as_index=False)['membership_days'].sum()\n",
    "    # 定義longtime_user為超過365天者為1，未滿為0\n",
    "    ft_longtime_user['longtime_user'] = (((ft_longtime_user['membership_days'] / 365).astype(int)) > 1).astype(int)\n",
    "    # 僅選擇longtime_user欄位\n",
    "    ft_longtime_user = ft_longtime_user[['msno', 'longtime_user']]\n",
    "    return ft_longtime_user"
   ]
  },
  {
   "cell_type": "code",
   "execution_count": 85,
   "metadata": {
    "scrolled": false
   },
   "outputs": [
    {
     "name": "stderr",
     "output_type": "stream",
     "text": [
      "C:\\Users\\User\\Anaconda3\\lib\\site-packages\\ipykernel_launcher.py:3: SettingWithCopyWarning: \n",
      "A value is trying to be set on a copy of a slice from a DataFrame.\n",
      "Try using .loc[row_indexer,col_indexer] = value instead\n",
      "\n",
      "See the caveats in the documentation: http://pandas.pydata.org/pandas-docs/stable/indexing.html#indexing-view-versus-copy\n",
      "  This is separate from the ipykernel package so we can avoid doing imports until\n",
      "C:\\Users\\User\\Anaconda3\\lib\\site-packages\\ipykernel_launcher.py:4: SettingWithCopyWarning: \n",
      "A value is trying to be set on a copy of a slice from a DataFrame.\n",
      "Try using .loc[row_indexer,col_indexer] = value instead\n",
      "\n",
      "See the caveats in the documentation: http://pandas.pydata.org/pandas-docs/stable/indexing.html#indexing-view-versus-copy\n",
      "  after removing the cwd from sys.path.\n"
     ]
    },
    {
     "name": "stdout",
     "output_type": "stream",
     "text": [
      "(2426143, 2)\n"
     ]
    },
    {
     "data": {
      "text/html": [
       "<div>\n",
       "<style scoped>\n",
       "    .dataframe tbody tr th:only-of-type {\n",
       "        vertical-align: middle;\n",
       "    }\n",
       "\n",
       "    .dataframe tbody tr th {\n",
       "        vertical-align: top;\n",
       "    }\n",
       "\n",
       "    .dataframe thead th {\n",
       "        text-align: right;\n",
       "    }\n",
       "</style>\n",
       "<table border=\"1\" class=\"dataframe\">\n",
       "  <thead>\n",
       "    <tr style=\"text-align: right;\">\n",
       "      <th></th>\n",
       "      <th>msno</th>\n",
       "      <th>longtime_user</th>\n",
       "    </tr>\n",
       "  </thead>\n",
       "  <tbody>\n",
       "    <tr>\n",
       "      <th>0</th>\n",
       "      <td>+++FOrTS7ab3tIgIh8eWwX4FqRv8w/FoiOuyXsFvphY=</td>\n",
       "      <td>0</td>\n",
       "    </tr>\n",
       "    <tr>\n",
       "      <th>1</th>\n",
       "      <td>+++IZseRRiQS9aaSkH6cMYU6bGDcxUieAi/tH67sC5s=</td>\n",
       "      <td>1</td>\n",
       "    </tr>\n",
       "    <tr>\n",
       "      <th>2</th>\n",
       "      <td>+++hVY1rZox/33YtvDgmKA2Frg/2qhkz12B9ylCvh8o=</td>\n",
       "      <td>0</td>\n",
       "    </tr>\n",
       "    <tr>\n",
       "      <th>3</th>\n",
       "      <td>+++l/EXNMLTijfLBa8p2TUVVVp2aFGSuUI/h7mLmthw=</td>\n",
       "      <td>1</td>\n",
       "    </tr>\n",
       "    <tr>\n",
       "      <th>4</th>\n",
       "      <td>+++snpr7pmobhLKUgSHTv/mpkqgBT0tQJ0zQj6qKrqc=</td>\n",
       "      <td>1</td>\n",
       "    </tr>\n",
       "  </tbody>\n",
       "</table>\n",
       "</div>"
      ],
      "text/plain": [
       "                                           msno  longtime_user\n",
       "0  +++FOrTS7ab3tIgIh8eWwX4FqRv8w/FoiOuyXsFvphY=              0\n",
       "1  +++IZseRRiQS9aaSkH6cMYU6bGDcxUieAi/tH67sC5s=              1\n",
       "2  +++hVY1rZox/33YtvDgmKA2Frg/2qhkz12B9ylCvh8o=              0\n",
       "3  +++l/EXNMLTijfLBa8p2TUVVVp2aFGSuUI/h7mLmthw=              1\n",
       "4  +++snpr7pmobhLKUgSHTv/mpkqgBT0tQJ0zQj6qKrqc=              1"
      ]
     },
     "execution_count": 85,
     "metadata": {},
     "output_type": "execute_result"
    }
   ],
   "source": [
    "ft_longtime_user = longtime_user(KKboxTransac)\n",
    "print(ft_longtime_user.shape)\n",
    "ft_longtime_user.head()"
   ]
  },
  {
   "cell_type": "code",
   "execution_count": 86,
   "metadata": {},
   "outputs": [
    {
     "data": {
      "image/png": "[encoded data removed]",
      "text/plain": [
       "<Figure size 288x216 with 1 Axes>"
      ]
     },
     "metadata": {
      "needs_background": "light"
     },
     "output_type": "display_data"
    }
   ],
   "source": [
    "plt.figure(figsize=(4,3))\n",
    "sns.countplot(x=\"longtime_user\", data=ft_longtime_user, palette = \"pastel\")\n",
    "plt.ylabel('Count', fontsize=12)\n",
    "plt.xlabel('Longtime User', fontsize=12)\n",
    "plt.title(\"Frequency of Longtime User Count\", fontsize=12)\n",
    "plt.show()"
   ]
  },
  {
   "cell_type": "code",
   "execution_count": 87,
   "metadata": {},
   "outputs": [],
   "source": [
    "# 存成csv\n",
    "# ft_longtime_user.to_csv('NewFeature_LongTimeUser.csv',index=False,header=True)"
   ]
  },
  {
   "cell_type": "markdown",
   "metadata": {},
   "source": [
    "##### 製作使否使用付款方式41"
   ]
  },
  {
   "cell_type": "code",
   "execution_count": 88,
   "metadata": {},
   "outputs": [],
   "source": [
    "def pay_method_41(df):\n",
    "    # 根據payment_method_id進行確認付款方式41的比例為多少\n",
    "    ft_payment_method_id = df[['msno', 'payment_method_id']]\n",
    "    # rename\n",
    "    ft_payment_method_id.rename(columns={'payment_method_id':'pay_method_41_ratio'}, inplace=True)\n",
    "    # 調整以編號41付款方式為1，非編號4付款方式為0\n",
    "    ft_payment_method_id['pay_method_41_ratio'] = ft_payment_method_id.pay_method_41_ratio.apply(lambda x: 1 if x == 41 else 0)\n",
    "    # 合併取得每位用戶使用編號41付款方式的比例\n",
    "    ft_payment_method_id = ft_payment_method_id.groupby('msno', as_index=False)['pay_method_41_ratio'].mean()\n",
    "    ft_payment_method_id['payment_method_41'] = ft_payment_method_id.pay_method_41_ratio.apply(lambda x: 1 if x>0.5 else 0)\n",
    "    return ft_payment_method_id"
   ]
  },
  {
   "cell_type": "code",
   "execution_count": 89,
   "metadata": {},
   "outputs": [
    {
     "name": "stderr",
     "output_type": "stream",
     "text": [
      "C:\\Users\\User\\Anaconda3\\lib\\site-packages\\pandas\\core\\frame.py:4025: SettingWithCopyWarning: \n",
      "A value is trying to be set on a copy of a slice from a DataFrame\n",
      "\n",
      "See the caveats in the documentation: http://pandas.pydata.org/pandas-docs/stable/indexing.html#indexing-view-versus-copy\n",
      "  return super(DataFrame, self).rename(**kwargs)\n",
      "C:\\Users\\User\\Anaconda3\\lib\\site-packages\\ipykernel_launcher.py:7: SettingWithCopyWarning: \n",
      "A value is trying to be set on a copy of a slice from a DataFrame.\n",
      "Try using .loc[row_indexer,col_indexer] = value instead\n",
      "\n",
      "See the caveats in the documentation: http://pandas.pydata.org/pandas-docs/stable/indexing.html#indexing-view-versus-copy\n",
      "  import sys\n"
     ]
    },
    {
     "name": "stdout",
     "output_type": "stream",
     "text": [
      "(2426143, 3)\n"
     ]
    },
    {
     "data": {
      "text/html": [
       "<div>\n",
       "<style scoped>\n",
       "    .dataframe tbody tr th:only-of-type {\n",
       "        vertical-align: middle;\n",
       "    }\n",
       "\n",
       "    .dataframe tbody tr th {\n",
       "        vertical-align: top;\n",
       "    }\n",
       "\n",
       "    .dataframe thead th {\n",
       "        text-align: right;\n",
       "    }\n",
       "</style>\n",
       "<table border=\"1\" class=\"dataframe\">\n",
       "  <thead>\n",
       "    <tr style=\"text-align: right;\">\n",
       "      <th></th>\n",
       "      <th>msno</th>\n",
       "      <th>pay_method_41_ratio</th>\n",
       "      <th>payment_method_41</th>\n",
       "    </tr>\n",
       "  </thead>\n",
       "  <tbody>\n",
       "    <tr>\n",
       "      <th>0</th>\n",
       "      <td>+++FOrTS7ab3tIgIh8eWwX4FqRv8w/FoiOuyXsFvphY=</td>\n",
       "      <td>0.000</td>\n",
       "      <td>0</td>\n",
       "    </tr>\n",
       "    <tr>\n",
       "      <th>1</th>\n",
       "      <td>+++IZseRRiQS9aaSkH6cMYU6bGDcxUieAi/tH67sC5s=</td>\n",
       "      <td>0.000</td>\n",
       "      <td>0</td>\n",
       "    </tr>\n",
       "    <tr>\n",
       "      <th>2</th>\n",
       "      <td>+++hVY1rZox/33YtvDgmKA2Frg/2qhkz12B9ylCvh8o=</td>\n",
       "      <td>1.000</td>\n",
       "      <td>1</td>\n",
       "    </tr>\n",
       "    <tr>\n",
       "      <th>3</th>\n",
       "      <td>+++l/EXNMLTijfLBa8p2TUVVVp2aFGSuUI/h7mLmthw=</td>\n",
       "      <td>0.000</td>\n",
       "      <td>0</td>\n",
       "    </tr>\n",
       "    <tr>\n",
       "      <th>4</th>\n",
       "      <td>+++snpr7pmobhLKUgSHTv/mpkqgBT0tQJ0zQj6qKrqc=</td>\n",
       "      <td>1.000</td>\n",
       "      <td>1</td>\n",
       "    </tr>\n",
       "  </tbody>\n",
       "</table>\n",
       "</div>"
      ],
      "text/plain": [
       "                                           msno  pay_method_41_ratio  \\\n",
       "0  +++FOrTS7ab3tIgIh8eWwX4FqRv8w/FoiOuyXsFvphY=                0.000   \n",
       "1  +++IZseRRiQS9aaSkH6cMYU6bGDcxUieAi/tH67sC5s=                0.000   \n",
       "2  +++hVY1rZox/33YtvDgmKA2Frg/2qhkz12B9ylCvh8o=                1.000   \n",
       "3  +++l/EXNMLTijfLBa8p2TUVVVp2aFGSuUI/h7mLmthw=                0.000   \n",
       "4  +++snpr7pmobhLKUgSHTv/mpkqgBT0tQJ0zQj6qKrqc=                1.000   \n",
       "\n",
       "   payment_method_41  \n",
       "0                  0  \n",
       "1                  0  \n",
       "2                  1  \n",
       "3                  0  \n",
       "4                  1  "
      ]
     },
     "execution_count": 89,
     "metadata": {},
     "output_type": "execute_result"
    }
   ],
   "source": [
    "ft_payment_method_41 = pay_method_41(KKboxTransac)\n",
    "print(ft_payment_method_41.shape)\n",
    "ft_payment_method_41.head()"
   ]
  },
  {
   "cell_type": "code",
   "execution_count": 90,
   "metadata": {
    "scrolled": true
   },
   "outputs": [
    {
     "data": {
      "image/png": "[encoded data removed]",
      "text/plain": [
       "<Figure size 288x216 with 1 Axes>"
      ]
     },
     "metadata": {
      "needs_background": "light"
     },
     "output_type": "display_data"
    }
   ],
   "source": [
    "plt.figure(figsize=(4,3))\n",
    "sns.countplot(x=\"payment_method_41\", data=ft_payment_method_41, palette = \"Set2\")\n",
    "plt.ylabel('Count', fontsize=12)\n",
    "plt.xlabel('payment_method_41', fontsize=12)\n",
    "plt.title(\"Frequency of Payment_method_41 Count\", fontsize=12)\n",
    "plt.show()"
   ]
  },
  {
   "cell_type": "code",
   "execution_count": 91,
   "metadata": {},
   "outputs": [],
   "source": [
    "# 存成csv\n",
    "# ft_payment_method_41.to_csv('NewFeature_PaymentMethodId41.csv',index=False,header=True)"
   ]
  },
  {
   "cell_type": "markdown",
   "metadata": {},
   "source": [
    "##### 特徵city做ont-hot encoding"
   ]
  },
  {
   "cell_type": "code",
   "execution_count": 92,
   "metadata": {},
   "outputs": [
    {
     "data": {
      "text/html": [
       "<div>\n",
       "<style scoped>\n",
       "    .dataframe tbody tr th:only-of-type {\n",
       "        vertical-align: middle;\n",
       "    }\n",
       "\n",
       "    .dataframe tbody tr th {\n",
       "        vertical-align: top;\n",
       "    }\n",
       "\n",
       "    .dataframe thead th {\n",
       "        text-align: right;\n",
       "    }\n",
       "</style>\n",
       "<table border=\"1\" class=\"dataframe\">\n",
       "  <thead>\n",
       "    <tr style=\"text-align: right;\">\n",
       "      <th></th>\n",
       "      <th>msno</th>\n",
       "      <th>City_1</th>\n",
       "    </tr>\n",
       "  </thead>\n",
       "  <tbody>\n",
       "    <tr>\n",
       "      <th>0</th>\n",
       "      <td>Rb9UwLQTrxzBVwCB6+bCcSQWZ9JiNLC9dXtM1oEsZA8=</td>\n",
       "      <td>1</td>\n",
       "    </tr>\n",
       "    <tr>\n",
       "      <th>1</th>\n",
       "      <td>+tJonkh+O1CA796Fm5X60UMOtB6POHAwPjbTRVl/EuU=</td>\n",
       "      <td>1</td>\n",
       "    </tr>\n",
       "    <tr>\n",
       "      <th>2</th>\n",
       "      <td>cV358ssn7a0f7jZOwGNWS07wCKVqxyiImJUX6xcIwKw=</td>\n",
       "      <td>1</td>\n",
       "    </tr>\n",
       "    <tr>\n",
       "      <th>3</th>\n",
       "      <td>9bzDeJP6sQodK73K5CBlJ6fgIQzPeLnRl0p5B77XP+g=</td>\n",
       "      <td>1</td>\n",
       "    </tr>\n",
       "    <tr>\n",
       "      <th>4</th>\n",
       "      <td>WFLY3s7z4EZsieHCt63XrsdtfTEmJ+2PnnKLH5GY4Tk=</td>\n",
       "      <td>0</td>\n",
       "    </tr>\n",
       "  </tbody>\n",
       "</table>\n",
       "</div>"
      ],
      "text/plain": [
       "                                           msno  City_1\n",
       "0  Rb9UwLQTrxzBVwCB6+bCcSQWZ9JiNLC9dXtM1oEsZA8=       1\n",
       "1  +tJonkh+O1CA796Fm5X60UMOtB6POHAwPjbTRVl/EuU=       1\n",
       "2  cV358ssn7a0f7jZOwGNWS07wCKVqxyiImJUX6xcIwKw=       1\n",
       "3  9bzDeJP6sQodK73K5CBlJ6fgIQzPeLnRl0p5B77XP+g=       1\n",
       "4  WFLY3s7z4EZsieHCt63XrsdtfTEmJ+2PnnKLH5GY4Tk=       0"
      ]
     },
     "execution_count": 92,
     "metadata": {},
     "output_type": "execute_result"
    }
   ],
   "source": [
    "ft_city_encode = pd.get_dummies(KKboxMembers['city'], prefix='City')\n",
    "ft_city_encode = pd.concat([KKboxMembers, ft_city_encode], axis=1)\n",
    "ft_city_encode = ft_city_encode[['msno', 'City_1']]\n",
    "ft_city_encode.head()"
   ]
  },
  {
   "cell_type": "code",
   "execution_count": 93,
   "metadata": {},
   "outputs": [
    {
     "data": {
      "image/png": "[encoded data removed]",
      "text/plain": [
       "<Figure size 288x216 with 1 Axes>"
      ]
     },
     "metadata": {
      "needs_background": "light"
     },
     "output_type": "display_data"
    }
   ],
   "source": [
    "plt.figure(figsize=(4,3))\n",
    "sns.countplot(x=\"City_1\", data=ft_city_encode, palette = \"pastel\")\n",
    "plt.ylabel('Count', fontsize=12)\n",
    "plt.xlabel('City-1', fontsize=12)\n",
    "plt.title(\"Frequency of City-1 Count\", fontsize=12)\n",
    "plt.show()"
   ]
  },
  {
   "cell_type": "code",
   "execution_count": 94,
   "metadata": {},
   "outputs": [],
   "source": [
    "# 存成csv\n",
    "# ft_city_encode.to_csv('NewFeature_City1.csv',index=False,header=True)"
   ]
  },
  {
   "cell_type": "markdown",
   "metadata": {},
   "source": [
    "## 合併進Transaction特徵"
   ]
  },
  {
   "cell_type": "code",
   "execution_count": 95,
   "metadata": {},
   "outputs": [
    {
     "name": "stdout",
     "output_type": "stream",
     "text": [
      "['msno', 'is_churn', 'city', 'bd', 'gender', 'registered_via', 'registration_init_time']\n",
      "['msno', 'client_level_code']\n"
     ]
    }
   ],
   "source": [
    "print(list(KKboxTrainMembers.columns))\n",
    "print(list(ft_trans_times_train.columns))"
   ]
  },
  {
   "cell_type": "code",
   "execution_count": 96,
   "metadata": {},
   "outputs": [],
   "source": [
    "# 合併進交易次數層別client_level_code\n",
    "KKboxTrainMembersTran = pd.merge(KKboxTrainMembers, ft_trans_times_train, how='left', on=['msno'])"
   ]
  },
  {
   "cell_type": "code",
   "execution_count": 97,
   "metadata": {},
   "outputs": [],
   "source": [
    "# rename bd -> age\n",
    "# KKboxTrainMembersTran.rename(index=float, columns={'bd': 'age'}, inplace=True)\n",
    "# 去除bd不合理值\n",
    "# KKboxTrainMembersTran = KKboxTrainMembersTran[KKboxTrainMembersTran['age'] < 100]\n",
    "# KKboxTrainMembersTran = KKboxTrainMembersTran[KKboxTrainMembersTran['age'] > 1]\n",
    "# 修改bd缺失值\n",
    "# KKboxTrainMembersTran['age'] = KKboxTrainMembersTran['age'].fillna(KKboxTrainMembersTran['age'].mean())"
   ]
  },
  {
   "cell_type": "code",
   "execution_count": 98,
   "metadata": {},
   "outputs": [],
   "source": [
    "# 合併進age_under26\n",
    "KKboxTrainMembersTran = pd.merge(KKboxTrainMembersTran, ft_age_under26, how='left', on=['msno'])\n",
    "# KKboxTrainMembersTran = KKboxTrainMembersTran.drop(columns=['bd'])"
   ]
  },
  {
   "cell_type": "code",
   "execution_count": 99,
   "metadata": {},
   "outputs": [],
   "source": [
    "# 合併進連續/非連續訂閱者特徵last_last_churn\n",
    "KKboxTrainMembersTran = pd.merge(KKboxTrainMembersTran, ft_last_last_churn, how='left', on=['msno'])\n",
    "# 處理缺失值\n",
    "KKboxTrainMembersTran['last_last_churn'] = KKboxTrainMembersTran['last_last_churn'].fillna(-1)"
   ]
  },
  {
   "cell_type": "code",
   "execution_count": 100,
   "metadata": {},
   "outputs": [],
   "source": [
    "# 合併進自動續約last_auto_renew\n",
    "KKboxTrainMembersTran = pd.merge(KKboxTrainMembersTran, ft_last_auto_renew, how='left', on=['msno'])"
   ]
  },
  {
   "cell_type": "code",
   "execution_count": 101,
   "metadata": {},
   "outputs": [],
   "source": [
    "# 合併進年齡區段age_level_code\n",
    "KKboxTrainMembersTran = pd.merge(KKboxTrainMembersTran, ft_age_level_code, how='left', on=['msno'])\n",
    "# 去除bd欄位\n",
    "# KKboxTrainMembersTran = KKboxTrainMembersTran.drop(columns=['bd'])"
   ]
  },
  {
   "cell_type": "code",
   "execution_count": 102,
   "metadata": {},
   "outputs": [],
   "source": [
    "# 消除重複項\n",
    "# KKboxTrainMembersTran.drop_duplicates(subset=None, keep='first', inplace=True)"
   ]
  },
  {
   "cell_type": "code",
   "execution_count": 103,
   "metadata": {},
   "outputs": [],
   "source": [
    "# 合併折扣次數is_discount\n",
    "KKboxTrainMembersTran = pd.merge(KKboxTrainMembersTran, ft_isdiscount, how='left', on=['msno'])"
   ]
  },
  {
   "cell_type": "code",
   "execution_count": 104,
   "metadata": {},
   "outputs": [],
   "source": [
    "# 合併每日平均花費amount_per_day\n",
    "KKboxTrainMembersTran = pd.merge(KKboxTrainMembersTran, ft_amount_per_day, how='left', on=['msno'])"
   ]
  },
  {
   "cell_type": "code",
   "execution_count": 105,
   "metadata": {},
   "outputs": [],
   "source": [
    "# 合併老客戶longtime_user\n",
    "KKboxTrainMembersTran = pd.merge(KKboxTrainMembersTran, ft_longtime_user, how='left', on=['msno'])"
   ]
  },
  {
   "cell_type": "code",
   "execution_count": 106,
   "metadata": {},
   "outputs": [],
   "source": [
    "# 合併city for one-hot encoding\n",
    "# KKboxTrainMembersTran = pd.merge(KKboxTrainMembersTran, ft_city_encode, how='left', on=['msno'])"
   ]
  },
  {
   "cell_type": "code",
   "execution_count": 107,
   "metadata": {},
   "outputs": [],
   "source": [
    "# 合併較常用付款方式41的用戶\n",
    "# KKboxTrainMembersTran = pd.merge(KKboxTrainMembersTran, ft_payment_method_41, how='left', on=['msno'])\n",
    "# KKboxTrainMembersTran = KKboxTrainMembersTran.drop(columns=['payment_method_41'])"
   ]
  },
  {
   "cell_type": "markdown",
   "metadata": {},
   "source": [
    "---"
   ]
  },
  {
   "cell_type": "code",
   "execution_count": 108,
   "metadata": {
    "scrolled": true
   },
   "outputs": [
    {
     "name": "stdout",
     "output_type": "stream",
     "text": [
      "(970960, 15)\n"
     ]
    },
    {
     "data": {
      "text/html": [
       "<div>\n",
       "<style scoped>\n",
       "    .dataframe tbody tr th:only-of-type {\n",
       "        vertical-align: middle;\n",
       "    }\n",
       "\n",
       "    .dataframe tbody tr th {\n",
       "        vertical-align: top;\n",
       "    }\n",
       "\n",
       "    .dataframe thead th {\n",
       "        text-align: right;\n",
       "    }\n",
       "</style>\n",
       "<table border=\"1\" class=\"dataframe\">\n",
       "  <thead>\n",
       "    <tr style=\"text-align: right;\">\n",
       "      <th></th>\n",
       "      <th>msno</th>\n",
       "      <th>is_churn</th>\n",
       "      <th>city</th>\n",
       "      <th>bd</th>\n",
       "      <th>gender</th>\n",
       "      <th>registered_via</th>\n",
       "      <th>registration_init_time</th>\n",
       "      <th>client_level_code</th>\n",
       "      <th>age_under26</th>\n",
       "      <th>last_last_churn</th>\n",
       "      <th>last_auto_renew</th>\n",
       "      <th>age_level_code</th>\n",
       "      <th>is_discount</th>\n",
       "      <th>amount_per_day</th>\n",
       "      <th>longtime_user</th>\n",
       "    </tr>\n",
       "  </thead>\n",
       "  <tbody>\n",
       "    <tr>\n",
       "      <th>0</th>\n",
       "      <td>ugx0CjOMzazClkFzU2xasmDZaoIqOUAZPsH1q0teWCg=</td>\n",
       "      <td>1</td>\n",
       "      <td>5.000</td>\n",
       "      <td>28.000</td>\n",
       "      <td>1</td>\n",
       "      <td>3.000</td>\n",
       "      <td>2013-12-23</td>\n",
       "      <td>1</td>\n",
       "      <td>0.000</td>\n",
       "      <td>0.000</td>\n",
       "      <td>1</td>\n",
       "      <td>1</td>\n",
       "      <td>6</td>\n",
       "      <td>4.967</td>\n",
       "      <td>0</td>\n",
       "    </tr>\n",
       "    <tr>\n",
       "      <th>1</th>\n",
       "      <td>f/NmvEzHfhINFEYZTR05prUdr+E+3+oewvweYz9cCQE=</td>\n",
       "      <td>1</td>\n",
       "      <td>13.000</td>\n",
       "      <td>20.000</td>\n",
       "      <td>1</td>\n",
       "      <td>3.000</td>\n",
       "      <td>2013-12-23</td>\n",
       "      <td>1</td>\n",
       "      <td>1.000</td>\n",
       "      <td>0.000</td>\n",
       "      <td>0</td>\n",
       "      <td>0</td>\n",
       "      <td>6</td>\n",
       "      <td>4.483</td>\n",
       "      <td>0</td>\n",
       "    </tr>\n",
       "    <tr>\n",
       "      <th>2</th>\n",
       "      <td>zLo9f73nGGT1p21ltZC3ChiRnAVvgibMyazbCxvWPcg=</td>\n",
       "      <td>1</td>\n",
       "      <td>13.000</td>\n",
       "      <td>18.000</td>\n",
       "      <td>1</td>\n",
       "      <td>3.000</td>\n",
       "      <td>2013-12-27</td>\n",
       "      <td>3</td>\n",
       "      <td>1.000</td>\n",
       "      <td>0.000</td>\n",
       "      <td>0</td>\n",
       "      <td>0</td>\n",
       "      <td>20</td>\n",
       "      <td>4.637</td>\n",
       "      <td>0</td>\n",
       "    </tr>\n",
       "    <tr>\n",
       "      <th>3</th>\n",
       "      <td>8iF/+8HY8lJKFrTc7iR9ZYGCG2Ecrogbc2Vy5YhsfhQ=</td>\n",
       "      <td>1</td>\n",
       "      <td>1.000</td>\n",
       "      <td>0.000</td>\n",
       "      <td>NaN</td>\n",
       "      <td>7.000</td>\n",
       "      <td>2014-01-09</td>\n",
       "      <td>4</td>\n",
       "      <td>nan</td>\n",
       "      <td>0.000</td>\n",
       "      <td>1</td>\n",
       "      <td>NaN</td>\n",
       "      <td>29</td>\n",
       "      <td>4.783</td>\n",
       "      <td>1</td>\n",
       "    </tr>\n",
       "    <tr>\n",
       "      <th>4</th>\n",
       "      <td>K6fja4+jmoZ5xG6BypqX80Uw/XKpMgrEMdG2edFOxnA=</td>\n",
       "      <td>1</td>\n",
       "      <td>13.000</td>\n",
       "      <td>35.000</td>\n",
       "      <td>0</td>\n",
       "      <td>7.000</td>\n",
       "      <td>2014-01-25</td>\n",
       "      <td>4</td>\n",
       "      <td>0.000</td>\n",
       "      <td>0.000</td>\n",
       "      <td>1</td>\n",
       "      <td>1</td>\n",
       "      <td>32</td>\n",
       "      <td>3.817</td>\n",
       "      <td>1</td>\n",
       "    </tr>\n",
       "  </tbody>\n",
       "</table>\n",
       "</div>"
      ],
      "text/plain": [
       "                                           msno  is_churn   city     bd  \\\n",
       "0  ugx0CjOMzazClkFzU2xasmDZaoIqOUAZPsH1q0teWCg=         1  5.000 28.000   \n",
       "1  f/NmvEzHfhINFEYZTR05prUdr+E+3+oewvweYz9cCQE=         1 13.000 20.000   \n",
       "2  zLo9f73nGGT1p21ltZC3ChiRnAVvgibMyazbCxvWPcg=         1 13.000 18.000   \n",
       "3  8iF/+8HY8lJKFrTc7iR9ZYGCG2Ecrogbc2Vy5YhsfhQ=         1  1.000  0.000   \n",
       "4  K6fja4+jmoZ5xG6BypqX80Uw/XKpMgrEMdG2edFOxnA=         1 13.000 35.000   \n",
       "\n",
       "  gender  registered_via registration_init_time client_level_code  \\\n",
       "0      1           3.000             2013-12-23                 1   \n",
       "1      1           3.000             2013-12-23                 1   \n",
       "2      1           3.000             2013-12-27                 3   \n",
       "3    NaN           7.000             2014-01-09                 4   \n",
       "4      0           7.000             2014-01-25                 4   \n",
       "\n",
       "   age_under26  last_last_churn  last_auto_renew age_level_code  is_discount  \\\n",
       "0        0.000            0.000                1              1            6   \n",
       "1        1.000            0.000                0              0            6   \n",
       "2        1.000            0.000                0              0           20   \n",
       "3          nan            0.000                1            NaN           29   \n",
       "4        0.000            0.000                1              1           32   \n",
       "\n",
       "   amount_per_day  longtime_user  \n",
       "0           4.967              0  \n",
       "1           4.483              0  \n",
       "2           4.637              0  \n",
       "3           4.783              1  \n",
       "4           3.817              1  "
      ]
     },
     "execution_count": 108,
     "metadata": {},
     "output_type": "execute_result"
    }
   ],
   "source": [
    "print(KKboxTrainMembersTran.shape)\n",
    "KKboxTrainMembersTran.head()"
   ]
  },
  {
   "cell_type": "code",
   "execution_count": 109,
   "metadata": {},
   "outputs": [
    {
     "name": "stdout",
     "output_type": "stream",
     "text": [
      "<class 'pandas.core.frame.DataFrame'>\n",
      "Int64Index: 970960 entries, 0 to 970959\n",
      "Data columns (total 15 columns):\n",
      "msno                      970960 non-null object\n",
      "is_churn                  970960 non-null int64\n",
      "city                      860967 non-null float64\n",
      "bd                        860967 non-null float64\n",
      "gender                    388905 non-null object\n",
      "registered_via            860967 non-null float64\n",
      "registration_init_time    860967 non-null datetime64[ns]\n",
      "client_level_code         970960 non-null category\n",
      "age_under26               386704 non-null float64\n",
      "last_last_churn           970960 non-null float64\n",
      "last_auto_renew           970960 non-null int8\n",
      "age_level_code            386704 non-null category\n",
      "is_discount               970960 non-null int64\n",
      "amount_per_day            970959 non-null float64\n",
      "longtime_user             970960 non-null int32\n",
      "dtypes: category(2), datetime64[ns](1), float64(6), int32(1), int64(2), int8(1), object(2)\n",
      "memory usage: 214.8 MB\n"
     ]
    }
   ],
   "source": [
    "KKboxTrainMembersTran.info(memory_usage='deep')"
   ]
  },
  {
   "cell_type": "markdown",
   "metadata": {},
   "source": [
    "---"
   ]
  },
  {
   "cell_type": "code",
   "execution_count": 113,
   "metadata": {
    "scrolled": true
   },
   "outputs": [
    {
     "data": {
      "text/plain": [
       "msno                      0\n",
       "is_churn                  0\n",
       "city                      0\n",
       "bd                        0\n",
       "gender                    0\n",
       "registered_via            0\n",
       "registration_init_time    0\n",
       "client_level_code         0\n",
       "age_under26               0\n",
       "last_last_churn           0\n",
       "last_auto_renew           0\n",
       "age_level_code            0\n",
       "is_discount               0\n",
       "amount_per_day            0\n",
       "longtime_user             0\n",
       "dtype: int64"
      ]
     },
     "execution_count": 113,
     "metadata": {},
     "output_type": "execute_result"
    }
   ],
   "source": [
    "KKboxTrainMembersTran.isnull().sum()"
   ]
  },
  {
   "cell_type": "code",
   "execution_count": 111,
   "metadata": {},
   "outputs": [],
   "source": [
    "KKboxTrainMembersTran['client_level_code'] = KKboxTrainMembersTran['client_level_code'].astype('int8')\n",
    "KKboxTrainMembersTran['age_level_code'] = KKboxTrainMembersTran['age_level_code'].astype('int8')"
   ]
  },
  {
   "cell_type": "code",
   "execution_count": 112,
   "metadata": {},
   "outputs": [],
   "source": [
    "# 處理bd不合理值\n",
    "KKboxTrainMembersTran = KKboxTrainMembersTran[KKboxTrainMembersTran['bd'] < 100]\n",
    "KKboxTrainMembersTran = KKboxTrainMembersTran[KKboxTrainMembersTran['bd'] > 0]\n",
    "# 處理bd缺失值\n",
    "KKboxTrainMembersTran['bd'] = KKboxTrainMembersTran['bd'].fillna(KKboxTrainMembersTran['bd'].mean())\n",
    "# 處理city缺失值\n",
    "# KKboxTrainMembersTran['city'] = KKboxTrainMembersTran['city'].fillna('-1')\n",
    "# 處理gender缺失值\n",
    "KKboxTrainMembersTran['gender'] = KKboxTrainMembersTran['gender'].fillna(-1)\n",
    "# 處理registered_via缺失值\n",
    "KKboxTrainMembersTran['registered_via'] = KKboxTrainMembersTran['registered_via'].fillna(-1)\n",
    "# 處理age_under26缺失值(依members除去不合理值之年齡平均為29歲，屬於0\n",
    "KKboxTrainMembersTran['age_under26'] = KKboxTrainMembersTran['age_under26'].fillna(0)\n",
    "# 處理age_level_code缺失值\n",
    "KKboxTrainMembersTran['age_level_code'] = KKboxTrainMembersTran['age_level_code'].fillna(-1)\n",
    "# 處理City-1的缺失值，因為不知道是否為city-1，所以把缺失值分成一類\n",
    "# KKboxTrainMembersTran['City_1'] = KKboxTrainMembersTran['City_1'].fillna(-1)\n",
    "\n",
    "# 刪除含缺失值的row\n",
    "KKboxTrainMembersTran = KKboxTrainMembersTran.dropna()"
   ]
  },
  {
   "cell_type": "code",
   "execution_count": 435,
   "metadata": {},
   "outputs": [
    {
     "data": {
      "text/html": [
       "<div>\n",
       "<style scoped>\n",
       "    .dataframe tbody tr th:only-of-type {\n",
       "        vertical-align: middle;\n",
       "    }\n",
       "\n",
       "    .dataframe tbody tr th {\n",
       "        vertical-align: top;\n",
       "    }\n",
       "\n",
       "    .dataframe thead th {\n",
       "        text-align: right;\n",
       "    }\n",
       "</style>\n",
       "<table border=\"1\" class=\"dataframe\">\n",
       "  <thead>\n",
       "    <tr style=\"text-align: right;\">\n",
       "      <th></th>\n",
       "      <th>msno</th>\n",
       "      <th>is_churn</th>\n",
       "      <th>city</th>\n",
       "      <th>bd</th>\n",
       "      <th>gender</th>\n",
       "      <th>registered_via</th>\n",
       "      <th>registration_init_time</th>\n",
       "      <th>client_level_code</th>\n",
       "      <th>age_under26</th>\n",
       "      <th>last_last_churn</th>\n",
       "      <th>last_auto_renew</th>\n",
       "      <th>age_level_code</th>\n",
       "      <th>is_discount</th>\n",
       "      <th>amount_per_day</th>\n",
       "      <th>longtime_user</th>\n",
       "    </tr>\n",
       "  </thead>\n",
       "  <tbody>\n",
       "    <tr>\n",
       "      <th>0</th>\n",
       "      <td>ugx0CjOMzazClkFzU2xasmDZaoIqOUAZPsH1q0teWCg=</td>\n",
       "      <td>1</td>\n",
       "      <td>5.000</td>\n",
       "      <td>28.000</td>\n",
       "      <td>1</td>\n",
       "      <td>3.000</td>\n",
       "      <td>2013-12-23</td>\n",
       "      <td>1</td>\n",
       "      <td>0.000</td>\n",
       "      <td>0.000</td>\n",
       "      <td>1</td>\n",
       "      <td>1</td>\n",
       "      <td>6</td>\n",
       "      <td>4.967</td>\n",
       "      <td>0</td>\n",
       "    </tr>\n",
       "    <tr>\n",
       "      <th>1</th>\n",
       "      <td>f/NmvEzHfhINFEYZTR05prUdr+E+3+oewvweYz9cCQE=</td>\n",
       "      <td>1</td>\n",
       "      <td>13.000</td>\n",
       "      <td>20.000</td>\n",
       "      <td>1</td>\n",
       "      <td>3.000</td>\n",
       "      <td>2013-12-23</td>\n",
       "      <td>1</td>\n",
       "      <td>1.000</td>\n",
       "      <td>0.000</td>\n",
       "      <td>0</td>\n",
       "      <td>0</td>\n",
       "      <td>6</td>\n",
       "      <td>4.483</td>\n",
       "      <td>0</td>\n",
       "    </tr>\n",
       "    <tr>\n",
       "      <th>2</th>\n",
       "      <td>zLo9f73nGGT1p21ltZC3ChiRnAVvgibMyazbCxvWPcg=</td>\n",
       "      <td>1</td>\n",
       "      <td>13.000</td>\n",
       "      <td>18.000</td>\n",
       "      <td>1</td>\n",
       "      <td>3.000</td>\n",
       "      <td>2013-12-27</td>\n",
       "      <td>3</td>\n",
       "      <td>1.000</td>\n",
       "      <td>0.000</td>\n",
       "      <td>0</td>\n",
       "      <td>0</td>\n",
       "      <td>20</td>\n",
       "      <td>4.637</td>\n",
       "      <td>0</td>\n",
       "    </tr>\n",
       "    <tr>\n",
       "      <th>4</th>\n",
       "      <td>K6fja4+jmoZ5xG6BypqX80Uw/XKpMgrEMdG2edFOxnA=</td>\n",
       "      <td>1</td>\n",
       "      <td>13.000</td>\n",
       "      <td>35.000</td>\n",
       "      <td>0</td>\n",
       "      <td>7.000</td>\n",
       "      <td>2014-01-25</td>\n",
       "      <td>4</td>\n",
       "      <td>0.000</td>\n",
       "      <td>0.000</td>\n",
       "      <td>1</td>\n",
       "      <td>1</td>\n",
       "      <td>32</td>\n",
       "      <td>3.817</td>\n",
       "      <td>1</td>\n",
       "    </tr>\n",
       "    <tr>\n",
       "      <th>7</th>\n",
       "      <td>moRTKhKIDvb+C8ZHOgmaF4dXMLk0jOn65d7a8tQ2Eds=</td>\n",
       "      <td>1</td>\n",
       "      <td>9.000</td>\n",
       "      <td>28.000</td>\n",
       "      <td>0</td>\n",
       "      <td>3.000</td>\n",
       "      <td>2014-02-02</td>\n",
       "      <td>1</td>\n",
       "      <td>0.000</td>\n",
       "      <td>0.000</td>\n",
       "      <td>0</td>\n",
       "      <td>1</td>\n",
       "      <td>3</td>\n",
       "      <td>4.436</td>\n",
       "      <td>1</td>\n",
       "    </tr>\n",
       "  </tbody>\n",
       "</table>\n",
       "</div>"
      ],
      "text/plain": [
       "                                           msno  is_churn   city     bd  \\\n",
       "0  ugx0CjOMzazClkFzU2xasmDZaoIqOUAZPsH1q0teWCg=         1  5.000 28.000   \n",
       "1  f/NmvEzHfhINFEYZTR05prUdr+E+3+oewvweYz9cCQE=         1 13.000 20.000   \n",
       "2  zLo9f73nGGT1p21ltZC3ChiRnAVvgibMyazbCxvWPcg=         1 13.000 18.000   \n",
       "4  K6fja4+jmoZ5xG6BypqX80Uw/XKpMgrEMdG2edFOxnA=         1 13.000 35.000   \n",
       "7  moRTKhKIDvb+C8ZHOgmaF4dXMLk0jOn65d7a8tQ2Eds=         1  9.000 28.000   \n",
       "\n",
       "  gender  registered_via registration_init_time  client_level_code  \\\n",
       "0      1           3.000             2013-12-23                  1   \n",
       "1      1           3.000             2013-12-23                  1   \n",
       "2      1           3.000             2013-12-27                  3   \n",
       "4      0           7.000             2014-01-25                  4   \n",
       "7      0           3.000             2014-02-02                  1   \n",
       "\n",
       "   age_under26  last_last_churn  last_auto_renew  age_level_code  is_discount  \\\n",
       "0        0.000            0.000                1               1            6   \n",
       "1        1.000            0.000                0               0            6   \n",
       "2        1.000            0.000                0               0           20   \n",
       "4        0.000            0.000                1               1           32   \n",
       "7        0.000            0.000                0               1            3   \n",
       "\n",
       "   amount_per_day  longtime_user  \n",
       "0           4.967              0  \n",
       "1           4.483              0  \n",
       "2           4.637              0  \n",
       "4           3.817              1  \n",
       "7           4.436              1  "
      ]
     },
     "execution_count": 435,
     "metadata": {},
     "output_type": "execute_result"
    }
   ],
   "source": [
    "KKboxTrainMembersTran.head()"
   ]
  },
  {
   "cell_type": "code",
   "execution_count": 438,
   "metadata": {},
   "outputs": [],
   "source": [
    "# 存入csv\n",
    "# KKboxTrainMembersTran.to_csv('KKboxTrainMemTransac.csv',index=False,header=True)"
   ]
  },
  {
   "cell_type": "markdown",
   "metadata": {},
   "source": [
    "##### 合併進Userlog特徵"
   ]
  },
  {
   "cell_type": "code",
   "execution_count": 114,
   "metadata": {},
   "outputs": [
    {
     "data": {
      "text/html": [
       "<div>\n",
       "<style scoped>\n",
       "    .dataframe tbody tr th:only-of-type {\n",
       "        vertical-align: middle;\n",
       "    }\n",
       "\n",
       "    .dataframe tbody tr th {\n",
       "        vertical-align: top;\n",
       "    }\n",
       "\n",
       "    .dataframe thead th {\n",
       "        text-align: right;\n",
       "    }\n",
       "</style>\n",
       "<table border=\"1\" class=\"dataframe\">\n",
       "  <thead>\n",
       "    <tr style=\"text-align: right;\">\n",
       "      <th></th>\n",
       "      <th>msno</th>\n",
       "      <th>sum_25</th>\n",
       "      <th>sum_50</th>\n",
       "      <th>sum_75</th>\n",
       "      <th>sum_985</th>\n",
       "      <th>sum_100</th>\n",
       "      <th>sum_unq</th>\n",
       "      <th>sum_secs</th>\n",
       "      <th>timeperiod</th>\n",
       "      <th>sum_25_avg</th>\n",
       "      <th>sum_50_avg</th>\n",
       "      <th>sum_75_avg</th>\n",
       "      <th>sum_985_avg</th>\n",
       "      <th>sum_100_avg</th>\n",
       "    </tr>\n",
       "  </thead>\n",
       "  <tbody>\n",
       "    <tr>\n",
       "      <th>0</th>\n",
       "      <td>+++ceu6HDcfpatMwLD3loHSqgjp1iI4VrnAFTwRqcXw=</td>\n",
       "      <td>0</td>\n",
       "      <td>0</td>\n",
       "      <td>0</td>\n",
       "      <td>0</td>\n",
       "      <td>76</td>\n",
       "      <td>9</td>\n",
       "      <td>20374</td>\n",
       "      <td>18</td>\n",
       "      <td>0.000</td>\n",
       "      <td>0.000</td>\n",
       "      <td>0.000</td>\n",
       "      <td>0.000</td>\n",
       "      <td>4.222</td>\n",
       "    </tr>\n",
       "    <tr>\n",
       "      <th>1</th>\n",
       "      <td>+++dz9ZCWE2HB/47pJU82NJXQzQuZDx1Wm50YSk/kKk=</td>\n",
       "      <td>3</td>\n",
       "      <td>0</td>\n",
       "      <td>0</td>\n",
       "      <td>1</td>\n",
       "      <td>105</td>\n",
       "      <td>94</td>\n",
       "      <td>27345</td>\n",
       "      <td>1</td>\n",
       "      <td>3.000</td>\n",
       "      <td>0.000</td>\n",
       "      <td>0.000</td>\n",
       "      <td>1.000</td>\n",
       "      <td>105.000</td>\n",
       "    </tr>\n",
       "    <tr>\n",
       "      <th>2</th>\n",
       "      <td>+++FOrTS7ab3tIgIh8eWwX4FqRv8w/FoiOuyXsFvphY=</td>\n",
       "      <td>18</td>\n",
       "      <td>7</td>\n",
       "      <td>3</td>\n",
       "      <td>5</td>\n",
       "      <td>114</td>\n",
       "      <td>117</td>\n",
       "      <td>32336</td>\n",
       "      <td>4</td>\n",
       "      <td>4.500</td>\n",
       "      <td>1.750</td>\n",
       "      <td>0.750</td>\n",
       "      <td>1.250</td>\n",
       "      <td>28.500</td>\n",
       "    </tr>\n",
       "    <tr>\n",
       "      <th>3</th>\n",
       "      <td>+++hVY1rZox/33YtvDgmKA2Frg/2qhkz12B9ylCvh8o=</td>\n",
       "      <td>306</td>\n",
       "      <td>144</td>\n",
       "      <td>155</td>\n",
       "      <td>271</td>\n",
       "      <td>1236</td>\n",
       "      <td>1517</td>\n",
       "      <td>395171</td>\n",
       "      <td>79</td>\n",
       "      <td>3.873</td>\n",
       "      <td>1.823</td>\n",
       "      <td>1.962</td>\n",
       "      <td>3.430</td>\n",
       "      <td>15.646</td>\n",
       "    </tr>\n",
       "    <tr>\n",
       "      <th>4</th>\n",
       "      <td>+++IZseRRiQS9aaSkH6cMYU6bGDcxUieAi/tH67sC5s=</td>\n",
       "      <td>499</td>\n",
       "      <td>160</td>\n",
       "      <td>133</td>\n",
       "      <td>99</td>\n",
       "      <td>31465</td>\n",
       "      <td>28202</td>\n",
       "      <td>7773370</td>\n",
       "      <td>756</td>\n",
       "      <td>0.660</td>\n",
       "      <td>0.212</td>\n",
       "      <td>0.176</td>\n",
       "      <td>0.131</td>\n",
       "      <td>41.620</td>\n",
       "    </tr>\n",
       "  </tbody>\n",
       "</table>\n",
       "</div>"
      ],
      "text/plain": [
       "                                           msno  sum_25  sum_50  sum_75  \\\n",
       "0  +++ceu6HDcfpatMwLD3loHSqgjp1iI4VrnAFTwRqcXw=       0       0       0   \n",
       "1  +++dz9ZCWE2HB/47pJU82NJXQzQuZDx1Wm50YSk/kKk=       3       0       0   \n",
       "2  +++FOrTS7ab3tIgIh8eWwX4FqRv8w/FoiOuyXsFvphY=      18       7       3   \n",
       "3  +++hVY1rZox/33YtvDgmKA2Frg/2qhkz12B9ylCvh8o=     306     144     155   \n",
       "4  +++IZseRRiQS9aaSkH6cMYU6bGDcxUieAi/tH67sC5s=     499     160     133   \n",
       "\n",
       "   sum_985  sum_100  sum_unq  sum_secs  timeperiod  sum_25_avg  sum_50_avg  \\\n",
       "0        0       76        9     20374          18       0.000       0.000   \n",
       "1        1      105       94     27345           1       3.000       0.000   \n",
       "2        5      114      117     32336           4       4.500       1.750   \n",
       "3      271     1236     1517    395171          79       3.873       1.823   \n",
       "4       99    31465    28202   7773370         756       0.660       0.212   \n",
       "\n",
       "   sum_75_avg  sum_985_avg  sum_100_avg  \n",
       "0       0.000        0.000        4.222  \n",
       "1       0.000        1.000      105.000  \n",
       "2       0.750        1.250       28.500  \n",
       "3       1.962        3.430       15.646  \n",
       "4       0.176        0.131       41.620  "
      ]
     },
     "execution_count": 114,
     "metadata": {},
     "output_type": "execute_result"
    }
   ],
   "source": [
    "UserLogSum.head()"
   ]
  },
  {
   "cell_type": "code",
   "execution_count": 115,
   "metadata": {},
   "outputs": [],
   "source": [
    "KKboxMemTranUserlog = pd.merge(KKboxTrainMembersTran, UserLogSum, how='left', on='msno')"
   ]
  },
  {
   "cell_type": "code",
   "execution_count": 125,
   "metadata": {},
   "outputs": [
    {
     "name": "stdout",
     "output_type": "stream",
     "text": [
      "(386703, 28)\n"
     ]
    },
    {
     "data": {
      "text/html": [
       "<div>\n",
       "<style scoped>\n",
       "    .dataframe tbody tr th:only-of-type {\n",
       "        vertical-align: middle;\n",
       "    }\n",
       "\n",
       "    .dataframe tbody tr th {\n",
       "        vertical-align: top;\n",
       "    }\n",
       "\n",
       "    .dataframe thead th {\n",
       "        text-align: right;\n",
       "    }\n",
       "</style>\n",
       "<table border=\"1\" class=\"dataframe\">\n",
       "  <thead>\n",
       "    <tr style=\"text-align: right;\">\n",
       "      <th></th>\n",
       "      <th>msno</th>\n",
       "      <th>is_churn</th>\n",
       "      <th>city</th>\n",
       "      <th>bd</th>\n",
       "      <th>gender</th>\n",
       "      <th>registered_via</th>\n",
       "      <th>registration_init_time</th>\n",
       "      <th>client_level_code</th>\n",
       "      <th>age_under26</th>\n",
       "      <th>last_last_churn</th>\n",
       "      <th>...</th>\n",
       "      <th>sum_985</th>\n",
       "      <th>sum_100</th>\n",
       "      <th>sum_unq</th>\n",
       "      <th>sum_secs</th>\n",
       "      <th>timeperiod</th>\n",
       "      <th>sum_25_avg</th>\n",
       "      <th>sum_50_avg</th>\n",
       "      <th>sum_75_avg</th>\n",
       "      <th>sum_985_avg</th>\n",
       "      <th>sum_100_avg</th>\n",
       "    </tr>\n",
       "  </thead>\n",
       "  <tbody>\n",
       "    <tr>\n",
       "      <th>0</th>\n",
       "      <td>ugx0CjOMzazClkFzU2xasmDZaoIqOUAZPsH1q0teWCg=</td>\n",
       "      <td>1</td>\n",
       "      <td>5.000</td>\n",
       "      <td>28.000</td>\n",
       "      <td>1</td>\n",
       "      <td>3.000</td>\n",
       "      <td>2013-12-23</td>\n",
       "      <td>1</td>\n",
       "      <td>0.000</td>\n",
       "      <td>0.000</td>\n",
       "      <td>...</td>\n",
       "      <td>27.000</td>\n",
       "      <td>1095.000</td>\n",
       "      <td>197.000</td>\n",
       "      <td>236255.000</td>\n",
       "      <td>68.000</td>\n",
       "      <td>2.265</td>\n",
       "      <td>0.647</td>\n",
       "      <td>0.309</td>\n",
       "      <td>0.397</td>\n",
       "      <td>16.103</td>\n",
       "    </tr>\n",
       "    <tr>\n",
       "      <th>1</th>\n",
       "      <td>f/NmvEzHfhINFEYZTR05prUdr+E+3+oewvweYz9cCQE=</td>\n",
       "      <td>1</td>\n",
       "      <td>13.000</td>\n",
       "      <td>20.000</td>\n",
       "      <td>1</td>\n",
       "      <td>3.000</td>\n",
       "      <td>2013-12-23</td>\n",
       "      <td>1</td>\n",
       "      <td>1.000</td>\n",
       "      <td>0.000</td>\n",
       "      <td>...</td>\n",
       "      <td>19.000</td>\n",
       "      <td>483.000</td>\n",
       "      <td>420.000</td>\n",
       "      <td>131851.000</td>\n",
       "      <td>357.000</td>\n",
       "      <td>0.241</td>\n",
       "      <td>0.081</td>\n",
       "      <td>0.031</td>\n",
       "      <td>0.053</td>\n",
       "      <td>1.353</td>\n",
       "    </tr>\n",
       "    <tr>\n",
       "      <th>2</th>\n",
       "      <td>zLo9f73nGGT1p21ltZC3ChiRnAVvgibMyazbCxvWPcg=</td>\n",
       "      <td>1</td>\n",
       "      <td>13.000</td>\n",
       "      <td>18.000</td>\n",
       "      <td>1</td>\n",
       "      <td>3.000</td>\n",
       "      <td>2013-12-27</td>\n",
       "      <td>3</td>\n",
       "      <td>1.000</td>\n",
       "      <td>0.000</td>\n",
       "      <td>...</td>\n",
       "      <td>210.000</td>\n",
       "      <td>3798.000</td>\n",
       "      <td>8811.000</td>\n",
       "      <td>1075051.000</td>\n",
       "      <td>559.000</td>\n",
       "      <td>11.453</td>\n",
       "      <td>0.760</td>\n",
       "      <td>0.358</td>\n",
       "      <td>0.376</td>\n",
       "      <td>6.794</td>\n",
       "    </tr>\n",
       "    <tr>\n",
       "      <th>3</th>\n",
       "      <td>K6fja4+jmoZ5xG6BypqX80Uw/XKpMgrEMdG2edFOxnA=</td>\n",
       "      <td>1</td>\n",
       "      <td>13.000</td>\n",
       "      <td>35.000</td>\n",
       "      <td>0</td>\n",
       "      <td>7.000</td>\n",
       "      <td>2014-01-25</td>\n",
       "      <td>4</td>\n",
       "      <td>0.000</td>\n",
       "      <td>0.000</td>\n",
       "      <td>...</td>\n",
       "      <td>42.000</td>\n",
       "      <td>1792.000</td>\n",
       "      <td>1969.000</td>\n",
       "      <td>460042.000</td>\n",
       "      <td>702.000</td>\n",
       "      <td>0.239</td>\n",
       "      <td>0.157</td>\n",
       "      <td>0.105</td>\n",
       "      <td>0.060</td>\n",
       "      <td>2.553</td>\n",
       "    </tr>\n",
       "    <tr>\n",
       "      <th>4</th>\n",
       "      <td>moRTKhKIDvb+C8ZHOgmaF4dXMLk0jOn65d7a8tQ2Eds=</td>\n",
       "      <td>1</td>\n",
       "      <td>9.000</td>\n",
       "      <td>28.000</td>\n",
       "      <td>0</td>\n",
       "      <td>3.000</td>\n",
       "      <td>2014-02-02</td>\n",
       "      <td>1</td>\n",
       "      <td>0.000</td>\n",
       "      <td>0.000</td>\n",
       "      <td>...</td>\n",
       "      <td>268.000</td>\n",
       "      <td>12692.000</td>\n",
       "      <td>9862.000</td>\n",
       "      <td>3363080.000</td>\n",
       "      <td>787.000</td>\n",
       "      <td>1.464</td>\n",
       "      <td>0.404</td>\n",
       "      <td>0.333</td>\n",
       "      <td>0.341</td>\n",
       "      <td>16.127</td>\n",
       "    </tr>\n",
       "  </tbody>\n",
       "</table>\n",
       "<p>5 rows × 28 columns</p>\n",
       "</div>"
      ],
      "text/plain": [
       "                                           msno  is_churn   city     bd  \\\n",
       "0  ugx0CjOMzazClkFzU2xasmDZaoIqOUAZPsH1q0teWCg=         1  5.000 28.000   \n",
       "1  f/NmvEzHfhINFEYZTR05prUdr+E+3+oewvweYz9cCQE=         1 13.000 20.000   \n",
       "2  zLo9f73nGGT1p21ltZC3ChiRnAVvgibMyazbCxvWPcg=         1 13.000 18.000   \n",
       "3  K6fja4+jmoZ5xG6BypqX80Uw/XKpMgrEMdG2edFOxnA=         1 13.000 35.000   \n",
       "4  moRTKhKIDvb+C8ZHOgmaF4dXMLk0jOn65d7a8tQ2Eds=         1  9.000 28.000   \n",
       "\n",
       "  gender  registered_via registration_init_time  client_level_code  \\\n",
       "0      1           3.000             2013-12-23                  1   \n",
       "1      1           3.000             2013-12-23                  1   \n",
       "2      1           3.000             2013-12-27                  3   \n",
       "3      0           7.000             2014-01-25                  4   \n",
       "4      0           3.000             2014-02-02                  1   \n",
       "\n",
       "   age_under26  last_last_churn  ...  sum_985   sum_100  sum_unq    sum_secs  \\\n",
       "0        0.000            0.000  ...   27.000  1095.000  197.000  236255.000   \n",
       "1        1.000            0.000  ...   19.000   483.000  420.000  131851.000   \n",
       "2        1.000            0.000  ...  210.000  3798.000 8811.000 1075051.000   \n",
       "3        0.000            0.000  ...   42.000  1792.000 1969.000  460042.000   \n",
       "4        0.000            0.000  ...  268.000 12692.000 9862.000 3363080.000   \n",
       "\n",
       "   timeperiod  sum_25_avg  sum_50_avg  sum_75_avg  sum_985_avg  sum_100_avg  \n",
       "0      68.000       2.265       0.647       0.309        0.397       16.103  \n",
       "1     357.000       0.241       0.081       0.031        0.053        1.353  \n",
       "2     559.000      11.453       0.760       0.358        0.376        6.794  \n",
       "3     702.000       0.239       0.157       0.105        0.060        2.553  \n",
       "4     787.000       1.464       0.404       0.333        0.341       16.127  \n",
       "\n",
       "[5 rows x 28 columns]"
      ]
     },
     "execution_count": 125,
     "metadata": {},
     "output_type": "execute_result"
    }
   ],
   "source": [
    "KKboxMemTranUserlog.dropna()\n",
    "print(KKboxMemTranUserlog.shape)\n",
    "KKboxMemTranUserlog.head()"
   ]
  },
  {
   "cell_type": "code",
   "execution_count": 129,
   "metadata": {},
   "outputs": [],
   "source": [
    "KKboxMemTranUserlog = KKboxMemTranUserlog[KKboxMemTranUserlog['sum_secs'] >= 0]"
   ]
  },
  {
   "cell_type": "code",
   "execution_count": 140,
   "metadata": {},
   "outputs": [],
   "source": [
    "KKboxMemTranUserlog = KKboxMemTranUserlog[KKboxMemTranUserlog['timeperiod'] != 0]"
   ]
  },
  {
   "cell_type": "code",
   "execution_count": 141,
   "metadata": {},
   "outputs": [],
   "source": [
    "# 存入csv\n",
    "KKboxMemTranUserlog.to_csv('KKboxMemTranUserlog.csv',index=False,header=True)"
   ]
  },
  {
   "cell_type": "code",
   "execution_count": 142,
   "metadata": {},
   "outputs": [
    {
     "data": {
      "text/plain": [
       "['msno',\n",
       " 'is_churn',\n",
       " 'city',\n",
       " 'bd',\n",
       " 'gender',\n",
       " 'registered_via',\n",
       " 'registration_init_time',\n",
       " 'client_level_code',\n",
       " 'age_under26',\n",
       " 'last_last_churn',\n",
       " 'last_auto_renew',\n",
       " 'age_level_code',\n",
       " 'is_discount',\n",
       " 'amount_per_day',\n",
       " 'longtime_user',\n",
       " 'sum_25',\n",
       " 'sum_50',\n",
       " 'sum_75',\n",
       " 'sum_985',\n",
       " 'sum_100',\n",
       " 'sum_unq',\n",
       " 'sum_secs',\n",
       " 'timeperiod',\n",
       " 'sum_25_avg',\n",
       " 'sum_50_avg',\n",
       " 'sum_75_avg',\n",
       " 'sum_985_avg',\n",
       " 'sum_100_avg']"
      ]
     },
     "execution_count": 142,
     "metadata": {},
     "output_type": "execute_result"
    }
   ],
   "source": [
    "list(KKboxMemTranUserlog.columns)"
   ]
  },
  {
   "cell_type": "markdown",
   "metadata": {},
   "source": [
    "---"
   ]
  },
  {
   "cell_type": "markdown",
   "metadata": {},
   "source": [
    "### ※特徵觀察整理\n",
    "\n",
    "|特徵|型態|說明|\n",
    "|:---:|:---:|:---:|\n",
    "|msno|str|user id|\n",
    "|is_churn|str|流失值|\n",
    "|city|str(one-hot encode)|用戶所在地區|\n",
    "|bd|float|年齡|\n",
    "|gender|str|性別|\n",
    "|registered_via|str(one-hot encode)|註冊路徑|\n",
    "|registration_init_time|date|註冊日期|\n",
    "|payment_method_id|str(one-hot encode)|付款方式|\n",
    "|payment_plan_days|float|付款方案天數|\n",
    "|plan_list_price|float|計畫方案價格|\n",
    "|actual_amount_paid|float|實際方案價格|\n",
    "|is_auto_renew|str|自動續約|\n",
    "|transaction_date|date|交易日期|\n",
    "|membership_expire_date|date|退訂或方案到期日|\n",
    "|is_cancel|str|是否手動退訂|\n",
    "|num_25/50/70/985/100|int|用戶聽歌完整度(%)|\n",
    "|num_unq|沒有說明|沒有說明|\n",
    "|total_secs|float|聽歌長度(sec)/day|\n",
    "\n",
    "#### Submission & Train-----\n",
    "* Submission作為測試集主要針對2017年3月退訂的客戶，於2017年4月是否續訂?Training Data則是2017年2月以前退訂，且30天內有無訂閱動作做為流失判定。Training Data的流失/續訂比差異較大(超過1:10)。\n",
    "\n",
    "#### Members-----\n",
    "* 特徵2. 用戶所在地區(city)；依目前觀察到的應有21個城市，但是沒有詳細說明哪些城市(且都以編碼表示)，只能進行分類以及各自城市用戶數有多少。\n",
    "* 特徵3. 年齡(bd)：年齡的數據有點亂，必須要篩掉一些不合理值。\n",
    "* 特徵4. 性別(gender)：性別的缺失值最多，達到約60%，可能要考慮如何處理缺失值。\n",
    "* 特徵5. 登入方式(registered_via)：共有5種登入方式，沒有特別說明，可能是不同的裝置。\n",
    "* 特徵6. 初始創建帳號日期(registration_init_time)：或許可以比較老用戶與新用戶流失值，以及比較聽歌時間的影響。\n",
    "#### 交易紀錄-----\n",
    "* 特徵7. 付款方式(payment_method_id)：交易付款方式都是以代號顯示，只能做分類(或許可以針對現有的付款方式去兜看看)。\n",
    "* 特徵8. 一次付款方案天數(payment_plan_days)：以天數為單位，觀察資料以30天為最多(月租)。\n",
    "* 特徵9. 計畫方案價格(plan_list_price)：應該與方案天數有高度相關(?\n",
    "* 特徵10. 實際付費價格(actual_amount_paid)：與特徵9應該高度相關(重合?\n",
    "* 特徵11. 自動續約(is_auto_renew)\n",
    "* 特徵12+13. 交易日期(transaction_date)&退訂或合約到期日(membership_expire_date)：若這兩者日期相減等同合約日期則表示合約到期；如相減不等於合約到期，則表示客戶提前退訂，可以觀察是否影響到後續流失率(30天內不再續訂)。\n",
    "* 特徵14. 取消(is_cancel)：客戶是否自動退訂，客戶自動退訂不等於流失(因為本資料流失的定義為退訂後30天沒有任何交易資料才算，所以有可能客戶退訂是為了要訂其他不同天方案。\n",
    "#### 用戶紀錄(聽歌)-----\n",
    "* 特徵15. 用戶聽歌完整度(num_25/50/70/985/100)：98.5%應該可以與100%完整聽完一樣意思(合併?)；聽不到25%的比例多的話是否代表沒有喜歡聽的類型，可能與流失值有關(?\n",
    "* 特徵16. num_unq：沒有說明。\n",
    "* 特徵17. 總聽歌長度(total_secs)：可以與註冊時間長短比例做比較來確認與流失值的關係(?\n",
    "* 特徵18. 用戶id(msno)：可以拿來在不同資料做欄位對應。"
   ]
  },
  {
   "cell_type": "markdown",
   "metadata": {},
   "source": [
    "---"
   ]
  },
  {
   "cell_type": "code",
   "execution_count": null,
   "metadata": {},
   "outputs": [],
   "source": []
  }
 ],
 "metadata": {
  "kernelspec": {
   "display_name": "Python 3",
   "language": "python",
   "name": "python3"
  },
  "language_info": {
   "codemirror_mode": {
    "name": "ipython",
    "version": 3
   },
   "file_extension": ".py",
   "mimetype": "text/x-python",
   "name": "python",
   "nbconvert_exporter": "python",
   "pygments_lexer": "ipython3",
   "version": "3.6.8"
  }
 },
 "nbformat": 4,
 "nbformat_minor": 2
}
