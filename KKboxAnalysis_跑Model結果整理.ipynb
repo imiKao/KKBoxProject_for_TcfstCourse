{
 "cells": [
  {
   "cell_type": "markdown",
   "metadata": {},
   "source": [
    "##### 使用特徵\n",
    "\n",
    "|使用特徵|\n",
    "|--|\n",
    "|年齡|\n",
    "|獲得折扣次數|\n",
    "|使用方案的平均每日花費\t|\n",
    "|聽歌未達25%長度數量|\n",
    "|聽歌未達50%長度數量|\n",
    "|聽歌未達75%長度數量|\n",
    "|聽歌未達98.5%長度數量|\n",
    "|聽完整首歌數量|\n",
    "|聽歌總秒數|\n",
    "|聽歌天數|\n",
    "|自動續約次數|\n",
    "|手動取消方案次數|\n",
    "|交易次數|\n",
    "|離散使用方案的用戶|\n",
    "|前次是否自動續約|\n",
    "|長期用戶(超過一年)|"
   ]
  },
  {
   "cell_type": "markdown",
   "metadata": {},
   "source": [
    "<table>\n",
    "\n",
    "<td> \n",
    "<h5><center> ROC Curve </center></h5> \n",
    "<img src=\"https://github.com/imiKao/KKBoxProject_for_TcfstCourse/blob/master/Images/Model_Rattle/AllModel_ROC.png?raw=true\">\n",
    "</td>\n",
    "<td> \n",
    "<h5><center> Precision vs Recall (PR Curve) </center></h5> \n",
    "<img src=\"https://github.com/imiKao/KKBoxProject_for_TcfstCourse/blob/master/Images/Model_Rattle/AllModel_PrecisionRecallCurve.png?raw=true\">\n",
    "</td> \n",
    "</table>"
   ]
  },
  {
   "cell_type": "markdown",
   "metadata": {},
   "source": [
    "|模型驗證指標|說明|\n",
    "|--|--|\n",
    "|Accuracy(精確度)|流失與非流失正確被分類出之比率|\n",
    "|Precision(準確率)|預測為流失的用戶中，實際為流失的比率|\n",
    "|Recall(召回率)|實際為流失的用戶中，預測為流失的比率|\n",
    "|Specificity(明確度)|實際非流失的用戶中，預測為非流失的比率|\n",
    "|F-score(F指標)| Precision 跟 Recall 的調和平均數，可作為不平衡分類問題的衡量指標|\n",
    "|ROC曲線|x軸:實際沒流失，預測流失的比例; y軸:實際流失，預測流失的比例|\n",
    "|AUC|ROC曲線下面積，一般AUC值大的模型比AUC值小的模型的效能好|"
   ]
  },
  {
   "cell_type": "markdown",
   "metadata": {},
   "source": [
    "##### 經過數據對稱整理後的模型驗證\n",
    "\n",
    "|模型|Accuracy(準確度)|Precision(精確率)|Recall(召回率)|Specificity(明確度)|F-score(F指標)|AUC|\n",
    "|-|-|-|-|-|-|-|\n",
    "|Decision Tree|74.8%|72.9%|72.8%|76.6%|72.8%|0.75|\n",
    "|Random Forest|81.4%|83.7%|74.4%|87.4%|78.8%|0.81|\n",
    "|XGBoost|81.6%|83.6%|75.1%|87.2%|79.1%|0.89|\n",
    "|Linear Regression|77.6%|80.2%|68.2%|85.6%|73.7%|0.83|\n",
    "|Neural Network|77.9%|79.6%|69.9%|84.7%|74.5%|0.84|\n",
    "|LightGBM|82.3%|84.9%|75.4%|88.4%|79.9%|0.82|"
   ]
  },
  {
   "cell_type": "markdown",
   "metadata": {},
   "source": [
    "<table>\n",
    "<td> \n",
    "<h5><center> Decision Tree </center></h5> \n",
    "<img src=\"https://github.com/imiKao/KKBoxProject_for_TcfstCourse/blob/master/Images/Model_Rattle/DecisionTree_ROC.png?raw=true\" title=\"123\">\n",
    "</td> \n",
    "<td> \n",
    "<h5><center> Random Forest </center></h5> \n",
    "<img src=\"https://github.com/imiKao/KKBoxProject_for_TcfstCourse/blob/master/Images/Model_Rattle/XGBoost_ROC.png?raw=true\">\n",
    "</td> \n",
    "<td> \n",
    "<h5><center> XGBoost </center></h5> \n",
    "<img src=\"https://github.com/imiKao/KKBoxProject_for_TcfstCourse/blob/master/Images/Model_Rattle/RandomForest_ROC.png?raw=true\">\n",
    "</td> \n",
    "\n",
    "<td> \n",
    "<h5><center> Linear Regression </center></h5> \n",
    "<img src=\"https://github.com/imiKao/KKBoxProject_for_TcfstCourse/blob/master/Images/Model_Rattle/LR_ROC.png?raw=true\">\n",
    "</td> \n",
    "<td> \n",
    "<h5><center> Neural Network </center></h5> \n",
    "<img src=\"https://github.com/imiKao/KKBoxProject_for_TcfstCourse/blob/master/Images/Model_Rattle/NN_ROC.png?raw=true\">\n",
    "</td> \n",
    "</table>\n",
    "<caption><center> ROC Curve </center></caption>"
   ]
  },
  {
   "cell_type": "markdown",
   "metadata": {},
   "source": [
    "---"
   ]
  },
  {
   "cell_type": "markdown",
   "metadata": {},
   "source": [
    "<table>\n",
    "<td> \n",
    "<h5><center> Decision Tree </center></h5> \n",
    "<img src=\"https://github.com/imiKao/KKBoxProject_for_TcfstCourse/blob/master/Images/Model_Rattle/DecisionTree_cm.png?raw=true\">\n",
    "</td> \n",
    "<td> \n",
    "<h5><center> Random Forest </center></h5> \n",
    "<img src=\"https://github.com/imiKao/KKBoxProject_for_TcfstCourse/blob/master/Images/Model_Rattle/RandomForest_cm.png?raw=true\">\n",
    "</td> \n",
    "<td> \n",
    "<h5><center> Linear Regression </center></h5> \n",
    "<img src=\"https://github.com/imiKao/KKBoxProject_for_TcfstCourse/blob/master/Images/Model_Rattle/LR_cm.png?raw=true\">\n",
    "</td> \n",
    "<td> \n",
    "<h5><center> Neural Network </center></h5> \n",
    "<img src=\"https://github.com/imiKao/KKBoxProject_for_TcfstCourse/blob/master/Images/Model_Rattle/NN_cm.png?raw=true\">\n",
    "</td> \n",
    "</table>\n",
    "<caption><center> ROC Curve </center></caption>"
   ]
  },
  {
   "cell_type": "code",
   "execution_count": 17,
   "metadata": {},
   "outputs": [
    {
     "name": "stdout",
     "output_type": "stream",
     "text": [
      "0.8136600877950987\n",
      "0.8365843449141901\n",
      "0.7439696247766527\n",
      "0.8740563907348862\n",
      "0.7875635417898096\n"
     ]
    }
   ],
   "source": [
    "TP = 9993\n",
    "TN = 13547\n",
    "FP = 1952\n",
    "FN = 3439\n",
    "\n",
    "Accuracy = (TP + TN) / (TP + FP + TN + FN)  # (TP + TN) / (TP + FP + TN + FN)\n",
    "Precision = TP/(TP+FP) # TP/(TP+FP)\n",
    "Recall = TP/(TP+FN)  # TP/(TP+FN)\n",
    "Specificity =  TN/(FP+TN)\n",
    "F_score = 2*Precision*Recall / (Precision+Recall)\n",
    "print(Accuracy)\n",
    "print(Precision)\n",
    "print(Recall)\n",
    "print(Specificity)\n",
    "print(F_score)"
   ]
  },
  {
   "cell_type": "code",
   "execution_count": null,
   "metadata": {},
   "outputs": [],
   "source": []
  }
 ],
 "metadata": {
  "kernelspec": {
   "display_name": "Python 3",
   "language": "python",
   "name": "python3"
  },
  "language_info": {
   "codemirror_mode": {
    "name": "ipython",
    "version": 3
   },
   "file_extension": ".py",
   "mimetype": "text/x-python",
   "name": "python",
   "nbconvert_exporter": "python",
   "pygments_lexer": "ipython3",
   "version": "3.6.8"
  }
 },
 "nbformat": 4,
 "nbformat_minor": 2
}
