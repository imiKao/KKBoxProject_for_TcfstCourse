{
 "cells": [
  {
   "cell_type": "markdown",
   "metadata": {},
   "source": [
    "### 1. 針對RAW DATA訓練之模型驗證"
   ]
  },
  {
   "cell_type": "markdown",
   "metadata": {},
   "source": [
    "\n",
    "|模型|train_score(訓練集準確度)|test_score(測試集準確度)|\tAUC(ROC曲線下面積)|train_time(sec)|\n",
    "|-|-|-|-|-|\n",
    "|Gradient Boosting Classifier|\t97.5%\t|97.2%|\t98%\t|461.1|\n",
    "|Random Forest|\t100.0%\t|97.2%\t|97%|\t421.8|\n",
    "|Logistic Regression\t|95.7%|\t95.7%|95%|\t11.0|\n",
    "|Naive Bayes|\t89.1%|\t89.1%|90%\t|0.5|\n",
    "|Decision Tree|\t100.0%|95.6%|78%|\t4.9|\n",
    "|Nearest Neighbors|\t95.5%|94.8%|67%|4.7|\n",
    "|Neural Net|\t94.9%|94.9%|56%|\t18.1|\n",
    "\n",
    "\n"
   ]
  },
  {
   "cell_type": "markdown",
   "metadata": {},
   "source": [
    "### 小結：模型準確度過高，發現數據不平衡問題現象。"
   ]
  },
  {
   "cell_type": "markdown",
   "metadata": {},
   "source": [
    "---"
   ]
  },
  {
   "cell_type": "markdown",
   "metadata": {},
   "source": [
    "### 2. 經過數據對稱整理後的模型驗證"
   ]
  },
  {
   "cell_type": "markdown",
   "metadata": {},
   "source": [
    "\n",
    "\n",
    "|模型|Accuracy(準確度)|Precision(精確率)|Recall(召回率)|Specificity(明確度)|F1-score(F指標)|AUC(ROC曲線下面積)|\n",
    "|-|-|-|-|-|-|-|\n",
    "|XGBoost|81.6%|83.6%|75.1%|87.2%|79.1%|89%|\n",
    "|Neural Network|77.9%|79.6%|69.9%|84.7%|74.5%|84%|\n",
    "|Linear Regression|77.6%|80.2%|68.2%|85.6%|73.7%|83%|\n",
    "|Random Forest|81.4%|83.7%|74.4%|87.4%|78.8%|81%|\n",
    "|Decision Tree|74.8%|72.9%|72.8%|76.6%|72.8%|75%|\n",
    "|LightGBM|82.3%|84.9%|75.4%|88.4%|79.9%|82%|"
   ]
  },
  {
   "cell_type": "markdown",
   "metadata": {},
   "source": [
    "<table>\n",
    "\n",
    "<td> \n",
    "<h5><center> ROC Curve </center></h5> \n",
    "<img src=\"https://github.com/imiKao/KKBoxProject_for_TcfstCourse/blob/master/Images/Model_Rattle/AllModel_ROC.png?raw=true\">\n",
    "</td>\n",
    "<td> \n",
    "<h5><center> Precision vs Recall (PR Curve) </center></h5> \n",
    "<img src=\"https://github.com/imiKao/KKBoxProject_for_TcfstCourse/blob/master/Images/Model_Rattle/AllModel_PrecisionRecallCurve.png?raw=true\">\n",
    "</td> \n",
    "</table>"
   ]
  },
  {
   "cell_type": "markdown",
   "metadata": {},
   "source": [
    "---"
   ]
  },
  {
   "cell_type": "markdown",
   "metadata": {},
   "source": [
    "### 3. 模型交叉驗證結果\n",
    "\n"
   ]
  },
  {
   "cell_type": "markdown",
   "metadata": {},
   "source": [
    "|模型 | Precision(精確率) |   Recall(召回率)  | F1_score(F指標) |    AUC(ROC曲線下面積)|     \n",
    "|           ---------------           | --------- |   ------  | -------- |    ---    | \n",
    "|               XGboost               |   84.1%   |    72.5%  |   77.8%  |   88.6%   | \n",
    "|           Random Forest             |   83.5%   |    74.6%  |   78.8%  |   87.7%   | \n",
    "|          Linear regression          |   80.0%   |    68.6%  |   73.9%  |   83.1%   |   \n",
    "|           Decision tree             |   73.2%   |    73.3%  |   73.2%  |   76.3%   |   \n",
    "|              Lightgbm               |   84.4%   |    76.4%  |   80.2%  |   89.5%   |   \n",
    "|                Gbdt                 |   83.9%   |    72.9%  |   78.0%  |   88.6%   | "
   ]
  },
  {
   "cell_type": "markdown",
   "metadata": {},
   "source": [
    "<table>\n",
    "\n",
    "<td> \n",
    "<h5><center> ROC Curve </center></h5> \n",
    "<img src=\"https://github.com/imiKao/KKBoxProject_for_TcfstCourse/blob/master/Images/ModelImage/ROC_2.jpg?raw=true\">\n",
    "</td>\n",
    "</table>"
   ]
  },
  {
   "cell_type": "markdown",
   "metadata": {},
   "source": [
    "---"
   ]
  },
  {
   "cell_type": "markdown",
   "metadata": {},
   "source": [
    "### 4. 最終使用特徵共15個"
   ]
  },
  {
   "cell_type": "markdown",
   "metadata": {},
   "source": [
    "|特徵|欄位資訊|\n",
    "|--|--|\n",
    "|城市|共22種城市，raw data以不同編號分類|\n",
    "|年齡|範圍1~99歲|\n",
    "|性別|分類男、女|\n",
    "|使用裝置|共有5種使用裝置，raw data以不同編號分類|\n",
    "|離散使用方案的用戶|前次方案使用前是否有超過30天未訂閱任何KKBox服務|\n",
    "|前次是否自動續約|本次與前次方案是否使用自動訂閱|\n",
    "|獲得折扣次數|平均每位用戶使用折扣次數|\n",
    "|使用方案的平均每日花費|--|\n",
    "|長期用戶|使用總方案是否超過一年者|\n",
    "|聽完整首歌的數量|--|\n",
    "|平均聽歌總時間|--|\n",
    "|總聽歌天數|--|\n",
    "|最常使用付款方式|--|\n",
    "|手動取消的次數|手動取消過方案的次數|\n",
    "|交易次數|--|"
   ]
  },
  {
   "cell_type": "markdown",
   "metadata": {},
   "source": [
    "---"
   ]
  },
  {
   "cell_type": "markdown",
   "metadata": {},
   "source": [
    "### 5. 視覺化(以XGBoost為例)"
   ]
  },
  {
   "cell_type": "code",
   "execution_count": null,
   "metadata": {},
   "outputs": [],
   "source": []
  },
  {
   "cell_type": "markdown",
   "metadata": {},
   "source": [
    "---"
   ]
  },
  {
   "cell_type": "markdown",
   "metadata": {},
   "source": [
    "## 名詞解釋"
   ]
  },
  {
   "cell_type": "markdown",
   "metadata": {},
   "source": [
    "##### ROC(Receiver operating characteristic curve)曲線意義\n",
    "\n",
    "* 目的:判別模型對於流失率的鑑別能力(可用AUC面積鑑別)\n",
    "* 特點:任何一個在曲線上的點都會對應一個用於區分流失與非流失的分界點\n",
    "* 優點:考慮了所有可能的診斷臨界值的影響；全面客觀地評價診斷試驗的準確性\n",
    "\n",
    "\n",
    "|X軸|Y軸|\n",
    "|-|-|\n",
    "|沒流失的用戶，被判定為流失的比例|流失的用戶，被判定為流失的比例|\n",
    "|1-特異度(Specificity)|敏感度(Sensitivity)|\n",
    "|偽陽性率(false-posiitive rate)|真陽性率(true positive rate)|\n",
    "\n",
    "<img src=\"https://github.com/imiKao/KKBoxProject_for_TcfstCourse/blob/master/Images/Model_Rattle/AllModel_ROC.png?raw=true\" width=\"40%\">"
   ]
  },
  {
   "cell_type": "markdown",
   "metadata": {},
   "source": [
    "##### AUC面積(Area Under Curve)\n",
    "\n",
    "* 用以判別ROC曲線的鑑別力\n",
    "\n",
    "|範圍|鑑別力|\n",
    "|-|-|\n",
    "|AUC=0.5 |no discrimination(無鑑別力)|\n",
    "|0.7≦AUC≦0.8|acceptable discrimination(可接受的鑑別力)|\n",
    "|0.8≦AUC≦0.9|excellent discrimination(優良的鑑別力)|\n",
    "|0.9≦AUC≦1.0|outstanding discrimination(極佳的鑑別力)|\n",
    "\n",
    "<img src=\"https://github.com/zhwhong/zhwhong.github.io/blob/blog-source/source/_posts/2017-04-14.ROC-AUC-Precision-Recall-analysis/5.png?raw=true\" width=\"60%\">"
   ]
  },
  {
   "cell_type": "code",
   "execution_count": null,
   "metadata": {},
   "outputs": [],
   "source": []
  }
 ],
 "metadata": {
  "kernelspec": {
   "display_name": "Python 3",
   "language": "python",
   "name": "python3"
  },
  "language_info": {
   "codemirror_mode": {
    "name": "ipython",
    "version": 3
   },
   "file_extension": ".py",
   "mimetype": "text/x-python",
   "name": "python",
   "nbconvert_exporter": "python",
   "pygments_lexer": "ipython3",
   "version": "3.6.8"
  }
 },
 "nbformat": 4,
 "nbformat_minor": 2
}
