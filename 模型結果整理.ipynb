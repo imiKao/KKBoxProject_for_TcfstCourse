{
 "cells": [
  {
   "cell_type": "markdown",
   "metadata": {},
   "source": [
    "### 1. 斯皮爾曼等級相關係數"
   ]
  },
  {
   "cell_type": "markdown",
   "metadata": {},
   "source": [
    "<img src=\"https://github.com/imiKao/KKBoxProject_for_TcfstCourse/blob/master/Images/ModelImage/0_%E6%96%AF%E7%9A%AE%E7%88%BE%E6%9B%BC%E7%AD%89%E7%B4%9A%E7%9B%B8%E9%97%9C%E4%BF%82%E6%95%B8.png?raw=true\" width=\"60%\">"
   ]
  },
  {
   "cell_type": "markdown",
   "metadata": {},
   "source": [
    "### 2. 針對RAW DATA訓練之模型驗證"
   ]
  },
  {
   "cell_type": "markdown",
   "metadata": {},
   "source": [
    "\n",
    "|模型|train_score(訓練集準確度)|test_score(測試集準確度)|\tAUC(ROC曲線下面積)|train_time(sec)|\n",
    "|-|-|-|-|-|\n",
    "|Gradient Boosting Classifier|\t97.5%\t|97.2%|\t98%\t|461.1|\n",
    "|Random Forest|\t100.0%\t|97.2%\t|97%|\t421.8|\n",
    "|Logistic Regression\t|95.7%|\t95.7%|95%|\t11.0|\n",
    "|Naive Bayes|\t89.1%|\t89.1%|90%\t|0.5|\n",
    "|Decision Tree|\t100.0%|95.6%|78%|\t4.9|\n",
    "|Nearest Neighbors|\t95.5%|94.8%|67%|4.7|\n",
    "|Neural Net|\t94.9%|94.9%|56%|\t18.1|\n",
    "\n",
    "\n"
   ]
  },
  {
   "cell_type": "markdown",
   "metadata": {},
   "source": [
    "### 小結：模型準確度過高，發現數據不平衡問題現象。"
   ]
  },
  {
   "cell_type": "markdown",
   "metadata": {},
   "source": [
    "---"
   ]
  },
  {
   "cell_type": "markdown",
   "metadata": {},
   "source": [
    "### 3. 經過數據對稱整理後的模型驗證"
   ]
  },
  {
   "cell_type": "markdown",
   "metadata": {},
   "source": [
    "\n",
    "\n",
    "|模型|Accuracy(準確度)|Precision(精確率)|Recall(召回率)|Specificity(明確度)|F1-score(F指標)|AUC(ROC曲線下面積)|\n",
    "|-|-|-|-|-|-|-|\n",
    "|XGBoost|81.6%|83.6%|75.1%|87.2%|79.1%|89%|\n",
    "|Neural Network|77.9%|79.6%|69.9%|84.7%|74.5%|84%|\n",
    "|Linear Regression|77.6%|80.2%|68.2%|85.6%|73.7%|83%|\n",
    "|Random Forest|81.4%|83.7%|74.4%|87.4%|78.8%|81%|\n",
    "|Decision Tree|74.8%|72.9%|72.8%|76.6%|72.8%|75%|\n",
    "|LightGBM|82.3%|84.9%|75.4%|88.4%|79.9%|82%|"
   ]
  },
  {
   "cell_type": "markdown",
   "metadata": {},
   "source": [
    "<table>\n",
    "\n",
    "<td> \n",
    "<h5><center> ROC Curve </center></h5> \n",
    "<img src=\"https://github.com/imiKao/KKBoxProject_for_TcfstCourse/blob/master/Images/Model_Rattle/AllModel_ROC.png?raw=true\" width=\"60%\">\n",
    "</td>\n",
    "<td> \n",
    "<h5><center> Precision vs Recall (PR Curve) </center></h5> \n",
    "<img src=\"https://github.com/imiKao/KKBoxProject_for_TcfstCourse/blob/master/Images/Model_Rattle/AllModel_PrecisionRecallCurve.png?raw=true\" width=\"60%\">\n",
    "</td> \n",
    "</table>"
   ]
  },
  {
   "cell_type": "markdown",
   "metadata": {},
   "source": [
    "<table>\n",
    "<td> \n",
    "<h5><center> Decision Tree </center></h5> \n",
    "<img src=\"https://github.com/imiKao/KKBoxProject_for_TcfstCourse/blob/master/Images/Model_Rattle/DecisionTree_ROC.png?raw=true\" title=\"123\">\n",
    "</td> \n",
    "<td> \n",
    "<h5><center> Random Forest </center></h5> \n",
    "<img src=\"https://github.com/imiKao/KKBoxProject_for_TcfstCourse/blob/master/Images/Model_Rattle/XGBoost_ROC.png?raw=true\">\n",
    "</td> \n",
    "<td> \n",
    "<h5><center> XGBoost </center></h5> \n",
    "<img src=\"https://github.com/imiKao/KKBoxProject_for_TcfstCourse/blob/master/Images/Model_Rattle/RandomForest_ROC.png?raw=true\">\n",
    "</td> \n",
    "\n",
    "<td> \n",
    "<h5><center> Linear Regression </center></h5> \n",
    "<img src=\"https://github.com/imiKao/KKBoxProject_for_TcfstCourse/blob/master/Images/Model_Rattle/LR_ROC.png?raw=true\">\n",
    "</td> \n",
    "<td> \n",
    "<h5><center> Neural Network </center></h5> \n",
    "<img src=\"https://github.com/imiKao/KKBoxProject_for_TcfstCourse/blob/master/Images/Model_Rattle/NN_ROC.png?raw=true\">\n",
    "</td> \n",
    "</table>\n",
    "<caption><center> ROC Curve </center></caption>"
   ]
  },
  {
   "cell_type": "code",
   "execution_count": null,
   "metadata": {},
   "outputs": [],
   "source": []
  },
  {
   "cell_type": "markdown",
   "metadata": {},
   "source": [
    "---"
   ]
  },
  {
   "cell_type": "markdown",
   "metadata": {},
   "source": [
    "### 3. 模型交叉驗證結果\n",
    "\n"
   ]
  },
  {
   "cell_type": "markdown",
   "metadata": {},
   "source": [
    "|模型 | Precision(精確率) |   Recall(召回率)  | F1_score(F指標) |    AUC(ROC曲線下面積)|     \n",
    "|           ---------------           | --------- |   ------  | -------- |    ---    | \n",
    "|               XGboost               |   84.1%   |    72.5%  |   77.8%  |   88.6%   | \n",
    "|           Random Forest             |   83.5%   |    74.6%  |   78.8%  |   87.7%   | \n",
    "|          Linear regression          |   80.0%   |    68.6%  |   73.9%  |   83.1%   |   \n",
    "|           Decision tree             |   73.2%   |    73.3%  |   73.2%  |   76.3%   |   \n",
    "|              Lightgbm               |   84.4%   |    76.4%  |   80.2%  |   89.5%   |   \n",
    "|                Gbdt                 |   83.9%   |    72.9%  |   78.0%  |   88.6%   | "
   ]
  },
  {
   "cell_type": "markdown",
   "metadata": {},
   "source": [
    "#### 針對模型描述ROC曲線與PR曲線，可得到目前表現較佳之模型，並加入經處理之特徵後，對於流失/非流失目標有一定程度上之評判能力。"
   ]
  },
  {
   "cell_type": "markdown",
   "metadata": {},
   "source": [
    "<table>\n",
    "\n",
    "<td> \n",
    "<h5><center> ROC Curve </center></h5> \n",
    "<img src=\"https://github.com/imiKao/KKBoxProject_for_TcfstCourse/blob/master/Images/ModelImage/ROC_2.jpg?raw=true\">\n",
    "</td>\n",
    "<td> \n",
    "<h5><center> PR Curve </center></h5> \n",
    "<img src=\"https://github.com/imiKao/KKBoxProject_for_TcfstCourse/blob/master/Images/ModelImage/PRcurve.png?raw=true\">\n",
    "</td>\n",
    "</table>"
   ]
  },
  {
   "cell_type": "markdown",
   "metadata": {},
   "source": [
    "<img src=\"https://github.com/imiKao/KKBoxProject_for_TcfstCourse/blob/master/Images/ModelImage/XGBoost_F1PR.png?raw=true\" width=\"60%\">"
   ]
  },
  {
   "cell_type": "markdown",
   "metadata": {},
   "source": [
    "---"
   ]
  },
  {
   "cell_type": "markdown",
   "metadata": {},
   "source": [
    "### 4. 使用特徵(共15個)"
   ]
  },
  {
   "cell_type": "markdown",
   "metadata": {},
   "source": [
    "<img src=\"https://github.com/imiKao/KKBoxProject_for_TcfstCourse/blob/master/Images/ModelImage/%E7%89%B9%E5%BE%B5%E6%B3%A1%E6%B3%A1%E5%9C%96.png?raw=true\" width=\"80%\">"
   ]
  },
  {
   "cell_type": "markdown",
   "metadata": {},
   "source": [
    "|特徵|欄位資訊|\n",
    "|--|--|\n",
    "|城市|共22種城市，raw data以不同編號分類|\n",
    "|年齡|範圍1~99歲|\n",
    "|性別|分類男、女|\n",
    "|使用裝置|共有5種使用裝置，raw data以不同編號分類|\n",
    "|離散使用方案的用戶|前次方案使用前是否有超過30天未訂閱任何KKBox服務|\n",
    "|前次是否自動續約|本次與前次方案是否使用自動訂閱|\n",
    "|獲得折扣次數|平均每位用戶使用折扣次數|\n",
    "|使用方案的平均每日花費|--|\n",
    "|長期用戶|使用總方案是否超過一年者|\n",
    "|聽完整首歌的數量|--|\n",
    "|平均聽歌總時間|--|\n",
    "|總聽歌天數|--|\n",
    "|最常使用付款方式|--|\n",
    "|手動取消的次數|手動取消過方案的次數|\n",
    "|交易次數|--|"
   ]
  },
  {
   "cell_type": "markdown",
   "metadata": {},
   "source": [
    "---"
   ]
  },
  {
   "cell_type": "markdown",
   "metadata": {},
   "source": [
    "### 5. 視覺化(以XGBoost為例)"
   ]
  },
  {
   "cell_type": "markdown",
   "metadata": {},
   "source": [
    "<h5><center> Number of Features Selected VS Accuracy of the Model </center></h5> \n",
    "<img src=\"https://github.com/imiKao/KKBoxProject_for_TcfstCourse/blob/master/Images/ModelImage/Number%20of%20Features%20Selected%20VS%20Accuracy%20of%20the%20Model.png?raw=true\">\n",
    "\n",
    "<h5><center> Threshold-based features selection VS Accuracy of the Model </center></h5> \n",
    "<img src=\"https://github.com/imiKao/KKBoxProject_for_TcfstCourse/blob/master/Images/ModelImage/Threshold-based%20features%20selection%20VS%20Accuracy%20of%20the%20Model.png?raw=true\">"
   ]
  },
  {
   "cell_type": "markdown",
   "metadata": {},
   "source": [
    "---"
   ]
  },
  {
   "cell_type": "markdown",
   "metadata": {},
   "source": [
    "## 名詞解釋"
   ]
  },
  {
   "cell_type": "markdown",
   "metadata": {},
   "source": [
    "### ※ 模型評估指標\n",
    "<img src=\"https://github.com/imiKao/KKBoxProject_for_TcfstCourse/blob/master/Images/ModelImage/%E6%A8%A1%E5%9E%8B%E8%A9%95%E4%BC%B0%E6%8C%87%E6%A8%99%E5%BD%99%E6%95%B4_1.png?raw=true\">"
   ]
  },
  {
   "cell_type": "markdown",
   "metadata": {},
   "source": [
    "### ※ 評估指標—ROC(Receiver operating characteristic curve)曲線意義\n",
    "\n",
    "* 目的:判別模型對於流失率的鑑別能力(可用AUC面積鑑別)\n",
    "* 特點:任何一個在曲線上的點都會對應一個用於區分流失與非流失的分界點\n",
    "* 優點:考慮了所有可能的診斷臨界值的影響；全面客觀地評價診斷試驗的準確性\n",
    "\n",
    "<img src=\"https://github.com/imiKao/KKBoxProject_for_TcfstCourse/blob/master/Images/ModelImage/%E6%A8%A1%E5%9E%8B%E8%A9%95%E4%BC%B0%E6%8C%87%E6%A8%99_ROC&AUC.png?raw=true\">"
   ]
  },
  {
   "cell_type": "markdown",
   "metadata": {},
   "source": [
    "<img src=\"https://github.com/zhwhong/zhwhong.github.io/blob/blog-source/source/_posts/2017-04-14.ROC-AUC-Precision-Recall-analysis/5.png?raw=true\" width=\"60%\">"
   ]
  },
  {
   "cell_type": "markdown",
   "metadata": {},
   "source": [
    "### ※ 評估指標—PR曲線\n",
    "\n",
    "<img src=\"https://github.com/imiKao/KKBoxProject_for_TcfstCourse/blob/master/Images/ModelImage/%E6%A8%A1%E5%9E%8B%E8%A9%95%E4%BC%B0%E6%8C%87%E6%A8%99_PR.png?raw=true\">"
   ]
  },
  {
   "cell_type": "code",
   "execution_count": null,
   "metadata": {},
   "outputs": [],
   "source": []
  }
 ],
 "metadata": {
  "kernelspec": {
   "display_name": "Python 3",
   "language": "python",
   "name": "python3"
  },
  "language_info": {
   "codemirror_mode": {
    "name": "ipython",
    "version": 3
   },
   "file_extension": ".py",
   "mimetype": "text/x-python",
   "name": "python",
   "nbconvert_exporter": "python",
   "pygments_lexer": "ipython3",
   "version": "3.6.8"
  }
 },
 "nbformat": 4,
 "nbformat_minor": 2
}
